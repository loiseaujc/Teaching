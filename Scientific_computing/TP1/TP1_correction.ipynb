{
 "cells": [
  {
   "cell_type": "markdown",
   "metadata": {},
   "source": [
    "<div class=\"row\">\n",
    "  <div class=\"column\">\n",
    "<img align=\"left\" width=\"200\" height=\"42\" src=\"https://assets.ensam.eu/logo/fr/logo-trans-322x84.png\" />  </div>\n",
    "  <div class=\"column\">\n",
    "<img align=\"right\" width=\"120\" height=\"42\" src=\"https://upload.wikimedia.org/wikipedia/commons/b/bd/CC-BY-NC-SA.svg\"/>  </div>\n",
    "</div>"
   ]
  },
  {
   "cell_type": "markdown",
   "metadata": {},
   "source": [
    "Jean-Christophe Loiseau  \n",
    "Maître de Conférences  \n",
    "&#128231; : jean-christophe.loiseau@ensam.eu  \n",
    "&#128197; : Février 2020"
   ]
  },
  {
   "cell_type": "code",
   "execution_count": 2,
   "metadata": {},
   "outputs": [],
   "source": [
    "#####################################\n",
    "#####     NE TOUCHEZ A RIEN     #####\n",
    "#####################################\n",
    "\n",
    "import sys\n",
    "\n",
    "def assert_equals(var1, var2):\n",
    "    \"\"\"\n",
    "    Fonction de test vérifiant l'égalité des\n",
    "    deux variables d'entrée.\n",
    "    \"\"\"\n",
    "    return var1 == var2"
   ]
  },
  {
   "cell_type": "markdown",
   "metadata": {},
   "source": [
    "#### 1. Importez le module `numpy` en tant que `np` (&#9733;&#9734;&#9734;&#9734;&#9734;)"
   ]
  },
  {
   "cell_type": "code",
   "execution_count": 3,
   "metadata": {},
   "outputs": [],
   "source": [
    "import numpy as np"
   ]
  },
  {
   "cell_type": "code",
   "execution_count": 4,
   "metadata": {},
   "outputs": [
    {
     "data": {
      "text/plain": [
       "True"
      ]
     },
     "execution_count": 4,
     "metadata": {},
     "output_type": "execute_result"
    }
   ],
   "source": [
    "assert_equals(\"numpy\" in sys.modules, True)"
   ]
  },
  {
   "cell_type": "markdown",
   "metadata": {},
   "source": [
    "> NumPy est une extension du langage de programmation Python, destinée à manipuler des matrices ou tableaux multidimensionnels ainsi que des fonctions mathématiques opérant sur ces tableaux.\n",
    "Plus précisément, cette bibliothèque logicielle libre et open source fournit de multiples fonctions permettant notamment de créer directement un tableau depuis un fichier ou au contraire de sauvegarder un tableau dans un fichier, et manipuler des vecteurs, matrices et polynômes.\n",
    ">\n",
    "> <cite>[Wikipedia](https://fr.wikipedia.org/wiki/NumPy)</cite>\n",
    "\n",
    "Vous pourrez trouver plus de détails concernant `numpy` à l'adresse suivante : [https://docs.scipy.org/doc/numpy/index.html](https://docs.scipy.org/doc/numpy/index.html).\n",
    "\n",
    "#### 2. Vérifiez la version avec `np.__version__` et sa configuration avec `np.show_config()` (&#9733;&#9734;&#9734;&#9734;&#9734;)\n",
    "\n",
    "`numpy` est une bibliothèque python open-source avec un développement très actif.\n",
    "La définition des diverses fonctions peut donc être modifiée d'une version à l'autre (très rare cependant).\n",
    "Vérifier régulièrement la version utilisée permet ainsi de se reférer à la bonne documentation en ligne ou de s'assurer que l'on utilise bien la version la plus récente.\n",
    "L'utilisation de `np.show_config()` permet quant à elle de vérifier quelles sont les librairies plus bas niveau ([BLAS](https://fr.wikipedia.org/wiki/Basic_Linear_Algebra_Subprograms) et [LAPACK](https://fr.wikipedia.org/wiki/LAPACK)) qui ont été utilisées pour configurer votre installation de `numpy`."
   ]
  },
  {
   "cell_type": "code",
   "execution_count": 5,
   "metadata": {},
   "outputs": [
    {
     "data": {
      "text/plain": [
       "'1.17.4'"
      ]
     },
     "execution_count": 5,
     "metadata": {},
     "output_type": "execute_result"
    }
   ],
   "source": [
    "np.__version__"
   ]
  },
  {
   "cell_type": "code",
   "execution_count": 6,
   "metadata": {},
   "outputs": [
    {
     "name": "stdout",
     "output_type": "stream",
     "text": [
      "blas_mkl_info:\n",
      "    libraries = ['mkl_rt', 'pthread']\n",
      "    library_dirs = ['/home/loiseau/anaconda3/lib']\n",
      "    define_macros = [('SCIPY_MKL_H', None), ('HAVE_CBLAS', None)]\n",
      "    include_dirs = ['/home/loiseau/anaconda3/include']\n",
      "blas_opt_info:\n",
      "    libraries = ['mkl_rt', 'pthread']\n",
      "    library_dirs = ['/home/loiseau/anaconda3/lib']\n",
      "    define_macros = [('SCIPY_MKL_H', None), ('HAVE_CBLAS', None)]\n",
      "    include_dirs = ['/home/loiseau/anaconda3/include']\n",
      "lapack_mkl_info:\n",
      "    libraries = ['mkl_rt', 'pthread']\n",
      "    library_dirs = ['/home/loiseau/anaconda3/lib']\n",
      "    define_macros = [('SCIPY_MKL_H', None), ('HAVE_CBLAS', None)]\n",
      "    include_dirs = ['/home/loiseau/anaconda3/include']\n",
      "lapack_opt_info:\n",
      "    libraries = ['mkl_rt', 'pthread']\n",
      "    library_dirs = ['/home/loiseau/anaconda3/lib']\n",
      "    define_macros = [('SCIPY_MKL_H', None), ('HAVE_CBLAS', None)]\n",
      "    include_dirs = ['/home/loiseau/anaconda3/include']\n"
     ]
    }
   ],
   "source": [
    "np.show_config()"
   ]
  },
  {
   "cell_type": "markdown",
   "metadata": {},
   "source": [
    "#### 3. Importez le module `matplotlib.pyplot` en tant que plt (&#9733;&#9734;&#9734;&#9734;&#9734;)"
   ]
  },
  {
   "cell_type": "code",
   "execution_count": 7,
   "metadata": {},
   "outputs": [],
   "source": [
    "import matplotlib.pyplot as plt"
   ]
  },
  {
   "cell_type": "code",
   "execution_count": 8,
   "metadata": {},
   "outputs": [
    {
     "data": {
      "text/plain": [
       "True"
      ]
     },
     "execution_count": 8,
     "metadata": {},
     "output_type": "execute_result"
    }
   ],
   "source": [
    "assert_equals(\"matplotlib.pyplot\" in sys.modules, True)"
   ]
  },
  {
   "cell_type": "markdown",
   "metadata": {},
   "source": [
    ">Matplotlib est une bibliothèque du langage de programmation Python destinée à tracer et visualiser des données sous formes de graphiques5. Elle peut être combinée avec les bibliothèques python de calcul scientifique NumPy et SciPy\n",
    ">\n",
    "> <cite>[Wikipedia](https://fr.wikipedia.org/wiki/Matplotlib)</cite>\n",
    "\n",
    "Vous pourrez trouver plus de détails sur `matplotlib` ainsi qu'une gallerie illustrant le type de figures pouvant être faites à l'adresse suivante : [https://matplotlib.org/](https://matplotlib.org/)."
   ]
  },
  {
   "cell_type": "markdown",
   "metadata": {},
   "source": [
    "# Introduction au calcul scientifique en Python (TP 1)\n",
    "\n",
    "Les exercices de ce notebook Jupyter et des suivants ont pour but de vous familiariser avec certains concepts de base du calcul scientifique tels que:\n",
    "- les boucles ``for`` et ``while``,\n",
    "- le contrôle avec ``if``, ``else`` et ``elif``,\n",
    "- la programmation récursive,\n",
    "- l'algèbre linéaire numérique avec ``scipy.linalg``,\n",
    "- l'intégration numérique d'équations différentielles avec ``scipy.integrate``,\n",
    "- les bases des méthodes d'optimisation avec ``scipy.optmize``,\n",
    "- la présentation des résultats sous forme de figures avec ``matplotlib``,\n",
    "- etc.\n",
    "\n",
    "Plusieurs versions sont proposées pour chaque exercice (dans la mesure du possible), allant d'une approche naïve souvent basée sur la force brute à des approches plus efficaces tirant parti des optimisations existantes en python ou des subtilités mathématiques du problème considéré.\n",
    "Un *benchmark* est ensuite proposé afin d'évaluer les performances des différentes versions implémentées.\n",
    "\n",
    "***\n",
    "\n",
    "## Exercice n°1 : les bases de `python`\n",
    "\n",
    "> Python (en anglais : [ˈpaɪ.θɑːn]) est un langage de programmation interprété, multi-paradigme et multiplateformes. Il favorise la programmation impérative structurée, fonctionnelle et orientée objet. Il est doté d'un typage dynamique fort, d'une gestion automatique de la mémoire par ramasse-miettes et d'un système de gestion d'exceptions ; il est ainsi similaire à Perl, Ruby, Scheme, Smalltalk et Tcl. Le langage Python est placé sous une licence libre proche de la licence BSD6 et fonctionne sur la plupart des plates-formes informatiques, des smartphones aux ordinateurs centraux7, de Windows à Unix avec notamment GNU/Linux en passant par macOS, ou encore Android, iOS, et peut aussi être traduit en Java ou .NET. Il est conçu pour optimiser la productivité des programmeurs en offrant des outils de haut niveau et une syntaxe simple à utiliser. Il est également apprécié par certains pédagogues qui y trouvent un langage où la syntaxe, clairement séparée des mécanismes de bas niveau, permet une initiation aisée aux concepts de base de la programmation.\n",
    ">\n",
    "> <cite>[Wikipedia](https://fr.wikipedia.org/wiki/Python_(langage))</cite>\n",
    "\n",
    "Si vous ne les avez pas fait (comme demandé...), vous pouvez trouver les exercices de base pour python à l'adresse suivante : [https://www.learnpython.org/](https://www.learnpython.org/).\n",
    "Les quatre premiers items (i.e. Hello World!, Variables and Types, Lists et Basic Operators) sont ceux qui nous intéresse ici."
   ]
  },
  {
   "cell_type": "markdown",
   "metadata": {},
   "source": [
    "***\n",
    "\n",
    "## Exercice n°2 : les bases de `numpy`\n",
    "\n",
    "La suite de questions ci-dessous a pour objectif de vous familiariser avec la syntaxe de base de `numpy` pour manipuler des vecteurs et des tableaux.\n",
    "\n",
    "### 1. Créez un vecteur de taille 10 dont toutes les entrées sont zéro (&#9733;&#9734;&#9734;&#9734;&#9734;)\n",
    "\n",
    "On pourra utiliser la fonction `np.zeros`.\n",
    "En supposant que nous ayons appelés notre vecteur `v`, vous pouvez vérifier qu'il est bien de taille 10 via son attribut `v.shape`."
   ]
  },
  {
   "cell_type": "code",
   "execution_count": null,
   "metadata": {},
   "outputs": [],
   "source": [
    "# --> Création du vecteur.\n",
    "v = np.zeros(10)\n",
    "\n",
    "# --> Affichage du vecteur.\n",
    "print(\"Vecteur créé : \", v)\n",
    "\n",
    "# --> Vérification de la taille du vecteur.\n",
    "print(\"Taille du vecteur : \", v.shape)"
   ]
  },
  {
   "cell_type": "markdown",
   "metadata": {},
   "source": [
    "De façon similaire, `numpy` fournit également la fonction `np.ones` qui permet un vecteur de la taille que l'on souhaite et dont toutes les entrées sont égales à 1."
   ]
  },
  {
   "cell_type": "markdown",
   "metadata": {},
   "source": [
    "### 2. Créez un vecteur nul de taille 10 et remplacez sa cinquième entrée par un 1 (&#9733;&#9734;&#9734;&#9734;&#9734;)\n",
    "\n",
    "Attention, `python` commence son indexation au rang 0.\n",
    "Par conséquent, le i-ème élément d'un vecteur `v` est en réalité donné par `v[i-1]`."
   ]
  },
  {
   "cell_type": "code",
   "execution_count": null,
   "metadata": {},
   "outputs": [],
   "source": [
    "# --> Création du vecteur nul.\n",
    "v = np.zeros(10)\n",
    "\n",
    "# --> Remplacement de sa cinquième entrée par un 1.\n",
    "v[4] = 1\n",
    "\n",
    "# --> Affichage du résultat.\n",
    "print(\"Vecteur créé : \", v)"
   ]
  },
  {
   "cell_type": "markdown",
   "metadata": {},
   "source": [
    "### 3. Créez un vecteur dont les entrées vont de 10 à 49 par incrément de 1 (&#9733;&#9734;&#9734;&#9734;&#9734;)\n",
    "\n",
    "On pourra utiliser la fonction `np.arange`. N'hésitez pas à regarder sa documentation pour plus de détails."
   ]
  },
  {
   "cell_type": "code",
   "execution_count": null,
   "metadata": {},
   "outputs": [],
   "source": [
    "# --> Création du vecteur.\n",
    "v = np.arange(10, 50)\n",
    "\n",
    "# --> Affichage du résultat.\n",
    "print(\"Vecteur créé : \", v)"
   ]
  },
  {
   "cell_type": "markdown",
   "metadata": {},
   "source": [
    "### 4. Inversez l'ordre des éléments du vecteur ci-dessous (&#9733;&#9734;&#9734;&#9734;&#9734;)"
   ]
  },
  {
   "cell_type": "code",
   "execution_count": null,
   "metadata": {},
   "outputs": [],
   "source": [
    "# --> Création du vecteur.\n",
    "v = np.arange(10)\n",
    "\n",
    "# --> Affichage du vecteur créé.\n",
    "print(\"Avant inversion : \", v)\n",
    "\n",
    "# --> Inversion de l'ordre des entrées.\n",
    "v = v[::-1]\n",
    "\n",
    "# --> Affichage du résultat.\n",
    "print(\"Après inversion :\", v)"
   ]
  },
  {
   "cell_type": "markdown",
   "metadata": {},
   "source": [
    "### 5. Créez le vecteur `[1 4 9]` (&#9733;&#9734;&#9734;&#9734;&#9734;)\n",
    "\n",
    "Un vecteur peut être créé en utilisant la fonction `np.array`."
   ]
  },
  {
   "cell_type": "code",
   "execution_count": null,
   "metadata": {},
   "outputs": [],
   "source": [
    "# --> Création du vecteur.\n",
    "v = np.array([1, 4, 9])"
   ]
  },
  {
   "cell_type": "markdown",
   "metadata": {},
   "source": [
    "### 6. Créez les vecteurs `[1 4 9]` et `[2 6 3]` et calculez leur produit scalaire (&#9733;&#9734;&#9734;&#9734;&#9734;)\n",
    "\n",
    "Le produit scalaire entre deux vecteurs peut être calculé à l'aide de la fonction `np.vdot`."
   ]
  },
  {
   "cell_type": "code",
   "execution_count": null,
   "metadata": {},
   "outputs": [],
   "source": [
    "# --> Création des vecteurs.\n",
    "u = np.array([1, 4, 9])\n",
    "v = np.array([2, 6, 3])\n",
    "\n",
    "# --> Calcul du produit scalaire.\n",
    "s = np.vdot(u, v)\n",
    "\n",
    "# --> Affichage du résultat.\n",
    "print(\"Le produit scalaire de u et v est égal à {0}\".format(s))"
   ]
  },
  {
   "cell_type": "markdown",
   "metadata": {},
   "source": [
    "### 7. Créez un vecteur aléatoire `x` de taille 5 et normalisez le de sorte que $\\| x \\| = 1$ (&#9733;&#9734;&#9734;&#9734;&#9734;)\n",
    "\n",
    "Plusieurs types de distributions (normale, gamma, laplace, etc) sont disponibles via le module `np.random`.\n",
    "Par exemple, un vecteur `x` de taille 5 dont les entrées suivent une distribution normale de moyenne nulle et d'écart-type égal à 1 peut être obtenu de la façon suivante\n",
    "\n",
    "``x = np.random.normal(loc=0.0, scale=1.0, size=5)``\n",
    "\n",
    "De la même façon, un vecteur dont les entrées suivent une distribution de laplace est créé de la façon suivante :\n",
    "\n",
    "``x = np.random.laplace(loc=0.0, scale=1.0, size=5)``\n",
    "\n",
    "L'ensemble des distributions disponibles sont listées à l'adresse suivante : [https://docs.scipy.org/doc/numpy-1.14.0/reference/routines.random.html](https://docs.scipy.org/doc/numpy-1.14.0/reference/routines.random.html)."
   ]
  },
  {
   "cell_type": "code",
   "execution_count": null,
   "metadata": {},
   "outputs": [],
   "source": [
    "# --> Création du vecteur aléatoire.\n",
    "x = np.random.normal(loc=0.0, scale=1.0, size=5)\n",
    "\n",
    "# --> Normalisation.laplace\n",
    "x /= np.linalg.norm(x)\n",
    "\n",
    "# --> Affichage du résultat.\n",
    "print(\"Vecteur créé : \", x)\n",
    "print(\"Norme de x : {0}\".format(np.linalg.norm(x)))"
   ]
  },
  {
   "cell_type": "markdown",
   "metadata": {},
   "source": [
    "### 8. Créez un vecteur aléatoire `x` et récupérez la valeur maximale ainsi que son indice  (&#9733;&#9734;&#9734;&#9734;&#9734;)\n",
    "\n",
    "Utilisez les fonctions `np.max` (ou `x.max()`) et `np.argmax` (ou `x.argmax()`)."
   ]
  },
  {
   "cell_type": "code",
   "execution_count": null,
   "metadata": {},
   "outputs": [],
   "source": [
    "# --> Création du vecteur aléatoire.\n",
    "x = np.random.normal(loc=0.0, scale=1.0, size=5)\n",
    "\n",
    "# --> Valeur maximale.\n",
    "x_max = np.max(x)\n",
    "\n",
    "# --> Indice.\n",
    "idx = np.argmax(x)\n",
    "\n",
    "# --> Affichage du résultat.\n",
    "print(\"Valeur maximale : {0}\".format(x_max))\n",
    "print(\"Indice correspondant : {0}\".format(idx))"
   ]
  },
  {
   "cell_type": "markdown",
   "metadata": {},
   "source": [
    "De la même, vous pouvez accéder à la valeur minimale et à son indice en utilisant `np.min` (ou `x.min()`) et `np.argmin` (ou `x.argmin()`).\n",
    "\n",
    "### 9. Créez une matrice  (&#9733;&#9734;&#9734;&#9734;&#9734;)\n",
    "\n",
    "Vous pouvez créer la matrice \n",
    "\n",
    "$$\n",
    "    A = \\begin{bmatrix} 1 & 2 \\\\ 3 & 4 \\end{bmatrix}\n",
    "$$\n",
    "\n",
    "en utilisant la fonction `np.array`."
   ]
  },
  {
   "cell_type": "code",
   "execution_count": null,
   "metadata": {},
   "outputs": [],
   "source": [
    "# --> Création de la matrice A.\n",
    "A = np.array([[1, 2], [3, 4]])\n",
    "\n",
    "# --> Affichage du résultat.\n",
    "print(\"Matrice créée : \\n {0}\".format(A))"
   ]
  },
  {
   "cell_type": "markdown",
   "metadata": {},
   "source": [
    "### 10. Créez une matrice et retourner sa transposée  (&#9733;&#9734;&#9734;&#9734;&#9734;)\n",
    "\n",
    "Une fois une matrice $A$ créée, vous pouvez calculer sa transposée facilement en tapant `A.T`."
   ]
  },
  {
   "cell_type": "code",
   "execution_count": null,
   "metadata": {},
   "outputs": [],
   "source": [
    "# --> Création de la matrice A.\n",
    "A = np.array([[1, 2], [3, 4]])\n",
    "\n",
    "# --> Affichage du résultat.\n",
    "print(\"Matrice A : \\n {0}\".format(A))\n",
    "\n",
    "# --> Transposition de la matrice.\n",
    "B = A.T\n",
    "\n",
    "# --> Affichage du résultat.\n",
    "print(\"Matrice A transposée : \\n {0}\".format(B))"
   ]
  },
  {
   "cell_type": "markdown",
   "metadata": {},
   "source": [
    "Vous pouvez par ailleurs accéder à ses dimensions en tapant `A.shape`.\n",
    "\n",
    "### 11. Créez une matrice A de taille de 2 x 2 et un vecteur x de taille 2 et calculer le produit $Ax$ (&#9733;&#9734;&#9734;&#9734;&#9734;)\n",
    "\n",
    "Une fois la matrice `A` et le vecteur `x` créés, vous pouvez calculer le produit matrice-vecteur des façons suivantes : `y = A @ x` ou `y = np.dot(A, x)` ou encore `y = A.dot(x)`."
   ]
  },
  {
   "cell_type": "code",
   "execution_count": null,
   "metadata": {},
   "outputs": [],
   "source": [
    "# --> Création de la matrice A.\n",
    "A = np.random.normal(loc=0.0, scale=1.0, size=(2, 2))\n",
    "\n",
    "# --> Création du vecteur x.\n",
    "x = np.random.normal(loc=0.0, scale=1.0, size=(2,))\n",
    "\n",
    "# --> Produit matrice-vecteur.\n",
    "y = A @ x\n",
    "\n",
    "# --> Affichage du résultat.\n",
    "print(\"Matrice A : \\n {0}\".format(A))\n",
    "print(\"Vecteur x : {0}\".format(x))\n",
    "print(\"Produit matrice-vecteur : {0}\".format(y))"
   ]
  },
  {
   "cell_type": "markdown",
   "metadata": {},
   "source": [
    "### 12. Créez deux matrices A et B de taille 2 x 2 et calculer leur produit (&#9733;&#9734;&#9734;&#9734;&#9734;)\n"
   ]
  },
  {
   "cell_type": "code",
   "execution_count": null,
   "metadata": {},
   "outputs": [],
   "source": [
    "# --> Création de A et B.\n",
    "A, B = np.random.normal(loc=0.0, scale=1.0, size=(2, 2)), np.random.normal(loc=0.0, scale=1.0, size=(2, 2))\n",
    "\n",
    "# --> Produit matrice-matrice.\n",
    "C = A @ B\n",
    "\n",
    "# --> Affichage du résultat.\n",
    "print(\"Matrice A : \\n {0}\".format(A))\n",
    "print(\"Matrice B : \\n {0}\".format(B))\n",
    "print(\"Matrice C = AB : \\n {0}\".format(C))"
   ]
  },
  {
   "cell_type": "markdown",
   "metadata": {},
   "source": [
    "Attention, la commande suivante `A * B ` ne calcule pas le produit matrice-matrice mais le produit d'Hadamard (i.e. $C_{ij} = A_{ij} B_{ij}$)!"
   ]
  },
  {
   "cell_type": "markdown",
   "metadata": {},
   "source": [
    "***\n",
    "\n",
    "## Exercice n°3 : Somme des entiers naturels (&#9733;&#9733;&#9734;&#9734;&#9734;)\n",
    "\n",
    "L'objectif de cet exercice est d'implémenter une fonction `python` permettant de calculer la somme des $n$ premiers entiers positifs, i.e.\n",
    "\n",
    "$$\n",
    "    s(n) = \\sum_{k=1}^n k.\n",
    "$$\n",
    "\n",
    "Pour cela, quatre méthodes sont proposées ci-dessous.\n",
    "Ne passez à la méthode suivante qu'une fois que le test affiche `True`.\n",
    "\n",
    "### Méthode naïve : boucle `for`\n",
    "\n",
    "La première approche, repose sur l'utilisation d'une boucle `for`.\n",
    "En effet, un algorithme très naïf pour calculer $s(n)$ est simplement"
   ]
  },
  {
   "cell_type": "code",
   "execution_count": null,
   "metadata": {},
   "outputs": [],
   "source": [
    "def somme_naive(n):\n",
    "    \"\"\"\n",
    "    Fonction calculant naivement la somme des n premiers nombres entiers en utilisant une boucle for.\n",
    "    \n",
    "    INPUT\n",
    "    -----\n",
    "    \n",
    "    n : int\n",
    "        Plus grand entier considéré.\n",
    "        \n",
    "    RETURN\n",
    "    ------\n",
    "    \n",
    "    s : int\n",
    "        Somme de 0 à n.\n",
    "    \"\"\"\n",
    "    \n",
    "    s = 0\n",
    "    \n",
    "    for i in range(n+1):\n",
    "        s += i\n",
    "    \n",
    "    return s"
   ]
  },
  {
   "cell_type": "code",
   "execution_count": null,
   "metadata": {},
   "outputs": [],
   "source": [
    "assert_equals(somme_naive(100), 5050)"
   ]
  },
  {
   "cell_type": "markdown",
   "metadata": {},
   "source": [
    "### Méthode Python pure : ``sum`` et ``range``\n",
    "\n",
    "Bien qu'intuitive, nous verrons que la méthode précédente est relativement lente, notamment dû à l'utilisation d'une boucle `for`.\n",
    "Le calcul demandé peut être effectué en utilisant deux fonctions faisant partie du python de base, à savoir `sum` et `range`.\n",
    "Pour plus d'information sur ces deux fonctions, vous pouvez taper `sum?` et `range?`."
   ]
  },
  {
   "cell_type": "code",
   "execution_count": null,
   "metadata": {},
   "outputs": [],
   "source": [
    "sum?"
   ]
  },
  {
   "cell_type": "code",
   "execution_count": null,
   "metadata": {},
   "outputs": [],
   "source": [
    "def somme_python(n):\n",
    "    \"\"\"\n",
    "    Fonction calculant la somme des n premiers nombres entiers à l'aide de sum et range.\n",
    "    \n",
    "    INPUT\n",
    "    -----\n",
    "    \n",
    "    n : int\n",
    "        Plus grand entier considéré.\n",
    "        \n",
    "    RETURN\n",
    "    ------\n",
    "    \n",
    "    s : int\n",
    "        Somme de 0 à n.\n",
    "    \"\"\"\n",
    "    return sum(range(n+1))"
   ]
  },
  {
   "cell_type": "code",
   "execution_count": null,
   "metadata": {},
   "outputs": [],
   "source": [
    "assert_equals(somme_python(100), 5050)"
   ]
  },
  {
   "cell_type": "markdown",
   "metadata": {},
   "source": [
    "### Méthode NumPy : ``np.sum`` et ``np.arange``\n",
    "\n",
    "Une version encore plus efficace de la méthode précédente peut être implémentée en utilisant les versions optimisées de ``np.sum`` et et ``np.arange`` proposées par ``numpy`` (importé en tant que ``np`` ici).\n",
    "Comme précédemment, vous pouvez accéder à la documentation de ces fonctions en tapant ``np.sum?`` ou ``np.arange?``."
   ]
  },
  {
   "cell_type": "code",
   "execution_count": null,
   "metadata": {},
   "outputs": [],
   "source": [
    "np.sum?"
   ]
  },
  {
   "cell_type": "code",
   "execution_count": null,
   "metadata": {},
   "outputs": [],
   "source": [
    "def somme_numpy(n):\n",
    "    \"\"\"\n",
    "    Fonction calculant la somme des n premiers nombres entiers à l'aide de np.arange et np.sum.\n",
    "    \n",
    "    INPUT\n",
    "    -----\n",
    "    \n",
    "    n : int\n",
    "        Plus grand entier considéré.\n",
    "        \n",
    "    RETURN\n",
    "    ------\n",
    "    \n",
    "    s : int\n",
    "        Somme de 0 à n.\n",
    "    \"\"\"\n",
    "    return np.sum(np.arange(n+1))"
   ]
  },
  {
   "cell_type": "code",
   "execution_count": null,
   "metadata": {},
   "outputs": [],
   "source": [
    "assert_equals(somme_numpy(100), 5050)"
   ]
  },
  {
   "cell_type": "markdown",
   "metadata": {},
   "source": [
    "### Méthode optimale : la formule de Gauss\n",
    "\n",
    "Pour finir, il est facile de démontrer l'égalité suivante :\n",
    "\n",
    "$$\n",
    "    \\sum_{k=1}^{n} k = \\frac{n (n+1)}{2}.\n",
    "$$\n",
    "\n",
    "Utilisez cette propriété mathématique pour implémenter la solution la plus rapide qui soit.\n",
    "Attention, en `python 3` la division entière est donnée par ``a // b ``."
   ]
  },
  {
   "cell_type": "code",
   "execution_count": null,
   "metadata": {},
   "outputs": [],
   "source": [
    "def somme_gauss(n):\n",
    "    \"\"\"\n",
    "    Fonction calculant la somme des n premiers nombres entiers en utilisant la formule de Gauss.\n",
    "    \n",
    "    INPUT\n",
    "    -----\n",
    "    \n",
    "    n : int\n",
    "        Plus grand entier considéré.\n",
    "        \n",
    "    RETURN\n",
    "    ------\n",
    "    s : int\n",
    "        Somme de 0 à n.\n",
    "    \"\"\"\n",
    "    return n * (n + 1) // 2"
   ]
  },
  {
   "cell_type": "code",
   "execution_count": null,
   "metadata": {},
   "outputs": [],
   "source": [
    "assert_equals(somme_gauss(100), 5050)"
   ]
  },
  {
   "cell_type": "markdown",
   "metadata": {},
   "source": [
    "### Benchmark\n",
    "\n",
    "Les méthodes que vous venez d'implémenter calculent la même somme de quatre façons différentes.\n",
    "Les cellules ci-dessous comparent les performances de ces quatre méthodes.\n",
    "Essayez d'expliquer ces résultats."
   ]
  },
  {
   "cell_type": "code",
   "execution_count": null,
   "metadata": {},
   "outputs": [],
   "source": [
    "# --> Choisisez un nombre compris entre 100 et 100 000 000.\n",
    "n = 10**8"
   ]
  },
  {
   "cell_type": "code",
   "execution_count": null,
   "metadata": {},
   "outputs": [],
   "source": [
    "%%time\n",
    "somme_naive(n)"
   ]
  },
  {
   "cell_type": "code",
   "execution_count": null,
   "metadata": {},
   "outputs": [],
   "source": [
    "%%time\n",
    "somme_python(n)"
   ]
  },
  {
   "cell_type": "code",
   "execution_count": null,
   "metadata": {},
   "outputs": [],
   "source": [
    "%%time\n",
    "somme_numpy(n)"
   ]
  },
  {
   "cell_type": "code",
   "execution_count": null,
   "metadata": {},
   "outputs": [],
   "source": [
    "%%time\n",
    "somme_gauss(n)"
   ]
  },
  {
   "cell_type": "markdown",
   "metadata": {},
   "source": [
    "***\n",
    "\n",
    "## Exercise n°4: Séquence de Fibonacci (&#9733;&#9733;&#9734;&#9734;&#9734;)\n",
    "\n",
    "La suite (ou séquence) de Fibonacci est définie de la façon suivante\n",
    "\n",
    "$$\n",
    "    \\begin{aligned}\n",
    "        & f_0 = 0 \\\\\n",
    "        & f_1 = 1 \\\\\n",
    "        & f_n = f_{n-1} + f_{n-2} \\ \\forall n \\geq 2.\n",
    "    \\end{aligned}\n",
    "$$\n",
    "\n",
    "Une fois $f_0$ et $f_1$ donnés, le terme $f_n$ est alors défini de façon récursive.\n",
    "Le calcul du n-ième terme de cette suite (pour n grand) est un exercice classique permettant d'illustrer le principe de la programmation récursive mais aussi ses limites.\n",
    "Dans la suite de cet exercice, trois méthodes différentes sont proposées pour calculer $f_n$. Comme précédemment, ne passez à la méthode suivante qu'une fois que le test affiche `True`.\n",
    "\n",
    "### Méthode naïve : Fonction récursive"
   ]
  },
  {
   "cell_type": "code",
   "execution_count": null,
   "metadata": {},
   "outputs": [],
   "source": [
    "def recursive_fibonacci(n):\n",
    "    \"\"\"\n",
    "    Fonction calculant le n-ième de la suite de Fibonacci via récursion.\n",
    "    \n",
    "    INPUT\n",
    "    -----\n",
    "    \n",
    "    n : int\n",
    "        Rang du terme à calculer.\n",
    "        \n",
    "    RETURN\n",
    "    ------\n",
    "    \n",
    "    fn : int\n",
    "        n-ième terme de la suite.\n",
    "    \"\"\"\n",
    "    \n",
    "    if n == 0:\n",
    "        return 0\n",
    "    elif n == 1:\n",
    "        return 1\n",
    "    else:\n",
    "        return recursive_fibonacci(n-1) + recursive_fibonacci(n-2)"
   ]
  },
  {
   "cell_type": "code",
   "execution_count": null,
   "metadata": {},
   "outputs": [],
   "source": [
    "assert_equals(recursive_fibonacci(10), 55)"
   ]
  },
  {
   "cell_type": "markdown",
   "metadata": {},
   "source": [
    "### Méthode rapide : Exponentiation de matrice\n",
    "\n",
    "Bien que proche de la définition mathématique du problème, implémenter le calcul du n-ème terme de la séquence de Fibonacci de façon récursive est loin d'être efficace.\n",
    "Une autre approche repose sur l'exponentiation de matrice.\n",
    "En effet, on peut montrer que :\n",
    "\n",
    "$$\n",
    "    \\begin{bmatrix}\n",
    "        1 & 1 \\\\\n",
    "        1 & 0\n",
    "    \\end{bmatrix}^{n-1}\n",
    "    =\n",
    "    \\begin{bmatrix}\n",
    "        f_n & f_{n-1} \\\\\n",
    "        f_{n-1} & f_{n-2}\n",
    "    \\end{bmatrix}. \n",
    "$$\n",
    "\n",
    "Pour des raisons mathématiques et algorithmiques allant au-delà des considérations nécessaires pour le cours présent, élever une matrice à la puissance $n$ peut être calculer de façon extrêmement efficace.\n",
    "Nous allons utiliser cela pour implémenter une version rapide du calcul du n-ème terme de la séquence de Fibonacci.\n",
    "Pour cela, la matrice nécessaire peut être créer en utilisant la fonction ``np.array`` comme ci-dessous"
   ]
  },
  {
   "cell_type": "code",
   "execution_count": null,
   "metadata": {},
   "outputs": [],
   "source": [
    "# --> Crée la matrice A.\n",
    "A = np.array([[1, 2], [3, 4]])\n",
    "\n",
    "# --> Affiche la matrice à l'écran.\n",
    "print(A)"
   ]
  },
  {
   "cell_type": "markdown",
   "metadata": {},
   "source": [
    "Les différentes éléments de A peuvent être obtenus en faisant ``A[0, 0]``, ``A[0, 1]``, ``A[1, 0]`` ou encore ``A[1, 1]``.\n",
    "Enfin, cette matrice peut être élevée à la puissance $n$ en utilisant la fonction ``np.linalg.matrix_power`` du module ``numpy.linalg`` dédié à l'algèbre linéaire.\n",
    "Pour plus de détails, veuillez vous référer à la documentation fournie par ``np.linalg.matrix_power?``."
   ]
  },
  {
   "cell_type": "code",
   "execution_count": null,
   "metadata": {},
   "outputs": [],
   "source": [
    "def matrix_exponentiation_fibonacci(n):\n",
    "    \"\"\"\n",
    "    Calcul du n-ième terme de la suite de Fibonacci via\n",
    "    l'exponentiation de matrice.\n",
    "    \n",
    "    INTPUT\n",
    "    ------\n",
    "    \n",
    "    n : int\n",
    "        Rang du terme à calculer.\n",
    "        \n",
    "    RETURN\n",
    "    ------\n",
    "    \n",
    "    fn : int\n",
    "        n-ième terme de la suite.\n",
    "    \"\"\"\n",
    "    \n",
    "    A = np.array([[1, 1], \n",
    "                  [1, 0]])\n",
    "    \n",
    "    return np.linalg.matrix_power(A, n-1)[0, 0]"
   ]
  },
  {
   "cell_type": "code",
   "execution_count": null,
   "metadata": {},
   "outputs": [],
   "source": [
    "assert_equals(matrix_exponentiation_fibonacci(10), 55)"
   ]
  },
  {
   "cell_type": "markdown",
   "metadata": {},
   "source": [
    "### Méthode optimale : Fibonacci et le nombre d'or\n",
    "\n",
    "La dernière méthode repose sur le nombre d'or\n",
    "\n",
    "$$\n",
    "    \\phi = \\frac{1 + \\sqrt{5}}{2}.\n",
    "$$\n",
    "\n",
    "En effet, il a été montré que le n-ème terme de la suite de Fibonacci peut être donné par\n",
    "\n",
    "$$\n",
    "    f_n = \\Big\\lfloor \\frac{\\phi^n}{\\sqrt{5}} \\Big\\rceil\n",
    "$$\n",
    "\n",
    "où $\\lfloor a \\rceil$ dénote l'entier le plus proche de $a$.\n",
    "L'utilisation de cette propriété nous permet alors de calculer de la façon la plus rapide qui soit le terme $f_n$."
   ]
  },
  {
   "cell_type": "code",
   "execution_count": null,
   "metadata": {},
   "outputs": [],
   "source": [
    "def ultrafast_fibonacci(n):\n",
    "    \"\"\"\n",
    "    Calcul du n-ième terme de la suite de Fibonacci via le nombre d'or.\n",
    "    \n",
    "    INTPUT\n",
    "    ------\n",
    "    \n",
    "    n : int\n",
    "        Rang du terme à calculer.\n",
    "        \n",
    "    RETURN\n",
    "    ------\n",
    "    \n",
    "    fn : int\n",
    "        n-ième terme de la suite.    \n",
    "    \"\"\"\n",
    "    \n",
    "    phi = ( 1 + np.sqrt(5)) / 2        \n",
    "    \n",
    "    return int(np.rint(phi**n / np.sqrt(5)))"
   ]
  },
  {
   "cell_type": "code",
   "execution_count": null,
   "metadata": {},
   "outputs": [],
   "source": [
    "assert_equals(ultrafast_fibonacci(10), 55)"
   ]
  },
  {
   "cell_type": "markdown",
   "metadata": {},
   "source": [
    "### Benchmark\n",
    "\n",
    "Les méthodes que vous venez d'implémenter calculent n-ème terme de la suite de Fibonacci de trois façons différentes.\n",
    "Les cellules ci-dessous comparent les performances de ces quatre méthodes.\n",
    "Essayez d'expliquer ces résultats."
   ]
  },
  {
   "cell_type": "code",
   "execution_count": null,
   "metadata": {},
   "outputs": [],
   "source": [
    "# --> Choisissez un nombre compris entre 10 et 42.\n",
    "n = 42"
   ]
  },
  {
   "cell_type": "code",
   "execution_count": null,
   "metadata": {},
   "outputs": [],
   "source": [
    "%%time\n",
    "recursive_fibonacci(n)"
   ]
  },
  {
   "cell_type": "code",
   "execution_count": null,
   "metadata": {},
   "outputs": [],
   "source": [
    "%%time\n",
    "matrix_exponentiation_fibonacci(n)"
   ]
  },
  {
   "cell_type": "code",
   "execution_count": null,
   "metadata": {},
   "outputs": [],
   "source": [
    "%%time\n",
    "ultrafast_fibonacci(n)"
   ]
  }
 ],
 "metadata": {
  "@webio": {
   "lastCommId": null,
   "lastKernelId": null
  },
  "kernelspec": {
   "display_name": "Python 3",
   "language": "python",
   "name": "python3"
  },
  "language_info": {
   "codemirror_mode": {
    "name": "ipython",
    "version": 3
   },
   "file_extension": ".py",
   "mimetype": "text/x-python",
   "name": "python",
   "nbconvert_exporter": "python",
   "pygments_lexer": "ipython3",
   "version": "3.7.6"
  }
 },
 "nbformat": 4,
 "nbformat_minor": 2
}
