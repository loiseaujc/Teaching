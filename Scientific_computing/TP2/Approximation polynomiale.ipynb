{
 "cells": [
  {
   "cell_type": "markdown",
   "metadata": {},
   "source": [
    "<div class=\"row\">\n",
    "  <div class=\"column\">\n",
    "<img align=\"left\" width=\"200\" height=\"42\" src=\"https://assets.ensam.eu/logo/fr/logo-trans-322x84.png\" />  </div>\n",
    "  <div class=\"column\">\n",
    "<img align=\"right\" width=\"120\" height=\"42\" src=\"https://upload.wikimedia.org/wikipedia/commons/b/bd/CC-BY-NC-SA.svg\"/>  </div>\n",
    "</div>"
   ]
  },
  {
   "cell_type": "markdown",
   "metadata": {},
   "source": [
    "Jean-Christophe Loiseau  \n",
    "Maître de Conférences  \n",
    "&#128231; : jean-christophe.loiseau@ensam.eu  \n",
    "&#128198; : Février 2020"
   ]
  },
  {
   "cell_type": "code",
   "execution_count": 1,
   "metadata": {},
   "outputs": [],
   "source": [
    "# --> Import numpy (calcul scientifique de base).\n",
    "import numpy as np\n",
    "\n",
    "# --> Utilitaires pour l'approximation polynomiale classique.\n",
    "from numpy.polynomial.polynomial import polyfit, polyval\n",
    "\n",
    "# --> Import matplotlib pour tracer les figures.\n",
    "import matplotlib.pyplot as plt"
   ]
  },
  {
   "cell_type": "markdown",
   "metadata": {},
   "source": [
    "# Approximation polynomiale\n",
    "\n",
    "On s'intéresse dans ce TP au problème d'approximation d'une fonction $f : \\mathbb{R} \\mapsto \\mathbb{R}$ que l'on supposera inconnue.\n",
    "Pour cela, nous avons un ensemble de mesures\n",
    "\n",
    "$$\n",
    "    y_i = f(x_i) + \\mathcal{N}(0, \\sigma^2)\n",
    "$$\n",
    "\n",
    "où $f$ est la fonction inconnue et $\\mathcal{N}(0, \\sigma)$ est un bruit de mesure gaussien à moyenne nulle et de variance $\\sigma^2$.\n",
    "A partir de l'ensemble de mesures $(x_i, y_i)$, on se propose donc de trouver une fonction analytique $p(x)$ de sorte que\n",
    "\n",
    "$$\n",
    "    p(x_i) \\simeq y_i.\n",
    "$$\n",
    "\n",
    "D'un point de vue mathématique, ce problème peut être formulé comme un problème de *minimisation*\n",
    "\n",
    "$$\n",
    "    \\min_{p} \\frac{1}{n} \\sum_{i=1}^n (p(x_i) - y_i)^2,\n",
    "$$\n",
    "\n",
    "i.e. on cherche la fonction $p(x)$ qui minimise l'*erreur quadratique moyenne* entre ses prédictions et les mesures.\n",
    "Dans la suite, on supposera que $p(x)$ appartient à la classe des fonctions polynômiales.\n",
    "Un tel problème est relativement classique en science et, à partir des mesures $(x_i, y_i)$, des fonctions `numpy` telles que `polyfit` et `polyval` nous permettent de le résoudre.\n",
    "Un exemple est présenté ci-dessous.\n",
    "\n",
    "## Exemple\n",
    "\n",
    "Intéressons nous au cas où $f(x) = x - 2 \\sin(x)$.\n",
    "Les cellules `Jupyter` ci-dessous illustrent comment créer cette fonction, y ajouter un bruit blanc gaussien et tracer la figure résumant les mesures ainsi obtenues."
   ]
  },
  {
   "cell_type": "code",
   "execution_count": 2,
   "metadata": {},
   "outputs": [],
   "source": [
    "# --> Vraie fonction.\n",
    "f = lambda x: x - 2*np.sin(x)\n",
    " \n",
    "# --> Fonction + bruit\n",
    "noisy_f = lambda x: f(x) + np.random.normal(loc=0.0, scale=0.25, size=x.size)"
   ]
  },
  {
   "cell_type": "code",
   "execution_count": 3,
   "metadata": {},
   "outputs": [],
   "source": [
    "# --> Points de mesure -pi < x < pi.\n",
    "xi = np.random.uniform(low=-np.pi, high=np.pi, size=(20,))\n",
    "\n",
    "# --> Mesures y = f(x) + N(0, s^2).\n",
    "yi = noisy_f(xi)"
   ]
  },
  {
   "cell_type": "code",
   "execution_count": 4,
   "metadata": {},
   "outputs": [
    {
     "data": {
      "text/plain": [
       "Text(0, 0.5, 'y')"
      ]
     },
     "execution_count": 4,
     "metadata": {},
     "output_type": "execute_result"
    },
    {
     "data": {
      "image/png": "[encoded data removed]",
      "text/plain": [
       "<Figure size 432x288 with 1 Axes>"
      ]
     },
     "metadata": {
      "needs_background": "light"
     },
     "output_type": "display_data"
    }
   ],
   "source": [
    "# --> Trace le nuage de point correspondant aux mesures.\n",
    "plt.scatter(\n",
    "    xi, yi,              # Nuage de points\n",
    "    color=\"dimgray\",     # Couleur\n",
    "    label=\"Mesures\",     # Label à utiliser dans la légende.\n",
    "    alpha=0.5,           # Transparence\n",
    ")\n",
    "\n",
    "# --> Trace le courbe de la vraie fonction.\n",
    "x = np.linspace(-np.pi, np.pi, 1024)\n",
    "\n",
    "plt.plot(\n",
    "    x, f(x),                    # Graphe de la fonction.\n",
    "    label=\"Vraie fonction\",     # Label à utiliser dans la légende\n",
    "    color=\"dimgray\",            # Couleur\n",
    ")\n",
    "\n",
    "# --> Ajoute légende.\n",
    "plt.legend()\n",
    "\n",
    "# --> Ajoute les titres des axes.\n",
    "plt.xlabel(\"x\")\n",
    "plt.ylabel(\"y\")"
   ]
  },
  {
   "cell_type": "markdown",
   "metadata": {},
   "source": [
    "En regardant la figure ci-dessus, on voit que les mesures se répartissent en effet autour de la courbe de $f(x) = x - 2\\sin(x)$ au détail près qu'elles sont bruitées.\n",
    "La cellule ci-dessous illustre comment, à partir de ces mesures, identifier un polynôme de degré 3 qui approxime au mieux nos données.\n",
    "La fonction `mse` permet par ailleurs de calculer l'erreur quadratique moyenne entre nos mesures et les prédictions du modèle ainsi obtenu."
   ]
  },
  {
   "cell_type": "code",
   "execution_count": 5,
   "metadata": {},
   "outputs": [],
   "source": [
    "# --> Fit un polynome de degré 3 en utilisant les données.\n",
    "coefs = polyfit(xi, yi, 3)\n",
    "\n",
    "# --> Fonction permettant d'évaluer p(x).\n",
    "p = lambda x: polyval(x, coefs)\n",
    "\n",
    "# --> Erreur quadratique moyenne (Mean Squared Error)\n",
    "#    (i.e. écart entre le modèle et les données)\n",
    "mse = lambda x, y, p: 0.5 * np.sum( (p(x) - y)**2 ) / len(y)"
   ]
  },
  {
   "cell_type": "markdown",
   "metadata": {},
   "source": [
    "Traçons maintenant le graphe de notre modèle."
   ]
  },
  {
   "cell_type": "code",
   "execution_count": 6,
   "metadata": {},
   "outputs": [
    {
     "data": {
      "text/plain": [
       "Text(0.5, 1.0, 'Erreur quadratique moyenne : 0.05')"
      ]
     },
     "execution_count": 6,
     "metadata": {},
     "output_type": "execute_result"
    },
    {
     "data": {
      "image/png": "[encoded data removed]",
      "text/plain": [
       "<Figure size 432x288 with 1 Axes>"
      ]
     },
     "metadata": {
      "needs_background": "light"
     },
     "output_type": "display_data"
    }
   ],
   "source": [
    "# --> Trace le nuage de points des mesures.\n",
    "plt.scatter(\n",
    "    xi, yi,\n",
    "    color=\"dimgray\",\n",
    "    label=\"Mesures\",\n",
    "    alpha=0.5,\n",
    ")\n",
    "\n",
    "# --> Trace le graphe de la fonction approchée.\n",
    "plt.plot(\n",
    "    x, p(x),\n",
    "    label=\"Approximation\",\n",
    "    color=\"dodgerblue\",\n",
    "    linestyle=\"--\",\n",
    ")\n",
    "\n",
    "# --> Trace le graphe de la vraie fonction.\n",
    "plt.plot(\n",
    "    x, f(x),\n",
    "    label=\"Vraie fonction\",\n",
    "    color=\"dimgray\",\n",
    ")\n",
    "\n",
    "# --> Ajout le titre des axes.\n",
    "plt.xlabel(\"x\")\n",
    "plt.ylabel(\"y, f(x), p(x)\")\n",
    "\n",
    "# --> Ajoute la légende.\n",
    "plt.legend()\n",
    "\n",
    "# --> Ajoute le titre de la figure.\n",
    "plt.title(\n",
    "    \"Erreur quadratique moyenne : {0:0.2f}\".format(mse(xi, yi, p))\n",
    ")"
   ]
  },
  {
   "cell_type": "markdown",
   "metadata": {},
   "source": [
    "Clairement, notre modèle polynômial de degré 3 semble approximer correctement les données que nous avons utilisées pour l'entraîner.\n",
    "La question qui se pose est néanmoins la suivante : notre modèle $p(x)$ est-il capable de prédire correctement les valeurs obtenues pour de nouvelles mesures?\n",
    "Ceci est illustré ci-dessous."
   ]
  },
  {
   "cell_type": "code",
   "execution_count": 7,
   "metadata": {},
   "outputs": [],
   "source": [
    "# --> Nouveaux points de mesures.\n",
    "x_new = np.random.uniform(low=-np.pi, high=np.pi, size=(20,))\n",
    "\n",
    "# --> Mesures correspondantes.\n",
    "y_new = noisy_f(x_new)"
   ]
  },
  {
   "cell_type": "code",
   "execution_count": 8,
   "metadata": {},
   "outputs": [
    {
     "data": {
      "text/plain": [
       "Text(0.5, 1.0, 'Erreur quadratique moyenne : 0.06')"
      ]
     },
     "execution_count": 8,
     "metadata": {},
     "output_type": "execute_result"
    },
    {
     "data": {
      "image/png": "[encoded data removed]",
      "text/plain": [
       "<Figure size 432x288 with 1 Axes>"
      ]
     },
     "metadata": {
      "needs_background": "light"
     },
     "output_type": "display_data"
    }
   ],
   "source": [
    "# --> Trace le nuage de points correspondant aux nouvelles mesures.\n",
    "plt.scatter(\n",
    "    x_new, y_new,\n",
    "    color=\"dimgray\",\n",
    "    label=\"Nouvelles mesures\",\n",
    "    alpha=0.5,\n",
    ")\n",
    "\n",
    "# --> Trace le graphe de la fonction approximée.\n",
    "plt.plot(\n",
    "    x, p(x),\n",
    "    label=\"Approximation\",\n",
    "    color=\"dodgerblue\",\n",
    "    linestyle=\"--\",\n",
    ")\n",
    "\n",
    "# --> Trace le graphe de la vraie fonction.\n",
    "plt.plot(\n",
    "    x, f(x),\n",
    "    label=\"Vraie fonction\",\n",
    "    color=\"dimgray\",\n",
    ")\n",
    "\n",
    "# --> Ajoute le titre des axes.\n",
    "plt.xlabel(\"x\")\n",
    "plt.ylabel(\"y, f(x), p(x)\")\n",
    "\n",
    "# --> Ajoute la légende.\n",
    "plt.legend()\n",
    "\n",
    "# --> Ajoute le titre de la figure.\n",
    "plt.title(\n",
    "    \"Erreur quadratique moyenne : {0:0.2f}\".format(mse(x_new, y_new, p))\n",
    ")"
   ]
  },
  {
   "cell_type": "markdown",
   "metadata": {},
   "source": [
    "Il semblerait que oui.\n",
    "Le reste du TP consiste à étudier un peu plus en détail les propriétés de notre modèle et notamment comment choisir le bon degré polynômial pour notre approximation.\n",
    "\n",
    "---\n",
    "---\n",
    "\n",
    "### Travail à faire\n",
    "\n",
    "Dans l'exemple ci-dessus, nous nous sommes limité à approximer $f(x)$ par un polynôme de degré 3.\n",
    "Bien qu'intuitif, ce choix est à priori arbitraire.\n",
    "En effet, ayant 20 points de mesure pour apprendre la fonction, nous aurions pu approximer la fonction $f(x)$ par un polynôme de degré 19 passant exactement par ces 20 points, conduisant alors à une erreur quadratic moyenne nulle.\n",
    "Bien que nous aurions été capable de prédire exactement les données du jeu d'entraînement, le problème avec une telle approche est que l'erreur faite sur le jeu de test serait alors extrêmement grande, limitant alors fortement les capacités prédictives de notre modèle.\n",
    "Ce phénomène est connue en anglais sous le nom d'*overfitting* (ou sur-apprentissage).\n",
    "\n",
    "Les objectifs de ce TP sont :\n",
    "- d'illustrer ce phénomène de sur-apprentissage\n",
    "- voir comment détecter ce phénomène\n",
    "- illustrer comment choisir le degré polynômial de notre approximation de façon à avoir un équilibre entre la complexité de la fonction (i.e. son degré polynômial) et sa précision (i.e. l'erreur quadratique moyenne). Ceci est connu sous le nom de *principe de parsimonie*.\n",
    "\n",
    "Pour ce faire, nous utiliserons dans un premier temps la même fonction que dans l'exemple ci-dessus.\n",
    "\n",
    "#### Le phénomène de sur-apprentissage\n",
    "\n",
    "(&#9733;&#9734;&#9734;&#9734;&#9734;) En vous inspirant de l'exemple ci-dessus, approximez le nuage de points $(x_i, y_i)$ par un polynôme de degré 19."
   ]
  },
  {
   "cell_type": "code",
   "execution_count": null,
   "metadata": {},
   "outputs": [],
   "source": []
  },
  {
   "cell_type": "markdown",
   "metadata": {},
   "source": [
    "(&#9733;&#9733;&#9734;&#9734;&#9734;) Sur la même figure, tracez :\n",
    "- le nuage de points correspondant aux mesures $(x_i, y_i)$,\n",
    "- le graphe de la fonction $f(x)$,\n",
    "- le graphe du polynôme $p(x)$ que vous venez d'identifier.\n",
    "\n",
    "Vous penserez par ailleurs à ajouter le titre des axes, une légende ainsi que l'erreur quadratique moyenne de votre approximation en tant que titre de la figure."
   ]
  },
  {
   "cell_type": "code",
   "execution_count": null,
   "metadata": {},
   "outputs": [],
   "source": []
  },
  {
   "cell_type": "markdown",
   "metadata": {},
   "source": [
    "(&#9733;&#9733;&#9734;&#9734;&#9734;) Faites la même chose qu'à la question précédente mais en illustrant avec le jeu de données de test, i.e. $(x_{new}, y_{new})$."
   ]
  },
  {
   "cell_type": "code",
   "execution_count": null,
   "metadata": {},
   "outputs": [],
   "source": []
  },
  {
   "cell_type": "markdown",
   "metadata": {},
   "source": [
    "(&#9733;&#9733;&#9734;&#9734;&#9734;) En comparant ces deux graphiques, expliquez selon vous en quoi consiste ce problème de sur-apprentissage."
   ]
  },
  {
   "cell_type": "markdown",
   "metadata": {},
   "source": [
    "**Réponse :**"
   ]
  },
  {
   "cell_type": "markdown",
   "metadata": {},
   "source": [
    "#### Comment le détecter?\n",
    "\n",
    "Maintenant que nous avons vu en quoi consiste le phénomène de sur-apprentissage, intéressons nous à comment le détecter.\n",
    "Pour cela, nous utiliserons des courbes connues simplement sous le nom de *courbes d'apprentissage*.\n",
    "\n",
    "(&#9733;&#9733;&#9733;&#9734;&#9734;) Ecrivez une fonction qui, étant donné le jeu d'entraînement $(x_i, y_i)$ et celui de test $(x_{new}, y_{new})$, calcule l'erreur quadratique moyenne (`mse`) sur ces deux jeux de données pour différents degrés polynomiaux.\n",
    "Le squelette de la fonction vous ai donné ci-dessous."
   ]
  },
  {
   "cell_type": "code",
   "execution_count": null,
   "metadata": {},
   "outputs": [],
   "source": [
    "def learning_curve(xi, yi, xnew, ynew):\n",
    "    \n",
    "    # --> Nombre de points du jeu de données d'entraînement.\n",
    "    n = len(xi)\n",
    "    \n",
    "    # --> Initialisation des variables.\n",
    "    erreur_train = np.zeros(n)\n",
    "    erreur_test = np.zeros(n)\n",
    "    \n",
    "    # --> Boucle calculant le polynôme de degré i et ses erreurs quadratiques moyennes.\n",
    "    for i in range(n):\n",
    "        \n",
    "        # --> Fit le polynôme.\n",
    "        c = ??\n",
    "        \n",
    "        # --> Fonction permettant d'évaluer p(x).\n",
    "        p = lambda x : polyval(x, c)\n",
    "        \n",
    "        # --> Erreur quadratique moyenne sur le jeu d'entraînement.\n",
    "        erreur_train[i] = ??\n",
    "        \n",
    "        # --> Erreur quadratique moyenne sur le jeu de test.\n",
    "        erreur_test[i] = ??\n",
    "    \n",
    "    return erreur_train, erreur_test"
   ]
  },
  {
   "cell_type": "markdown",
   "metadata": {},
   "source": [
    "(&#9733;&#9733;&#9734;&#9734;&#9734;) Calculer à l'aide de la fonction ci-dessus l'évolution des erreurs quadratiques moyennes en fonction du degré polynômial de notre approximation puis tracer ces courbes.\n",
    "Pour la figure, vous penserez à :\n",
    "- ajouter une légende,\n",
    "- ajouter le nom des axes"
   ]
  },
  {
   "cell_type": "code",
   "execution_count": null,
   "metadata": {},
   "outputs": [],
   "source": []
  },
  {
   "cell_type": "markdown",
   "metadata": {},
   "source": [
    "(&#9733;&#9733;&#9734;&#9734;&#9734;) En vous basant sur la courbe d'apprentissage que vous venez de tracer, à partir de quel degré polynômiale le phénomène de sur-apprentissage commence-t'il à apparaître selon vous?\n",
    "Quel degré polynômial choisisseriez-vous pour votre modèle? Justifiez."
   ]
  },
  {
   "cell_type": "markdown",
   "metadata": {},
   "source": [
    "**Réponse :**"
   ]
  }
 ],
 "metadata": {
  "@webio": {
   "lastCommId": null,
   "lastKernelId": null
  },
  "kernelspec": {
   "display_name": "Python 3",
   "language": "python",
   "name": "python3"
  },
  "language_info": {
   "codemirror_mode": {
    "name": "ipython",
    "version": 3
   },
   "file_extension": ".py",
   "mimetype": "text/x-python",
   "name": "python",
   "nbconvert_exporter": "python",
   "pygments_lexer": "ipython3",
   "version": "3.7.6"
  }
 },
 "nbformat": 4,
 "nbformat_minor": 2
}
