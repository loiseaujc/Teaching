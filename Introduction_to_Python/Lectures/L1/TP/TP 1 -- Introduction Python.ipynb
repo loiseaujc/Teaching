{
 "cells": [
  {
   "cell_type": "markdown",
   "id": "fb9db7ea",
   "metadata": {},
   "source": [
    "<img src=\"https://assets.ensam.eu/logo/fr/logo-trans-322x84.png\" width=\"256px\" align=\"left\"/>"
   ]
  },
  {
   "cell_type": "markdown",
   "id": "8840c5d7",
   "metadata": {},
   "source": [
    "Avant de me rendre votre notebook, assurez-vous que tout tourne comme attendu.\n",
    "Pour cela, **redémarrer le kernel** (dans la barre de menu, selectionnez *Kernel $\\rightarrow$ Restart*) et ensuite **exécutez toutes les cellules** (dans la barre de menu, selectionnez *Cellules $\\rightarrow$ Exécuter toutes les cellules*).\n",
    "\n",
    "Assurez-vous par ailleurs d'avoir écrit votre code partout où il est dit `YOUR CODE HERE` ainsi que les réponses libres où il est écrit \"YOUR ANSWER HERE\".\n",
    "Enfin, rentrez votre nom et celui des personnes avec qui vous avez travaillés ci-dessous."
   ]
  },
  {
   "cell_type": "code",
   "execution_count": null,
   "id": "1e1d3061",
   "metadata": {},
   "outputs": [],
   "source": [
    "NAME = \"\"\n",
    "COLLABORATORS = \"\""
   ]
  },
  {
   "cell_type": "markdown",
   "id": "db64cab0",
   "metadata": {},
   "source": [
    "---"
   ]
  },
  {
   "cell_type": "markdown",
   "id": "1271c453",
   "metadata": {},
   "source": [
    "# TP n°1 : Introduction à Python\n",
    "\n",
    "---\n",
    "\n",
    "<img src=\"https://upload.wikimedia.org/wikipedia/commons/thumb/f/f8/Python_logo_and_wordmark.svg/1200px-Python_logo_and_wordmark.svg.png\" width=\"256px\" align=\"left\"/>\n",
    "\n",
    "L'objectif de ce tout premier TP est de vous familiariser avec la syntaxe de base en `Python`.\n",
    "`Python` est un langage de programmation crée en 1991 par le Néerlandais [Guido van Rossum](https://fr.wikipedia.org/wiki/Guido_van_Rossum).\n",
    "Depuis sa création, le langage est régulièrement amélioré, notamment grâce au travail de la [Python Software Foundation](https://fr.wikipedia.org/wiki/Python_Software_Foundation), et a été placé sous une [licence libre](https://fr.wikipedia.org/wiki/Licence_libre) proche de la [licence BSD](https://fr.wikipedia.org/wiki/Licence_BSD).\n",
    "\n",
    "`Python` fonctionne sur la plupart des plates-formes informatiques, des smartphones jusqu'aux supers calculateurs.\n",
    "Il est par ailleurs disponible pour la plupart des systèmes d'exploitation, de Windows à Linux en passant par macOS, Android et iOS.\n",
    "Cette grande disponibilité et son caractère libre font qu'aujourd'hui `Python` fait parti des langages de programmation les plus utilisés dans le monde.\n",
    "Par ailleurs, sa syntaxe relativement simple à prendre en main est également l'une des raisons pour lesquelles `Python` est souvent le premier langage de programmation enseigné aux étudiants.\n",
    "\n",
    "---\n",
    "\n",
    "**Installation** &emsp; Dans l'éventualité où vous n'auriez pas accès aux ordinateurs de l'école, il existe de nombreuses façons d'installer `Python` sur votre ordinateur personnel.\n",
    "\n",
    "<img src=\"https://firefortysix.files.wordpress.com/2020/08/anaconda-logo-1.jpg?w=1120\" width=\"256px\" align=\"left\"/>\n",
    "\n",
    "La méthode la plus simple et la plus complète, peu importe votre OS, reste néanmoins d'installer la distribution `Python` proposée par [Anaconda](https://www.anaconda.com/products/individual).\n",
    "Il s'agit d'une distribution `Python` extrêmement complète utilisée par plus de 25 millions d'utilisateurs à travers le monde, notamment par l'école.\n",
    "L'installation est très simple et vous garantira d'avoir absolument tous les outils `Python` dont vous pourriez avoir besoin, aussi bien dans le cadre de ce cours que plus généralement.\n",
    "En particulier, [Anaconda](https://www.anaconda.com/products/individual) installera automatiquement [Jupyter](https://jupyter.org/) vous permettant ainsi d'utiliser les **notebooks** sur lesquels ce cours est basé.\n",
    "\n",
    "<img src=\"https://colab.research.google.com/img/colab_favicon_256px.png\" width=\"128px\" align=\"left\"/>\n",
    "\n",
    "Par ailleurs, si il est vous est impossible d'installer directement Anaconda car l'ordinateur portable que vous utilisez appartient à votre entreprise et que l'accord du service informatique est nécessaire, notez que Google met gratuitement à disposition ses capacités de calcul pour utiliser en ligne des notebooks Jupyter via sa plateforme [Google Colab](https://colab.research.google.com/).\n",
    "Bien que le design soit légèrement différent de celui des notebooks Jupyter classique, [Google Colab](https://colab.research.google.com/) offre néanmoins les mêmes possibilités.\n",
    "Il est possible notamment de charger un notebook Jupyter que vous auriez reçu par ailleurs directement sur [Google Colab](https://colab.research.google.com/).\n",
    "Enfin, cette alternative ne nécessite aucune installation puisque `Python` et l'ensemble des librairies dont vous pourriez avoir besoin sont disponibles par défaut sur la plateforme.\n",
    "\n",
    "---\n",
    "\n",
    "**Ressources en ligne** &emsp; L'objectif de ce cours est de vous familiariser avec `Python`.\n",
    "Pour cela, chaque TP comportera un certain nombre d'exercices à faire pendant la séance.\n",
    "Ces exercices ne vous présenteront néanmoins que les éléments les plus basiques et une certaine dose de travail personnel de votre part sera alors nécessaire.\n",
    "De nombreuses ressources sont disponibles en ligne afin d'aller plus loin.\n",
    "Vous trouverez ci-dessous une liste non-exhaustive.\n",
    "\n",
    "| Lien | Decription |\n",
    "|:---:|:---:|\n",
    "| [Learnpython.org](https://www.learnpython.org/) | Site en anglais proposant une large gamme de tutoriels interactifs pour se familiariser avec `Python`. En plus des tutoriels d'introduction à `Python`, il propose également des exercices pour se familiariser avec `NumPy` et `Pandas`, deux des librairies `Python` les plus utilisées en science des données.|\n",
    "| [Google's Python Class](https://developers.google.com/edu/python/) | description |\n",
    "| [Coursera](https://www.coursera.org/) | description |\n",
    "| [CodeWars](https://www.codewars.com/) | description |\n",
    "\n",
    "Il existe de nombreuses autres ressources disponibles, notamment en Français.\n",
    "Si l'anglais n'est donc pas votre tasse de thé, une petite recherche Google devrait vous aider.\n",
    "Je vous déconseille cependant d'utiliser les outils de traduction automatique offerts par Google puisque ces derniers pourraient traduire en français des bouts de code qui ne pourraient alors plus fonctionner.\n",
    "\n",
    "---\n",
    "\n",
    "**Organisation du cours** &emsp; Ce cours d'introduction à `Python` se divise en 5 séances de 3h chacune.\n",
    "Chaque séance abordera un aspect particulier de `Python` et se divisera de la façon suivante : environ 1h de présentation/cours/exemples suivie d'environ 2h de mise en pratique à l'aide de TP sous forme de notebooks Jupyter.\n",
    "Les différentes séances aborderont les éléments suivants :\n",
    "- *TP n°1 - Introduction à Python :* Le présent TP. Son objectif est de vous familiariser avec la syntaxe en `Python`.\n",
    "- *TP n°2 - Introduction à NumPy :* `NumPy` est LA bibliothèque pour manipuler des vecteurs et des tableaux/matrices formant la base du calcul scientifique.\n",
    "- *TP n°3 - Introduction à Matplotlib :* `Matplotlib` est la bibliothèque `Python` la plus populaire et la plus complète pour tracer des figures, éléments essentiels pour présenter les résultats de vos analyses.\n",
    "- *TP n°4 - Bonnes pratiques en NumPy :* Dans ce TP, nous reviendrons à `NumPy` et discuterons en particulier les bonnes pratiques de programmation permettant de faire en sorte que votre code tourne rapidement.\n",
    "- *TP n°5 - Introduction à SymPy :* `SymPy` est une bibliothèque `Python` permettant de faire du calcul symbolique de façon similaire à `Mathematica` ou `Mapple`.\n",
    "\n",
    "Bien qu'il sera nécessaire de rendre vos notebooks Jupyter à la fin de chaque séance (ou quelques jours après), **uniquement les TP n° 3 et 4 feront l'objet d'une évaluation notée**.\n",
    "Cette évaluation sera complétée par un examen dont la date reste à déterminer avec la scolarité en fonction de vos plannings.\n",
    "Afin de maximiser vos chances de réussite, votre note finale sera calculée de la façon suivante\n",
    "\n",
    "$$\n",
    "\\textrm{Note finale} = \\max \\left( \\dfrac{\\textrm{TP 3 + TP 4 + Examen}}{3},\\ \\textrm{Examen} \\right).\n",
    "$$\n",
    "\n",
    "Si malheureusement la situation sanitaire ne permet pas de faire un examen en présentiel, les modalités d'évaluation seraient à re-discuter.\n",
    "\n",
    "---\n",
    "---\n",
    "\n",
    "## Introduction à Python\n",
    "\n",
    "`Python` est un langage de programmation qui peut s'utiliser dans un champ très large d'applications, notamment grâce à des bibliothèques (ou *packages*) spécialisées.\n",
    "Il est actuellement de plus en plus utilisé dans le domaine du développement web ou pour des applications mobiles.\n",
    "Il est également extrêmement répandu dans le monde scientifique, en particulier grâce aux nombreuses bibliothèques optimisées destinées au calcul numérique.\n",
    "A titre d'exemple, la plupart des bibliothèques les plus utilisées aujourd'hui en *Machine Learning* et *Intelligence Artificielle* sont développées directement en `Python`.\n",
    "\n",
    "`Python` a été conçu pour être un langage lisible et visuellement épuré.\n",
    "Ainsi, il possède beaucoup moins de constructions syntaxiques que d'autres langages (par exemple les accolades { et } en C et C++).\n",
    "Cette syntaxe relativement simple à prendre en main est l'une des raisons pour lesquelles `Python` est souvent le premier langage de programmation enseigné aux étudiants.\n",
    "C'est maintenant à votre tour!\n",
    "\n",
    "### Hello World!\n",
    "\n",
    "Afficher à l'écran la chaîne de caractères `Hello World!` est traditionnellement la première chose demandée lorsque l'on apprend un nouveau langage de programmation.\n",
    "Cela permet de s'assurer bien souvent que les éléments de base nécessaires à l'exécution d'un programme sont installés correctement.\n",
    "Une page [Wikipedia](https://fr.wikipedia.org/wiki/Liste_de_programmes_Hello_world) dédiée vous présente comment faire dans plus de 150 langages de programmation différents.\n",
    "Alors que certains langages ne nécessitent qu'une seule ligne de code pour réussir ce tour de force, d'autres (souvent plus anciens) peuvent avoir besoin d'une dizaine de lignes ou plus!\n",
    "\n",
    "En `Python`, la ligne de code suivante suffit\n",
    "\n",
    "```\n",
    "print(\"Hello World!\")\n",
    "```\n",
    "\n",
    "`print` est ce que l'on appelle une fonction `Python` permettant d'afficher quelque chose.\n",
    "Dans le cas présent, elle prend en argument d'entrée une chaîne de caractères (délimitée par `\" \"`) et l'affiche à l'écran.\n",
    "A votre tour maintenant de vérifier que tout fonctionne correctement en affichant `Hello World!` à l'écran.\n",
    "Une fois que vous avez entré votre ligne de code, vous pouvez l'exécuter en choississant la cellule et en appuyant sur `Exécuter` dans la barre de menu ou alors directement à l'aide des touches `Shift + Entrée`."
   ]
  },
  {
   "cell_type": "code",
   "execution_count": null,
   "id": "b0248b79",
   "metadata": {
    "deletable": false,
    "nbgrader": {
     "cell_type": "code",
     "checksum": "9b1261c60e47b7fcd508d315f03f0d69",
     "grade": true,
     "grade_id": "cell-c20018022f79b200",
     "locked": false,
     "points": 0,
     "schema_version": 3,
     "solution": true,
     "task": false
    }
   },
   "outputs": [],
   "source": [
    "# YOUR CODE HERE\n",
    "raise NotImplementedError()"
   ]
  },
  {
   "cell_type": "markdown",
   "id": "b5afb0a9",
   "metadata": {},
   "source": [
    "Si tout se passe bien, vous devriez voir les mots `Hello World!` affichés sous la cellule Jupyter ci-dessus.\n",
    "Si ce n'est pas le cas, cela signifie qu'il y'a un problème.\n",
    "Contactez-moi le cas échéant.\n",
    "\n",
    "Il est possible en `Python` d'ajouter des commentaires à votre code afin de documenter ce que vous faites.\n",
    "Peu importe ce que vous écrivez comme commentaires, ces derniers ne seront pas exécutés par le langage.\n",
    "**L'usage de commentaires est fortement recommandé** pour deux raisons principales :\n",
    "1. *Pour vous* : les commentaires vous peuvent être utilisés comme des penses-bêtes pour vous souvenir de différentes choses dans votre code, notemment lorsque vous le mettez de côté un moment et recommencer à travailler dessus quelques jours ou semaines plus tard.\n",
    "2. *Pour les autres* : il arrive bien souvent que le code que vous écriviez soit amené à être partager avec d'autres personnes (vos collègues, clients, ami.e.s, etc). Les commentaires servent alors à documenter votre code facilitant alors sa compréhension par quelqu'un d'autre, en particulier si le code est long et compliqué ou si vous n'êtes pas à côté.\n",
    "\n",
    "En Python, un commentaire commence par le caractère `#`.\n",
    "Tout ce qui suit, tant que cela reste sur la même ligne, sera considéré comment un commentaire par l'interpréteur `Python`.\n",
    "Ceci est illustré ci-dessous."
   ]
  },
  {
   "cell_type": "code",
   "execution_count": null,
   "id": "ca2b2cff",
   "metadata": {},
   "outputs": [],
   "source": [
    "# Commentaire : print(\"Hello World!\") affiche la chaîne de \n",
    "# caractère à l'écran.\n",
    "print(\"Hello World!\")"
   ]
  },
  {
   "cell_type": "markdown",
   "id": "8c1692a3",
   "metadata": {},
   "source": [
    "Si vous avez exécuté la cellule ci-dessus, vous devriez voir que `Python` n'a absolument pas pris en compte ce qui était écrit dans les commentaires et n'a exécuté que le code nécessaire à afficher `Hello World!` à l'écran."
   ]
  },
  {
   "cell_type": "markdown",
   "id": "19d2c91c",
   "metadata": {},
   "source": [
    "<div class=\"alert alert-block alert-info\">\n",
    "    <b>Exercice :</b> Utilisez la fonction <code>print</code> pour afficher la phrase que vous voulez à l'écran.\n",
    "</div>"
   ]
  },
  {
   "cell_type": "code",
   "execution_count": null,
   "id": "92dde69e",
   "metadata": {
    "deletable": false,
    "nbgrader": {
     "cell_type": "code",
     "checksum": "6755e1efc1a58f01f434444b0d2f90a9",
     "grade": true,
     "grade_id": "cell-3aa7f4402d574d6f",
     "locked": false,
     "points": 0,
     "schema_version": 3,
     "solution": true,
     "task": false
    }
   },
   "outputs": [],
   "source": [
    "# YOUR CODE HERE\n",
    "raise NotImplementedError()"
   ]
  },
  {
   "cell_type": "markdown",
   "id": "7b001203",
   "metadata": {},
   "source": [
    "---\n",
    "\n",
    "### Variables et types\n",
    "\n",
    "Une **variable** est un élement qui associe un *nom* (l'identifiant) à une *donnée* (ou *valeur*) qui sera implantée dans la mémoire de l'ordinateur.\n",
    "Ainsi, la ligne suivante\n",
    "\n",
    "```\n",
    "msg = \"Hello World!\"\n",
    "```\n",
    "\n",
    "crée une variable appelée `msg` dans laquelle on stocke la chaîne de caractères `Hello World!`.\n",
    "A noter que la valeur de la variable peut varier au cours de l'exécution du programme."
   ]
  },
  {
   "cell_type": "markdown",
   "id": "e7e26d5d",
   "metadata": {},
   "source": [
    "<div class=\"alert alert-block alert-info\">\n",
    "    <b>Exercice :</b> Expliquez avec vos mots ce que fait le programme suivant.\n",
    "\n",
    "    msg = \"Hello World!\"\n",
    "\n",
    "    print(msg)\n",
    "\n",
    "    msg = \"Goodbye World!\"\n",
    "\n",
    "    print(msg)\n",
    "</div>"
   ]
  },
  {
   "cell_type": "markdown",
   "id": "825aa9fc",
   "metadata": {
    "deletable": false,
    "nbgrader": {
     "cell_type": "markdown",
     "checksum": "23aa294b7251b5f876276adff2c5718e",
     "grade": true,
     "grade_id": "cell-7c8b40d5cfd7293e",
     "locked": false,
     "points": 0,
     "schema_version": 3,
     "solution": true,
     "task": false
    }
   },
   "source": [
    "YOUR ANSWER HERE"
   ]
  },
  {
   "cell_type": "markdown",
   "id": "39efdaf8",
   "metadata": {},
   "source": [
    "Chaque variable créée est d'un **type** donné.\n",
    "Dans l'exemple précédent, la variable `msg` est une chaîne de caractère, ou *string* en anglais (notée `str` en `Python`).\n",
    "Il existe de nombreux types différents.\n",
    "En ce qui nous concerne, les types principaux avec lesquels nous seront amenés à travailler sont les suivants :\n",
    "- `str` : chaîne de caractères (même si elle ne contient qu'un seul caractère).\n",
    "- `int` : nombre entier (e.g. 1, 2, 3, 4 etc).\n",
    "- `float` : nombre à virgule (e.g. 3.1415, 10000.838, etc).\n",
    "\n",
    "&#x26A0;&#x26A0;&#x26A0; En `Python`, les variables `x = 1` et `y = 1.0` sont de types différents !\n",
    "Bien qu'ils soit mathématiquement équivalents, `x` est enregistré en mémoire comme étant un entier (`int`) tandis que `y` est un flottant (`float`).\n",
    "\n",
    "Afin de connaître le type d'une variable, vous pouvez utilisez la fonction `type`.\n",
    "Par exemple, pour connaître le type de `x` et `y` nous pourrions utiliser le code suivant\n",
    "\n",
    "```\n",
    "x = 1\n",
    "y = 1.0\n",
    "\n",
    "# --> Affiche à l'écran le type de la variable x.\n",
    "print(type(x))\n",
    "\n",
    "# --> Affiche à l'écran le type de la variable y.\n",
    "print(type(y))\n",
    "```"
   ]
  },
  {
   "cell_type": "markdown",
   "id": "2e332500",
   "metadata": {},
   "source": [
    "<div class=\"alert alert-block alert-info\">\n",
    "    <b>Exercice :</b> Considérez les variables suivantes\n",
    "\n",
    "```\n",
    "msg = \"Je suis un entier\"\n",
    "x = 1234\n",
    "y = 0.5\n",
    "z = 3/1\n",
    "```\n",
    "\n",
    "Déterminez le type de chacune d'elle.\n",
    "Avez-vous un résultat surprenant ?\n",
    "Si oui, essayez de l'expliquer.\n",
    "    </div>"
   ]
  },
  {
   "cell_type": "code",
   "execution_count": null,
   "id": "e91ad4ba",
   "metadata": {},
   "outputs": [],
   "source": []
  },
  {
   "cell_type": "markdown",
   "id": "00158dce",
   "metadata": {
    "deletable": false,
    "nbgrader": {
     "cell_type": "markdown",
     "checksum": "7858826a65a3f0343e059db11403b8f0",
     "grade": true,
     "grade_id": "cell-0031067e982a9f07",
     "locked": false,
     "points": 0,
     "schema_version": 3,
     "solution": true,
     "task": false
    }
   },
   "source": [
    "YOUR ANSWER HERE"
   ]
  },
  {
   "cell_type": "markdown",
   "id": "66138f3b",
   "metadata": {},
   "source": [
    "<div class=\"alert alert-block alert-info\">\n",
    "    <b>Exercice :</b> Dans cet exercice, on se propose de créer une chaîne de caractère, un nombre entier et un nombre flottant.\n",
    "    La chaîne de caractère <code>Je suis une phrase</code> devra être stockée dans une variable appelée <code>mystr</code>.\n",
    "    Le nombre flottant devra être égal à <code>3.1415</code> et stocké dans une variable <code>myfloat</code>.\n",
    "    Enfin, le nombre entier sera égal à <code>42</code> et stocké dans la variable <code>myint</code>.\n",
    "</div>    "
   ]
  },
  {
   "cell_type": "code",
   "execution_count": null,
   "id": "d7550421",
   "metadata": {
    "deletable": false,
    "nbgrader": {
     "cell_type": "code",
     "checksum": "03aeb12c6d34a7d17088d7fbe30d0060",
     "grade": false,
     "grade_id": "cell-9b0fcf6d9e1b41b1",
     "locked": false,
     "schema_version": 3,
     "solution": true,
     "task": false
    }
   },
   "outputs": [],
   "source": [
    "# YOUR CODE HERE\n",
    "raise NotImplementedError()"
   ]
  },
  {
   "cell_type": "code",
   "execution_count": null,
   "id": "71ad3b1b",
   "metadata": {
    "deletable": false,
    "editable": false,
    "nbgrader": {
     "cell_type": "code",
     "checksum": "1ee37e5b113aa35e27ab797f49bf4726",
     "grade": true,
     "grade_id": "cell-3f2fbd0819fff531",
     "locked": true,
     "points": 0,
     "schema_version": 3,
     "solution": false,
     "task": false
    }
   },
   "outputs": [],
   "source": []
  },
  {
   "cell_type": "markdown",
   "id": "088d7110",
   "metadata": {},
   "source": [
    "---\n",
    "\n",
    "### Les Listes\n",
    "\n",
    "Une **liste** (*list* en anglais) est une structure de données contenant une série de valeurs, possiblement toutes de type différent.\n",
    "Une liste peut par ailleurs contenir autant de valeurs que vous le souhaitez (dans la limite de la mémoire disponible sur votre ordinateur) et il est possible de récupérer l'une des valeurs de la liste en utilisant sa position dans la liste (son **indice** ou *index* en anglais).\n",
    "Cela en fait une structure de données extrêmement générale.\n",
    "Voici quelques exemples."
   ]
  },
  {
   "cell_type": "code",
   "execution_count": null,
   "id": "15c09c21",
   "metadata": {
    "deletable": false,
    "editable": false,
    "nbgrader": {
     "cell_type": "code",
     "checksum": "8be2b496ab6513ce29d8f80d7ef4a697",
     "grade": false,
     "grade_id": "cell-0473f434a95b9368",
     "locked": true,
     "schema_version": 3,
     "solution": false,
     "task": false
    }
   },
   "outputs": [],
   "source": [
    "animaux = [\"lion\", \"tigre\", \"otarie\", \"cheval\", \"koala\"]\n",
    "mixte = [\"lion\", 42, \"éléphant\", 3.1415]"
   ]
  },
  {
   "cell_type": "markdown",
   "id": "9b8966ff",
   "metadata": {},
   "source": [
    "Comme vous pouvez le voir, une liste est déclarée par une série de valeurs séparées par des virgules, et le tout encadré par des **crochets**.\n",
    "\n",
    "&#x26A0;&#x26A0;&#x26A0; Si il est possible de récupérer n'importe quel élément de la liste en utilisant son indice, il est important de noter qu'en `Python` la première position dans la liste correspond à l'indice `0`!\n",
    "Ainsi, pour une liste comportant `n` éléments, le premier élément est à la position `0`, le deuxième élément à la position `1`, et ainsi de suite jusqu'au n-ième élément à la position `n-1`.\n",
    "Le code ci-dessous illustre comment récupérer le deuxième élément de la liste `animaux` et ensuite l'afficher à l'écran.\n",
    "\n",
    "```\n",
    "data = animaux[1]\n",
    "print(data)\n",
    "```"
   ]
  },
  {
   "cell_type": "markdown",
   "id": "e8f9f7cf",
   "metadata": {},
   "source": [
    "<div class=\"alert alert-block alert-info\">\n",
    "    <b>Exercice :</b> Récupérez le quatrième élément de la liste <code>mixte</code> et affichez le à l'écran.\n",
    "</div>"
   ]
  },
  {
   "cell_type": "code",
   "execution_count": null,
   "id": "19acec17",
   "metadata": {
    "deletable": false,
    "nbgrader": {
     "cell_type": "code",
     "checksum": "eb18fdb8c25d32a818d54b323e6abd5d",
     "grade": true,
     "grade_id": "cell-2fe0aca5e76843ec",
     "locked": false,
     "points": 0,
     "schema_version": 3,
     "solution": true,
     "task": false
    }
   },
   "outputs": [],
   "source": [
    "# YOUR CODE HERE\n",
    "raise NotImplementedError()"
   ]
  },
  {
   "cell_type": "markdown",
   "id": "13458c73",
   "metadata": {},
   "source": [
    "#### Concaténer sur les listes\n",
    "\n",
    "Tout comme pour des chaînes de caractères, l'opération consistant à joindre deux listes s'appelle la **concaténation**.\n",
    "Cette opération peut être faite de façons en `Python`.\n",
    "Ceci est illustré ci-dessous."
   ]
  },
  {
   "cell_type": "code",
   "execution_count": null,
   "id": "b269da66",
   "metadata": {
    "deletable": false,
    "editable": false,
    "nbgrader": {
     "cell_type": "code",
     "checksum": "230debd718bd970843339cd77a389fec",
     "grade": false,
     "grade_id": "cell-b0192a87dab4ba57",
     "locked": true,
     "schema_version": 3,
     "solution": false,
     "task": false
    }
   },
   "outputs": [],
   "source": [
    "# En utilisant l'opérateur +\n",
    "resultat_1 = mixte + animaux\n",
    "print(\"En utilisant l'opérateur + :\", resultat_1, \"\\n\")\n",
    "\n",
    "# En utilisant la fonction extend.\n",
    "resultat_2 = mixte.copy()    # On fait une copie de la liste mixte histoire de ne pas réécrire par-dessus.\n",
    "resultat_2.extend(animaux)\n",
    "print(\"En utilisant la fonction extend :\", resultat_2)"
   ]
  },
  {
   "cell_type": "markdown",
   "id": "0b789ddc",
   "metadata": {},
   "source": [
    "Bien qu'elles donnent le même résultat, ces deux manières de faire fonctionnent de façon différente.\n",
    "Lorsque l'on fait `mixte + animaux`, `Python` concatène les deux listes mais stocke le résultat dans un nouvel endroit en mémoire.\n",
    "Si on veut récupérer ce résultat, il est alors nécessaire de créer une nouvelle variable (ici `resultat_1`).\n",
    "La fonction `extend` se comporte différement.\n",
    "Après avoir copié le contenu de la liste `mixte` dans une nouvelle variable `resultat_2`, cette dernière contient les éléments suivants\n",
    "\n",
    "```\n",
    "[\"lion\", 42, \"éléphant\", 3.1415]\n",
    "```\n",
    "\n",
    "En faisant `resultat_2.extend(animaux)`, `Python` concatène les deux listes mais ne stocke pas le résultat dans un nouvel endroit mémoire.\n",
    "A la place, il augmente la mémoire allouée à la variable `resultat_2` et y ajoute les éléments de la liste `animaux`.\n",
    "\n",
    "Ces deux façons de faire correspondent donc à deux usages légèrement différents en pratique :\n",
    "- Si il est nécessaire de garder en mémoire l'ancienne liste, alors préférez l'opérateur `+`.\n",
    "- En revanche, si vous souhaitez juste concaténer les deux listes sans avoir besoin de garder une trace de ce que la liste initiale était, alors utilisez `extend`.\n",
    "\n",
    "Si ce n'est pas très clair, ce n'est pas grave.\n",
    "Dans le doute, utilisez `+`."
   ]
  },
  {
   "cell_type": "markdown",
   "id": "6e58f55c",
   "metadata": {},
   "source": [
    "#### Tranches (slicing) et indiçage négatif\n",
    "\n",
    "L'un des avantages des listes est la possibilité de sélectionner une partie d'une liste `x` en utilisant un indiçage du type `x[m:n]`.\n",
    "Cette commande permet de récupérer tous les éléments de la liste `x` du `m`-ème au `(n-1)`-ème (i.e. de `m` inclus à `n` exclus).\n",
    "On dit alors que l'on récupère une **tranche** (**slice** en anglais) de la liste.\n",
    "Rappelez-vous par ailleurs que `Python` se base sur un modèle d'indice commençant à `0`!"
   ]
  },
  {
   "cell_type": "code",
   "execution_count": null,
   "id": "fedfb1fb",
   "metadata": {
    "deletable": false,
    "editable": false,
    "nbgrader": {
     "cell_type": "code",
     "checksum": "7c23891cde03a534ff36961c3265b421",
     "grade": false,
     "grade_id": "cell-5171124a836151f3",
     "locked": true,
     "schema_version": 3,
     "solution": false,
     "task": false
    }
   },
   "outputs": [],
   "source": [
    "animaux = [\"lion\", \"tigre\", \"otarie\", \"cheval\", \"koala\"]\n",
    "\n",
    "# --> Affiche les trois premiers éléments.\n",
    "print( animaux[0:3] )\n",
    "#print( animaux[:3] )     # Alternative.\n",
    "\n",
    "# --> Affiche tous les élements à partir du 2 ème.\n",
    "print( animaux[1:] )\n",
    "\n",
    "# --> Affiche tous les éléments du 2 ème à l'avant dernier.\n",
    "print( animaux[1:-1] )"
   ]
  },
  {
   "cell_type": "markdown",
   "id": "55910bff",
   "metadata": {},
   "source": [
    "Il est également possible de préciser le pas, i.e. le nombre d'éléments que l'on souhaite sauter à chaque fois."
   ]
  },
  {
   "cell_type": "code",
   "execution_count": null,
   "id": "9184eeb8",
   "metadata": {},
   "outputs": [],
   "source": [
    "x = [0, 1, 2, 3, 4, 5, 6, 7, 8, 9, 10]\n",
    "\n",
    "# --> Pas de 2 pour récupérer tous les nombres paires de la liste.\n",
    "print( x[::2] )\n",
    "\n",
    "# --> Récupère tous les éléments, du 1er au 9eme par pas de trois.\n",
    "print( x[0:9:3] )"
   ]
  },
  {
   "cell_type": "markdown",
   "id": "10cea00f",
   "metadata": {},
   "source": [
    "Le modèel d'indiçage est donc le suivant : `[début:fin:pas]`.\n",
    "Notez q'un pas de `-1` inverse la liste, e.g."
   ]
  },
  {
   "cell_type": "code",
   "execution_count": null,
   "id": "d168d176",
   "metadata": {},
   "outputs": [],
   "source": [
    "# --> Inverse la liste.\n",
    "print( animaux[::-1] )\n",
    "print( x[::-1] )"
   ]
  },
  {
   "cell_type": "markdown",
   "id": "f4dcd388",
   "metadata": {},
   "source": [
    "L'usage d'un indice négatif est également très utile pour récupérer les derniers éléments d'une liste, peu importe sa taille.\n",
    "Ainsi, `x[-1]` récupère le dernier élément tandis que `x[-2]` récupère l'avant-dernier, etc."
   ]
  },
  {
   "cell_type": "markdown",
   "id": "8ca65c73",
   "metadata": {},
   "source": [
    "#### Les fonctions `len()`, `range()` et `list()`\n",
    "\n",
    "La fonction `len(x)` vous permet de connaître la longueur de la liste `x`, c'est à dire le nombre d'éléments qu'elle contient."
   ]
  },
  {
   "cell_type": "code",
   "execution_count": null,
   "id": "0f81b8c3",
   "metadata": {},
   "outputs": [],
   "source": [
    "x = [0, 1, 2, 3, 4, 5]\n",
    "print(\"Longueur de la liste : \", len(x) )"
   ]
  },
  {
   "cell_type": "markdown",
   "id": "641c7a5e",
   "metadata": {},
   "source": [
    "Il existe deux autres fonctions qui peuvent vous être très utiles : `range()` et `list()`.\n",
    "Vous pouvez regarder leur documentation et essayer de comprendre ce qu'elles font en tapant `range?` et `list?` dans la cellule ci-dessous."
   ]
  },
  {
   "cell_type": "code",
   "execution_count": null,
   "id": "d9f07f3e",
   "metadata": {
    "deletable": false,
    "editable": false,
    "nbgrader": {
     "cell_type": "code",
     "checksum": "0686d3b3b907beb6979bf69f4c46c32d",
     "grade": false,
     "grade_id": "cell-ba4eee55ea8e5a72",
     "locked": true,
     "schema_version": 3,
     "solution": false,
     "task": false
    }
   },
   "outputs": [],
   "source": [
    "range?"
   ]
  },
  {
   "cell_type": "code",
   "execution_count": null,
   "id": "26cfedda",
   "metadata": {
    "deletable": false,
    "editable": false,
    "nbgrader": {
     "cell_type": "code",
     "checksum": "e44d4e85b5d898c6294ab5b72c4b57d4",
     "grade": false,
     "grade_id": "cell-fc7ddefc58b59778",
     "locked": true,
     "schema_version": 3,
     "solution": false,
     "task": false
    }
   },
   "outputs": [],
   "source": [
    "list?"
   ]
  },
  {
   "cell_type": "markdown",
   "id": "ff6a35cf",
   "metadata": {},
   "source": [
    "#### Listes de listes\n",
    "\n",
    "Une liste peut ne pas contenir que des nombres ou des chaines de caractères mais également d'autres listes!\n",
    "Ainsi, l'exemple ci-dessous (inspiré d'[ici](https://python.sdv.univ-paris-diderot.fr/04_listes/)) est parfaitment fonctionnel."
   ]
  },
  {
   "cell_type": "code",
   "execution_count": null,
   "id": "e1992571",
   "metadata": {},
   "outputs": [],
   "source": [
    "# --> Liste des enclos.\n",
    "enclos_1 = [\"girafe\", 4]\n",
    "enclos_2 = [\"tigre\", 2]\n",
    "enclos_3 = [\"singe\", 5]\n",
    "\n",
    "# --> Zoo.\n",
    "zoo = [enclos_1, enclos_2, enclos_3 ]\n",
    "print(zoo)"
   ]
  },
  {
   "cell_type": "markdown",
   "id": "4308465d",
   "metadata": {},
   "source": [
    "Pour accéder à un élément de la liste `zoo`, on utilise l'indiçage habituel, e.g."
   ]
  },
  {
   "cell_type": "code",
   "execution_count": null,
   "id": "73974a2c",
   "metadata": {
    "deletable": false,
    "editable": false,
    "nbgrader": {
     "cell_type": "code",
     "checksum": "4791ad0661efa8e7787fc00adfc75dc4",
     "grade": false,
     "grade_id": "cell-e5ce32f13ec81911",
     "locked": true,
     "schema_version": 3,
     "solution": false,
     "task": false
    }
   },
   "outputs": [],
   "source": [
    "zoo[1]"
   ]
  },
  {
   "cell_type": "markdown",
   "id": "3ba455cb",
   "metadata": {},
   "source": [
    "Il est également possible d'accéder à un élément de la sous-liste en utilisant un double indiçage"
   ]
  },
  {
   "cell_type": "code",
   "execution_count": null,
   "id": "c7a226eb",
   "metadata": {
    "deletable": false,
    "editable": false,
    "nbgrader": {
     "cell_type": "code",
     "checksum": "295a74d2b13e5b7ea9841f0e2dfc668e",
     "grade": false,
     "grade_id": "cell-ac4f8358b7013894",
     "locked": true,
     "schema_version": 3,
     "solution": false,
     "task": false
    }
   },
   "outputs": [],
   "source": [
    "zoo[1][0]"
   ]
  },
  {
   "cell_type": "markdown",
   "id": "99138b9e",
   "metadata": {},
   "source": [
    "En absence de librairie spécialisée, les listes de listes peuvent être utilisées pour créer des matrices.\n",
    "Ainsi, la matrice\n",
    "\n",
    "$$\n",
    "\\mathbf{A}\n",
    "=\n",
    "\\begin{bmatrix}\n",
    "1 & 2 & 3 \\\\\n",
    "4 & 5 &  6 \\\\\n",
    "7 & 8 & 9\n",
    "\\end{bmatrix}.\n",
    "$$\n",
    "\n",
    "peut être créée de la façon suivante"
   ]
  },
  {
   "cell_type": "code",
   "execution_count": null,
   "id": "1cbe7c00",
   "metadata": {
    "deletable": false,
    "editable": false,
    "nbgrader": {
     "cell_type": "code",
     "checksum": "87246a3bcd253e663c65321e1d190bc7",
     "grade": false,
     "grade_id": "cell-c182f465855d2e70",
     "locked": true,
     "schema_version": 3,
     "solution": false,
     "task": false
    }
   },
   "outputs": [],
   "source": [
    "ligne_1 = [1, 2, 3]\n",
    "ligne_2 = [4, 5, 6]\n",
    "ligne_3 = [7, 8, 9]\n",
    "\n",
    "A = [ligne_1, ligne_2, ligne_3]\n",
    "\n",
    "print(A)"
   ]
  },
  {
   "cell_type": "markdown",
   "id": "0a1070ee",
   "metadata": {},
   "source": [
    "Ainsi, chaque ligne est stockée dans une liste.\n",
    "Toutes ces listes sont ensuite stockées elles-même dans une liste qui formera la matrice.\n",
    "Nous verrons un peu plus tard comment faire un produit matrice-vecteur ou matrice-matrice en pur `Python` en utilisant ces listes de listes."
   ]
  },
  {
   "cell_type": "markdown",
   "id": "8154321b",
   "metadata": {},
   "source": [
    "---\n",
    "\n",
    "### Opérations élémentaires\n",
    "\n",
    "Intéressons nous maintenant aux opérations élémentaires que l'on peut appliquer aux différents types (`str`, `int`, et `float`) ainsi qu'aux `list`.\n",
    "\n",
    "#### Opérateurs arithmétiques\n",
    "\n",
    "De base, `Python` ne possède que relativement peu d'opérations arithmétiques élémentaires.\n",
    "Vous trouverez ci-dessous une suite d'exemples sur comment manipuler les nombres entiers (`int`) et ceux à virgules (`float`)."
   ]
  },
  {
   "cell_type": "code",
   "execution_count": null,
   "id": "2ae30edc",
   "metadata": {},
   "outputs": [],
   "source": [
    "# --> Additioner deux nombres.\n",
    "a, b = 1, 2\n",
    "c = a + b\n",
    "print(c)"
   ]
  },
  {
   "cell_type": "code",
   "execution_count": null,
   "id": "990cb2fc",
   "metadata": {},
   "outputs": [],
   "source": [
    "# --> Soustraire deux nombres.\n",
    "a, b = 1, 2\n",
    "c = a - b\n",
    "print(c)"
   ]
  },
  {
   "cell_type": "code",
   "execution_count": null,
   "id": "2c41338c",
   "metadata": {},
   "outputs": [],
   "source": [
    "# --> Elever un nombre à une puissance.\n",
    "a = 2**2\n",
    "print(a)\n",
    "\n",
    "b = 2**1.5\n",
    "print(b)"
   ]
  },
  {
   "cell_type": "code",
   "execution_count": null,
   "id": "a98e9d4a",
   "metadata": {},
   "outputs": [],
   "source": [
    "# --> Diviser un nombre\n",
    "a = 4\n",
    "b = a / 2\n",
    "print(b, type(b))"
   ]
  },
  {
   "cell_type": "markdown",
   "id": "c2ca1fd6",
   "metadata": {},
   "source": [
    "&#x26A0;&#x26A0;&#x26A0; Dans l'exemple ci-dessous, la division `/` retourne un `float` et non un entier!\n",
    "Si vous souhaitez effectuer une division entière, il faut alors utiliser l'opérateur `//`."
   ]
  },
  {
   "cell_type": "code",
   "execution_count": null,
   "id": "c9f25d7d",
   "metadata": {},
   "outputs": [],
   "source": [
    "# --> Division entière.\n",
    "a = 4\n",
    "b = a //4\n",
    "print(b, type(b))"
   ]
  },
  {
   "cell_type": "code",
   "execution_count": null,
   "id": "fbfa38bb",
   "metadata": {},
   "outputs": [],
   "source": [
    "# --> Calcul du reste d'une division.\n",
    "a, b = 11, 3\n",
    "c = a % b\n",
    "print(c, type(c))\n",
    "print()\n",
    "\n",
    "# --> Calcul du reste d'une division.\n",
    "a, b = 11.5, 3\n",
    "c = a % b\n",
    "print(c, type(c))"
   ]
  },
  {
   "cell_type": "code",
   "execution_count": null,
   "id": "fbe91bff",
   "metadata": {},
   "outputs": [],
   "source": [
    "# --> Retourne le maximum entre deux (ou plusieurs) nombres.\n",
    "print(\"Max(4, 10) : \", max(4, 10))\n",
    "\n",
    "# --> Retourne le minimum entre deux (plusieurs) nombres.\n",
    "print(\"Min(4, 10) :\", min(4, 10, 2, -4))"
   ]
  },
  {
   "cell_type": "markdown",
   "id": "11e698f1",
   "metadata": {},
   "source": [
    "#### Opérations sur les chaînes de caractères\n",
    "\n",
    "Les opérateurs `+` (concaténation) et `*` (duplication) peuvent être utilisés sur des chaînes de caractères.\n",
    "Les fonctions `len`, `max` et `min` peuvent également être utilisées pour retourner la longueur de la chaîne de caractères, le premier (ou dernier) caractère dans l'alphabet apparaissant dans la chaîne."
   ]
  },
  {
   "cell_type": "code",
   "execution_count": null,
   "id": "e191aa34",
   "metadata": {},
   "outputs": [],
   "source": [
    "# --> Opérateur + pour des chaînes de caractères : concaténation.\n",
    "str_1, str_2 = \"abc\", \"def\"\n",
    "print(str_1 + str_2)"
   ]
  },
  {
   "cell_type": "code",
   "execution_count": null,
   "id": "2abc8589",
   "metadata": {},
   "outputs": [],
   "source": [
    "# --> Opérateur * pour des chaînes de caractères : duplication.\n",
    "str_1 = \"abc\"\n",
    "print( 3*str_1 )"
   ]
  },
  {
   "cell_type": "code",
   "execution_count": null,
   "id": "9f3b62e1",
   "metadata": {},
   "outputs": [],
   "source": [
    "# --> Fonction len : longueur de la chaîne de caractères.\n",
    "string = \"abcdef\"\n",
    "print( len(string) )"
   ]
  },
  {
   "cell_type": "code",
   "execution_count": null,
   "id": "e5701248",
   "metadata": {},
   "outputs": [],
   "source": [
    "# --> Fonction max :\n",
    "string = \"Je suis une phrase avec des chiffres 1 2 3 4.\"\n",
    "print( max(string) )"
   ]
  },
  {
   "cell_type": "code",
   "execution_count": null,
   "id": "2d049212",
   "metadata": {},
   "outputs": [],
   "source": [
    "# --> Fonction min :\n",
    "string = \"kdpdifcsq\"\n",
    "print(\"Min sans espace :\", min(string) )\n",
    "\n",
    "# --> Fonction min : avec espace.\n",
    "string = \"Je suis une phrase.\"\n",
    "print(\"Min avec espace :\", min(string) )"
   ]
  },
  {
   "cell_type": "markdown",
   "id": "b3c50609",
   "metadata": {},
   "source": [
    "Ces quelques exemples sur les chaînes de caractères sont purement illustratifs.\n",
    "Nous ne nous attarderons néanmoins pas trop dessus, notre objectif étant de faire du calcul scientifique avec `Python` et non du traitement de texte.\n",
    "Si malgré vous souhaitez en savoir plus, vous pouvez vous référrer au tutoriel suivant : [learnpython.org : Basic string operations](https://www.learnpython.org/en/Basic_String_Operations)."
   ]
  },
  {
   "cell_type": "markdown",
   "id": "a98153e9",
   "metadata": {},
   "source": [
    "#### Opérations sur les listes\n",
    "\n",
    "Tout comme pour les chaînes de caractères, les opérateurs `+` et `*` peuvent être utilisés pour concaténer et dupliquer des listes comme illustré ci-dessous."
   ]
  },
  {
   "cell_type": "code",
   "execution_count": null,
   "id": "8e855552",
   "metadata": {},
   "outputs": [],
   "source": [
    "# --> Concaténation de listes.\n",
    "list_1 = [1, 2, 3]\n",
    "list_2 = [\"a\", \"b\", \"c\"]\n",
    "\n",
    "print( list_1 + list_2 )"
   ]
  },
  {
   "cell_type": "code",
   "execution_count": null,
   "id": "667e3a50",
   "metadata": {},
   "outputs": [],
   "source": [
    "# --> Duplication de listes.\n",
    "list_1 = [1, \"a\", 4]\n",
    "\n",
    "print( 3*list_1)"
   ]
  },
  {
   "cell_type": "markdown",
   "id": "0cc1c7eb",
   "metadata": {},
   "source": [
    "D'autres fonctions peuvent également être appliquées aux listes.\n",
    "Dans la suite, nous nous intéresserons uniquement à des listes de nombres."
   ]
  },
  {
   "cell_type": "code",
   "execution_count": null,
   "id": "4a0672c6",
   "metadata": {},
   "outputs": [],
   "source": [
    "# --> Sommes des éléments d'une liste.\n",
    "list_1 = list(range(1, 10))\n",
    "print( list_1 )\n",
    "print(\"Somme :\", sum(list_1))"
   ]
  },
  {
   "cell_type": "code",
   "execution_count": null,
   "id": "eb8dea2f",
   "metadata": {},
   "outputs": [],
   "source": [
    "# --> Maximum d'une liste.\n",
    "list_1 = [1, 2, 4, -7, 10, -128]\n",
    "print(\"Maximum : \", max(list_1) )\n",
    "\n",
    "# --> Minimum d'une liste.\n",
    "print(\"Minimum : \", min(list_1) )"
   ]
  },
  {
   "cell_type": "code",
   "execution_count": null,
   "id": "d5f4468f",
   "metadata": {},
   "outputs": [],
   "source": [
    "# --> Trier une liste par ordre croissant.\n",
    "list_1 = [48, 14, 5, -3, 1, 128]\n",
    "print(\"Liste initiale :\", list_1 )\n",
    "\n",
    "list_1.sort()\n",
    "print(\"Liste triée :\", list_1)"
   ]
  },
  {
   "cell_type": "markdown",
   "id": "6410cabf",
   "metadata": {},
   "source": [
    "&#x26A0;&#x26A0;&#x26A0; L'application de `sort` trie la liste `in-place`, c'est à dire qu'elle ré-écrit la liste triée dans le même espace mémoire.\n",
    "L'agencement initial de la liste est alors perdu.\n",
    "Si l'on veut garder la liste initiale, il faut alors utiliser la fonction `sorted`."
   ]
  },
  {
   "cell_type": "code",
   "execution_count": null,
   "id": "79af484f",
   "metadata": {},
   "outputs": [],
   "source": [
    "list_1 = [48, 14, 5, -3, 1, 128]\n",
    "list_2 = sorted(list_1)\n",
    "\n",
    "print(\"Liste 1 : \", list_1)\n",
    "print(\"Liste 2 : \", list_2)"
   ]
  },
  {
   "cell_type": "markdown",
   "id": "e63d4ccc",
   "metadata": {},
   "source": [
    "---\n",
    "\n",
    "### Les conditions\n",
    "\n",
    "Il est par moment nécessaire de vérifier certaines conditions avant d'effectuer une opération particulière, ou alors choisir une certaine opération en fonction des conditions qui ont été vérifiées.\n",
    "Ceci s'effectue grâce à l'algèbre de Bool et aux opérateurs `>`, `<`, `<=`, `>=`, `==`, `and` et `or`.\n",
    "Quelques exemples sont proposés ci-dessous."
   ]
  },
  {
   "cell_type": "code",
   "execution_count": null,
   "id": "e60abc85",
   "metadata": {},
   "outputs": [],
   "source": [
    "x = 2\n",
    "\n",
    "# --> Condition d'égalité\n",
    "print(\"Est-ce que x est égal à 2 ?\", x == 2, \"\\n\")\n",
    "\n",
    "# --> Inférieur et inférieur ou égal.\n",
    "print(\"Est-ce que x est inférieur à 2 ?\", x < 2, \"\\n\")\n",
    "\n",
    "print(\"Est-ce que x est inférieur ou égal à 2 ?\", x <= 2)"
   ]
  },
  {
   "cell_type": "markdown",
   "id": "f7fb905e",
   "metadata": {},
   "source": [
    "Il est également possible de \"chaîner\" ces opérateurs.\n",
    "Ainsi, si l'on souhaite savoir si `x` est compris entre 1 et 4, on utilisera le code suivant."
   ]
  },
  {
   "cell_type": "code",
   "execution_count": null,
   "id": "b6fc14d2",
   "metadata": {},
   "outputs": [],
   "source": [
    "x = 2\n",
    "\n",
    "print(\"Est-ce que x est compris entre 1 et 4 ?\", 1 <= x <= 4, \"\\n\")\n",
    "\n",
    "print(\"Est-ce que x est compris entre -10 et -2 ?\", -10 <= x <= -2)"
   ]
  },
  {
   "cell_type": "markdown",
   "id": "6d7531c1",
   "metadata": {},
   "source": [
    "Il est possible de choisir quelle opération effectuée en fonction des conditions qui ont été (ou non) vérifiées.\n",
    "Ainsi, l'exemple ci-dessous affiche la valeur de `x` si ce dernier est un nombre impair, sinon il affiche que le nombre est pair."
   ]
  },
  {
   "cell_type": "code",
   "execution_count": null,
   "id": "d3360f67",
   "metadata": {},
   "outputs": [],
   "source": [
    "x = 11\n",
    "\n",
    "if x % 2 == 1 and type(x) == int: # si x est impair (x % 2 retourne le reste de la division par 2) ET si c'est un entier.\n",
    "    print(\"La valeur de x est égale à \", x)\n",
    "else:\n",
    "    print(\"x est un nombre de pair ou un nombre à virgule.\")"
   ]
  },
  {
   "cell_type": "markdown",
   "id": "aa2c2f98",
   "metadata": {},
   "source": [
    "Nous ne rentrerons pas dans tous les détails des opérations possibles à l'aide de l'algèbre de Bool.\n",
    "Pour plus de détails, il existe de très nombreux exemples en ligne."
   ]
  },
  {
   "cell_type": "markdown",
   "id": "c54fcdb0",
   "metadata": {},
   "source": [
    "---\n",
    "\n",
    "### Les boucles `for` et `while`"
   ]
  },
  {
   "cell_type": "code",
   "execution_count": null,
   "id": "289cff1b",
   "metadata": {},
   "outputs": [],
   "source": [
    "for i in range(10):\n",
    "    print(i)"
   ]
  },
  {
   "cell_type": "code",
   "execution_count": null,
   "id": "1d650298",
   "metadata": {},
   "outputs": [],
   "source": [
    "i = 10000\n",
    "while i > 10:\n",
    "    print(i)\n",
    "    i = i / 2"
   ]
  },
  {
   "cell_type": "markdown",
   "id": "64c3b0de",
   "metadata": {},
   "source": [
    "#### Compréhension de listes"
   ]
  },
  {
   "cell_type": "code",
   "execution_count": null,
   "id": "ed77575a",
   "metadata": {},
   "outputs": [],
   "source": [
    "# --> Construit une liste avec tous les carrés des entiers de 1 à 10.\n",
    "list_1 = [i**2 for i in range(1, 11)]\n",
    "print(list_1)"
   ]
  },
  {
   "cell_type": "code",
   "execution_count": null,
   "id": "c83d4eb2",
   "metadata": {},
   "outputs": [],
   "source": [
    "# --> Construit une liste ne comportant que les nombres pairs de 1 à 50.\n",
    "list_1 = [i for i in range(1, 51) if i % 2 == 0]\n",
    "print(list_1)"
   ]
  },
  {
   "cell_type": "markdown",
   "id": "1bdd1e35",
   "metadata": {},
   "source": [
    "---\n",
    "\n",
    "### Comment définir des fonctions en `Python` ?\n",
    "\n",
    "Une fonction est un petit programme contenant uen suite d'instructions que l'on peut appeler avec un nom.\n",
    "Par exemple, dans les exemples précédents, `max`, `len` ou `min` sont des fonctions.\n",
    "Elle prends (éventuellement) en entrée des **arguments d'entrée** et retourne léventuellement) le résultat de ces instructions comme **arguments de sortie**.\n",
    "Trois exemples de telles fonctions vous sont présentés ci-dessous.\n",
    "\n",
    "**Fonction ne retournant aucune valeur**\n",
    "\n",
    "```\n",
    "def nom_de_la_fonction(argument 1, argument_2, ...):\n",
    "    Vos opération\n",
    "```"
   ]
  },
  {
   "cell_type": "code",
   "execution_count": null,
   "id": "591bd0f7",
   "metadata": {},
   "outputs": [],
   "source": [
    "# --> Definition de la fonction.\n",
    "def affiche_info_personnelles(nom, prenom, age):\n",
    "    \n",
    "    # --> Tests pour vérifier la validité des arguments d'entrée.\n",
    "    assert type(nom) == type(prenom) == str\n",
    "    assert type(age) == int\n",
    "    \n",
    "    # --> Affiche à l'écran vos informations.\n",
    "    print(\"Vous vous appellez {nom} {prenom} et vous avez {age} ans.\".format(nom=nom, prenom=prenom, age=age))\n",
    "    \n",
    "# --> Utilisation de la fonction.\n",
    "affiche_info_personnelles(\"Dupont\", \"Alice\", 24)\n",
    "affiche_info_personnelles(\"Martin\", \"Bob\", 42)"
   ]
  },
  {
   "cell_type": "markdown",
   "id": "b420c9d0",
   "metadata": {},
   "source": [
    "**Fonction retournant quelque chose**\n",
    "\n",
    "```\n",
    "def nom_de_la_fonction(argument_1, argument_2, ...):\n",
    "    Vos opération\n",
    "    return variable_de_retour_1, variable_de_retour_2, ...\n",
    "```"
   ]
  },
  {
   "cell_type": "code",
   "execution_count": null,
   "id": "b1da4615",
   "metadata": {},
   "outputs": [],
   "source": [
    "# --> Définition de la fonction.\n",
    "def my_add(a, b):\n",
    "    c = a + b\n",
    "    return c\n",
    "\n",
    "# --> Définition de la fonction.\n",
    "def my_add_and_my_sub(a, b):\n",
    "    c = a + b\n",
    "    d = a - b\n",
    "    return c, d"
   ]
  },
  {
   "cell_type": "markdown",
   "id": "dd4525d6",
   "metadata": {},
   "source": [
    "**Fonction lambda :** Définition d'une fonction qui tient sur une seule ligne."
   ]
  },
  {
   "cell_type": "code",
   "execution_count": null,
   "id": "e3d9afc3",
   "metadata": {},
   "outputs": [],
   "source": [
    "# --> Fonction lambda (définition d'une fonction en une seule ligne)\n",
    "my_add_bis = lambda x, y : x + y"
   ]
  },
  {
   "cell_type": "markdown",
   "id": "45c72ac3",
   "metadata": {},
   "source": [
    "---\n",
    "---\n",
    "<div class=\"alert alert-block alert-danger\">\n",
    "    <h2>Exercices notés</h2>\n",
    "</div>\n",
    "\n",
    "Vous trouverez ci-dessous une liste d'exercices.\n",
    "Il est peu probable que vous ayez le temps de les faire pendant la séance.\n",
    "Il s'agit donc essentiellement d'exercices à faire chez vous.\n",
    "Attention, même si ils ne rentrent pas en compte dans votre note finale, ces exercices seront notés!\n",
    "Cette note de TP sera utilisée pour juger en votre faveur ou défaveur si jamais il venait à vous manquer quelques points pour valider.\n",
    "**Ces exercices sont également des exemples de ce qui pourrait vous attendre le jour de l'examen.**\n",
    "A vous de voir à quel point vous êtes joueur/joueuse..."
   ]
  },
  {
   "cell_type": "markdown",
   "id": "2c508af5",
   "metadata": {},
   "source": [
    "**Exercice n°1 :** Ecrivez une fonction retournant combien il y a de nombres pairs entre deux entiers `a` et `b` ainsi que l'ensemble de ces nombres pairs.\n",
    "Attention, si `a > b` en entrée de votre fonction, alors vous devez les intervertir!"
   ]
  },
  {
   "cell_type": "code",
   "execution_count": null,
   "id": "47bf5810",
   "metadata": {
    "deletable": false,
    "nbgrader": {
     "cell_type": "code",
     "checksum": "90ac80e83e9d2eac632a648573689087",
     "grade": false,
     "grade_id": "cell-4e0781c757e33223",
     "locked": false,
     "schema_version": 3,
     "solution": true,
     "task": false
    }
   },
   "outputs": [],
   "source": [
    "def nbres_pairs(a, b):\n",
    "    # YOUR CODE HERE\n",
    "    raise NotImplementedError()"
   ]
  },
  {
   "cell_type": "code",
   "execution_count": null,
   "id": "e411efb7",
   "metadata": {
    "deletable": false,
    "editable": false,
    "nbgrader": {
     "cell_type": "code",
     "checksum": "d9eba0264cd98506a90503835ec59779",
     "grade": true,
     "grade_id": "cell-7e4f46c416770fbb",
     "locked": true,
     "points": 1,
     "schema_version": 3,
     "solution": false,
     "task": false
    }
   },
   "outputs": [],
   "source": [
    "assert nbres_pairs(0, 2) == ([0, 2], 2)\n",
    "assert nbres_pairs(4, 3) == nbres_pairs(3, 4) ==  ([4], 1)\n"
   ]
  },
  {
   "cell_type": "markdown",
   "id": "f43b5840",
   "metadata": {},
   "source": [
    "**Exercice n°2 :** La suite de Fibonacci est donnée par la récurrence suivante\n",
    "\n",
    "$$\n",
    "\\begin{aligned}\n",
    "f_0 & = 0 \\\\\n",
    "f_1 & = 1 \\\\\n",
    "f_n & = f_{n-1} + f_{n-2} \\quad \\forall n \\geq 2.\n",
    "\\end{aligned}\n",
    "$$\n",
    "\n",
    "Ecrivez une fonction retournant le `n`-ème nombre de Fibonnacci."
   ]
  },
  {
   "cell_type": "code",
   "execution_count": null,
   "id": "556b8fd6",
   "metadata": {
    "deletable": false,
    "nbgrader": {
     "cell_type": "code",
     "checksum": "6e1490e97811283f75915b33ed81d903",
     "grade": false,
     "grade_id": "cell-f8cd9b5ba9dd637e",
     "locked": false,
     "schema_version": 3,
     "solution": true,
     "task": false
    }
   },
   "outputs": [],
   "source": [
    "def fibonacci(n):\n",
    "    # YOUR CODE HERE\n",
    "    raise NotImplementedError()"
   ]
  },
  {
   "cell_type": "code",
   "execution_count": null,
   "id": "d8d6b254",
   "metadata": {
    "deletable": false,
    "editable": false,
    "nbgrader": {
     "cell_type": "code",
     "checksum": "f9714ae3171fa1c0e3f6aa719bc46053",
     "grade": true,
     "grade_id": "cell-0c46897007985164",
     "locked": true,
     "points": 1,
     "schema_version": 3,
     "solution": false,
     "task": false
    }
   },
   "outputs": [],
   "source": [
    "assert fibonacci(0) == 0\n",
    "assert fibonacci(1) == 1\n",
    "assert fibonacci(10) == 55"
   ]
  },
  {
   "cell_type": "markdown",
   "id": "5cb6edd7",
   "metadata": {},
   "source": [
    "**Exercice n°3 :** Ecrivez une fonction `Python` calculant la somme des `n` premiers entiers au carré, i.e.\n",
    "\n",
    "$$\n",
    "s = \\sum_{i=1}^n i^2\n",
    "$$"
   ]
  },
  {
   "cell_type": "code",
   "execution_count": null,
   "id": "50da9b48",
   "metadata": {
    "deletable": false,
    "nbgrader": {
     "cell_type": "code",
     "checksum": "ea171fdf72974192e75c9b510f489011",
     "grade": false,
     "grade_id": "cell-12763e0cab88430e",
     "locked": false,
     "schema_version": 3,
     "solution": true,
     "task": false
    }
   },
   "outputs": [],
   "source": [
    "def sum_square(n):\n",
    "    # YOUR CODE HERE\n",
    "    raise NotImplementedError()"
   ]
  },
  {
   "cell_type": "code",
   "execution_count": null,
   "id": "10847dab",
   "metadata": {
    "deletable": false,
    "editable": false,
    "nbgrader": {
     "cell_type": "code",
     "checksum": "5597ec537d9ced40eff8f8007710977d",
     "grade": true,
     "grade_id": "cell-54774498d26faa11",
     "locked": true,
     "points": 1,
     "schema_version": 3,
     "solution": false,
     "task": false
    }
   },
   "outputs": [],
   "source": [
    "assert sum_square(1) == 1\n",
    "assert sum_square(10) == 385\n",
    "assert sum_square(100) == 338350"
   ]
  },
  {
   "cell_type": "markdown",
   "id": "b3522513",
   "metadata": {},
   "source": [
    "**Exercice n°4 :** Ecrivez une fonction `Python` calculant la somme des `n` premiers nombres impairs au carré, i.e.\n",
    "\n",
    "$$\n",
    "s = 1^2 + 3^2 + 5^3 + \\cdots\n",
    "$$"
   ]
  },
  {
   "cell_type": "code",
   "execution_count": null,
   "id": "b759ab43",
   "metadata": {
    "deletable": false,
    "nbgrader": {
     "cell_type": "code",
     "checksum": "b080044fa0683bd986b432825b6d40a9",
     "grade": false,
     "grade_id": "cell-721029d603ea41d8",
     "locked": false,
     "schema_version": 3,
     "solution": true,
     "task": false
    }
   },
   "outputs": [],
   "source": [
    "def impairs_sum_square(n):\n",
    "    # YOUR CODE HERE\n",
    "    raise NotImplementedError()"
   ]
  },
  {
   "cell_type": "code",
   "execution_count": null,
   "id": "e974ee46",
   "metadata": {
    "deletable": false,
    "editable": false,
    "nbgrader": {
     "cell_type": "code",
     "checksum": "f4978e28b8785274ebc984b47b39ffa6",
     "grade": true,
     "grade_id": "cell-a45d878b14e5a726",
     "locked": true,
     "points": 1,
     "schema_version": 3,
     "solution": false,
     "task": false
    }
   },
   "outputs": [],
   "source": [
    "assert impairs_sum_square(1) == 1\n",
    "assert impairs_sum_square(10) == 1330\n",
    "assert impairs_sum_square(100) == 1333300"
   ]
  },
  {
   "cell_type": "markdown",
   "id": "d509f303",
   "metadata": {},
   "source": [
    "**Exercice n°5 :** Ecrivez une fonction `Python` calculant $n! = n \\times (n-1) \\times (n-2) \\times \\cdots \\times 3 \\times 2 \\times 1$. Par définition, $0! = 1$ et votre fonction doit donc gérer ce cas particulier également."
   ]
  },
  {
   "cell_type": "code",
   "execution_count": null,
   "id": "ac4ef9a4",
   "metadata": {
    "deletable": false,
    "nbgrader": {
     "cell_type": "code",
     "checksum": "3579f344841caf48abd44c91c3bebe3a",
     "grade": false,
     "grade_id": "cell-9395a8408b75a034",
     "locked": false,
     "schema_version": 3,
     "solution": true,
     "task": false
    }
   },
   "outputs": [],
   "source": [
    "def factorial(n):\n",
    "    # YOUR CODE HERE\n",
    "    raise NotImplementedError()"
   ]
  },
  {
   "cell_type": "code",
   "execution_count": null,
   "id": "6463ab07",
   "metadata": {
    "deletable": false,
    "editable": false,
    "nbgrader": {
     "cell_type": "code",
     "checksum": "e5c219bcf9ba905b2d97ec059213f7b8",
     "grade": true,
     "grade_id": "cell-1b13cb12cf250334",
     "locked": true,
     "points": 1,
     "schema_version": 3,
     "solution": false,
     "task": false
    }
   },
   "outputs": [],
   "source": [
    "assert factorial(0) == 1\n",
    "assert factorial(1) == 1\n",
    "assert factorial(2) == 2\n",
    "assert factorial(4) == 24\n",
    "assert factorial(8) == 40320\n",
    "assert factorial(16) == 20922789888000"
   ]
  },
  {
   "cell_type": "markdown",
   "id": "4cd5f838",
   "metadata": {},
   "source": [
    "**Exercice n°6 :** En utilisant les listes de listes, écrivez une fonction faisant le produit d'une matrice et d'un vecteur.\n",
    "Votre fonction doit fonctionner peu importe le nombre de lignes et de colonnes de la matrice.\n",
    "\n",
    "Pour rappel, le produit matrice-vecteur peut s'écrire de la façon suivante\n",
    "\n",
    "$$\n",
    "b_i = \\sum_{j=1}^n A_{ij} x_j.\n",
    "$$\n",
    "\n",
    "Vous aurez besoin d'utiliser les boucles `for` pour implémenter cette somme."
   ]
  },
  {
   "cell_type": "code",
   "execution_count": null,
   "id": "597fc747",
   "metadata": {
    "deletable": false,
    "nbgrader": {
     "cell_type": "code",
     "checksum": "290e7e647fcd0f6b9ab3a003c19f8e17",
     "grade": false,
     "grade_id": "cell-5e8d4e83130a77a4",
     "locked": false,
     "schema_version": 3,
     "solution": true,
     "task": false
    }
   },
   "outputs": [],
   "source": [
    "def matvec(A, x):\n",
    "    # YOUR CODE HERE\n",
    "    raise NotImplementedError()"
   ]
  },
  {
   "cell_type": "code",
   "execution_count": null,
   "id": "8ccf8288",
   "metadata": {
    "deletable": false,
    "editable": false,
    "nbgrader": {
     "cell_type": "code",
     "checksum": "e36e2c8f8b2fb0bae3a5d74de27433f3",
     "grade": true,
     "grade_id": "cell-f428d6efc819842b",
     "locked": true,
     "points": 2,
     "schema_version": 3,
     "solution": false,
     "task": false
    }
   },
   "outputs": [],
   "source": [
    "# --> Test n°1\n",
    "A, x = [[1, 2], [3, 4]], [1, 1]\n",
    "assert matvec(A, x) == [3, 7]\n",
    "\n",
    "# --> Test n°2\n",
    "A, x = [[1, 2], [3, 4], [5, 6]], [1, 1]\n",
    "assert matvec(A, x) == [3, 7, 11]"
   ]
  },
  {
   "cell_type": "markdown",
   "id": "939ac84d",
   "metadata": {},
   "source": [
    "**Exercice n°7 :** Ecrivez maintenant une fonction `Python` calculant le produit matrice-matrice.\n",
    "Pour rappel, les entrées $C_{ij}$ de la matrice $\\mathbf{C} = \\mathbf{AB}$ sont données par\n",
    "\n",
    "$$\n",
    "C_{ij} = \\sum_{k=1}^n A_{ik} B_{kj}\n",
    "$$\n",
    "\n",
    "où $n$ est le nombre de colonnes de la matrice $\\mathbf{A}$ mais aussi le nombre de lignes de la matrice $\\mathbf{B}$."
   ]
  },
  {
   "cell_type": "code",
   "execution_count": null,
   "id": "0ebdb717",
   "metadata": {
    "deletable": false,
    "nbgrader": {
     "cell_type": "code",
     "checksum": "fb9f1d1c472732054df4f8fd72f90e9a",
     "grade": false,
     "grade_id": "cell-7a040c01d58c1841",
     "locked": false,
     "schema_version": 3,
     "solution": true,
     "task": false
    }
   },
   "outputs": [],
   "source": [
    "def matmat(A, B):\n",
    "    # YOUR CODE HERE\n",
    "    raise NotImplementedError()"
   ]
  },
  {
   "cell_type": "code",
   "execution_count": null,
   "id": "55d8b45c",
   "metadata": {
    "deletable": false,
    "editable": false,
    "nbgrader": {
     "cell_type": "code",
     "checksum": "c50701b54839cb57ab55e107833dbf71",
     "grade": true,
     "grade_id": "cell-42365c04af4d5a85",
     "locked": true,
     "points": 2,
     "schema_version": 3,
     "solution": false,
     "task": false
    }
   },
   "outputs": [],
   "source": [
    "# --> Test n°1\n",
    "A = [[1, 2], [3, 4]]\n",
    "I = [[1, 0], [0, 1]]\n",
    "assert matmat(A, I) == matmat(I, A) == A\n",
    "\n",
    "# --> Test n°2\n",
    "A = [[1, 2], [3, 4], [5, 6]]\n",
    "B = [[0, 1], [1, 0]]\n",
    "assert matmat(A, B) == [[2, 1], [4, 3], [6, 5]]\n",
    "\n",
    "# --> Test n°3\n",
    "A = [[1, 2], [3, 4]]\n",
    "B = [[1, 2], [3, 4]]\n",
    "assert matmat(A, B) == [[7, 10], [15, 22]]"
   ]
  },
  {
   "cell_type": "markdown",
   "id": "ced5c5ad",
   "metadata": {},
   "source": [
    "**Exercice n°8 :** Ecrivez une fonction affichant à l'écran la table de multiplication pour un entier `n` (on supposera que `n` est compris entre 1 et 10).\n",
    "Pour en savoir plus sur comment manipuler des chaînes de caractères, vous pouvez regarder le tutoriel suivant : [learnpython.org : String formatting](https://www.learnpython.org/en/String_Formatting)."
   ]
  },
  {
   "cell_type": "code",
   "execution_count": null,
   "id": "6c6a7fb5",
   "metadata": {
    "deletable": false,
    "nbgrader": {
     "cell_type": "code",
     "checksum": "ecc692c5b3dde9d9dde962eb217ef2fe",
     "grade": true,
     "grade_id": "cell-675fce58192daecf",
     "locked": false,
     "points": 1,
     "schema_version": 3,
     "solution": true,
     "task": false
    }
   },
   "outputs": [],
   "source": [
    "def table_multiplication(n):\n",
    "    # YOUR CODE HERE\n",
    "    raise NotImplementedError()"
   ]
  }
 ],
 "metadata": {
  "@webio": {
   "lastCommId": null,
   "lastKernelId": null
  },
  "kernelspec": {
   "display_name": "Python 3 (ipykernel)",
   "language": "python",
   "name": "python3"
  },
  "language_info": {
   "codemirror_mode": {
    "name": "ipython",
    "version": 3
   },
   "file_extension": ".py",
   "mimetype": "text/x-python",
   "name": "python",
   "nbconvert_exporter": "python",
   "pygments_lexer": "ipython3",
   "version": "3.8.11"
  }
 },
 "nbformat": 4,
 "nbformat_minor": 5
}
