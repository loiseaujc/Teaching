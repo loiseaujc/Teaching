{
 "cells": [
  {
   "cell_type": "markdown",
   "id": "fe2fa966",
   "metadata": {},
   "source": [
    "# Introduction à NumPy\n",
    "\n",
    "`NumPy` est le package de base en `Python` pour manipuler des vecteurs ou des tableaux (tels que des matrices).\n",
    "Dans la suite, vous commencerez par importer `numpy` en tant que `np`."
   ]
  },
  {
   "cell_type": "code",
   "execution_count": 47,
   "id": "52bd05ab",
   "metadata": {},
   "outputs": [],
   "source": []
  },
  {
   "cell_type": "markdown",
   "id": "827c179f",
   "metadata": {},
   "source": [
    "#### Exercice n°1"
   ]
  },
  {
   "cell_type": "code",
   "execution_count": null,
   "id": "cac3ca30",
   "metadata": {},
   "outputs": [],
   "source": []
  },
  {
   "cell_type": "markdown",
   "id": "e0ff699c",
   "metadata": {},
   "source": [
    "#### Exercice n°2"
   ]
  },
  {
   "cell_type": "code",
   "execution_count": null,
   "id": "b1f70869",
   "metadata": {},
   "outputs": [],
   "source": []
  },
  {
   "cell_type": "markdown",
   "id": "569778c3",
   "metadata": {},
   "source": [
    "#### Exercice n°3"
   ]
  },
  {
   "cell_type": "code",
   "execution_count": null,
   "id": "e155632b",
   "metadata": {},
   "outputs": [],
   "source": []
  },
  {
   "cell_type": "markdown",
   "id": "e6af6bef",
   "metadata": {},
   "source": [
    "#### Exercice n°4"
   ]
  },
  {
   "cell_type": "code",
   "execution_count": null,
   "id": "e260814c",
   "metadata": {},
   "outputs": [],
   "source": []
  },
  {
   "cell_type": "markdown",
   "id": "0408c987",
   "metadata": {},
   "source": [
    "#### Exercice n°5"
   ]
  },
  {
   "cell_type": "code",
   "execution_count": null,
   "id": "f31477dc",
   "metadata": {},
   "outputs": [],
   "source": []
  },
  {
   "cell_type": "markdown",
   "id": "c9af211a",
   "metadata": {},
   "source": [
    "---\n",
    "\n",
    "## Algèbre linéaire\n",
    "\n",
    "Au-delà de manipuler simplement des tableaux de valeurs, `NumPy` permet surtout de résoudre numériquement une large gamme de problèmes d'algèbre linéaire.\n",
    "Vous pouvez par exemple l'utiliser en complément de vos cours de maths afin de vérifier vos calculs.\n",
    "Pour cela, il sera nécessaire d'utiliser le package `numpy.linalg`.\n",
    "Dans la cellule ci-dessous, importez ce package en tant `npl`."
   ]
  },
  {
   "cell_type": "code",
   "execution_count": null,
   "id": "587851e7",
   "metadata": {},
   "outputs": [],
   "source": []
  },
  {
   "cell_type": "markdown",
   "id": "37ed9903",
   "metadata": {},
   "source": [
    "#### Exercice n°1\n",
    "\n",
    "Soit la matrice $\\mathbf{A}$ donnée par\n",
    "\n",
    "$$\n",
    "\\mathbf{A}\n",
    "=\n",
    "\\begin{bmatrix}\n",
    "1 & 2 \\\\\n",
    "3 & 4\n",
    "\\end{bmatrix}.\n",
    "$$\n",
    "\n",
    "Ecrivez dans la cellule ci-dessous le code Python/NumPy nécessaire à la création de cette matrice.\n",
    "A l'aide des fonctions `np.trace`, `npl.det` et `npl.inv`, calculez sa trace (i.e. la somme des éléments sur la diagonale), son déterminant ainsi que son inverse."
   ]
  },
  {
   "cell_type": "code",
   "execution_count": null,
   "id": "e49b70d3",
   "metadata": {},
   "outputs": [],
   "source": []
  },
  {
   "cell_type": "markdown",
   "id": "05f697b9",
   "metadata": {},
   "source": [
    "#### Exercice n°2\n",
    "\n",
    "Soit la matrice $\\mathbf{A}$ et le vecteur $\\mathbf{x}$ donnés par\n",
    "\n",
    "$$\n",
    "\\mathbf{A}\n",
    "=\n",
    "\\begin{bmatrix}\n",
    "    1 & 2 \\\\\n",
    "    3 & 4\n",
    "\\end{bmatrix}%\n",
    "\\quad \\textrm{et} \\quad\n",
    "\\mathbf{x}\n",
    "=\n",
    "\\begin{bmatrix}\n",
    "    1 \\\\ 1\n",
    "\\end{bmatrix}.\n",
    "$$\n",
    "\n",
    "Ecrivez dans la cellule ci-dessous le code `Python`/`NumPy` nécessaire à la création de ces deux matrices et au calcul $\\mathbf{y} = \\mathbf{Ax}$.\n",
    "Vérifiez que vous obtenez bien le bon résultat."
   ]
  },
  {
   "cell_type": "code",
   "execution_count": null,
   "id": "95065edb",
   "metadata": {},
   "outputs": [],
   "source": []
  },
  {
   "cell_type": "markdown",
   "id": "1833b519",
   "metadata": {},
   "source": [
    "#### Exercice n°3\n",
    "\n",
    "Soit le système linéaire suivant\n",
    "\n",
    "$$\n",
    "\\left\\{\n",
    "\\begin{aligned}\n",
    "    2x + 3y & = 1 \\\\\n",
    "    3x + 2y & = 2.\n",
    "\\end{aligned}\n",
    "\\right.\n",
    "$$\n",
    "\n",
    "Ecrivez le système sous la forme $\\mathbf{Ax} = \\mathbf{b}$.\n",
    "Résolvez-le à la main puis numériquement à l'aide de la fonction `npl.solve`."
   ]
  },
  {
   "cell_type": "code",
   "execution_count": null,
   "id": "51978519",
   "metadata": {},
   "outputs": [],
   "source": []
  },
  {
   "cell_type": "markdown",
   "id": "6aaafe2e",
   "metadata": {},
   "source": [
    "#### Exercice n°4\n",
    "\n",
    "Considérez la matrice suivante\n",
    "\n",
    "$$\n",
    "\\mathbf{A}\n",
    "=\n",
    "\\begin{bmatrix}\n",
    "0 & 1 \\\\ -6 & 5\n",
    "\\end{bmatrix}.\n",
    "$$\n",
    "\n",
    "Calculez à la main ses valeurs propres (bonus : vecteurs propres).\n",
    "En utilisant la fonction `npl.eig`, vérifiez numériquement votre résultat."
   ]
  },
  {
   "cell_type": "code",
   "execution_count": null,
   "id": "52be5f15",
   "metadata": {},
   "outputs": [],
   "source": []
  },
  {
   "cell_type": "markdown",
   "id": "516db5de",
   "metadata": {},
   "source": [
    "---\n",
    "\n",
    "## Nombres aléatoires\n",
    "\n",
    "En plus de l'algèbre linéaire, `NumPy` fournit certains outils pour générer des nombres aléatoires et faire des statistiques élémentaires.\n",
    "Ces outils sont disponibles via le package `numpy.random`.\n",
    "Dans la cellule ci-dessous, importer ce package en tant que `npr`.\n",
    "Nous reviendrons plus tard dans le cours sur l'utilisation de `Python` pour faire des statistiques."
   ]
  },
  {
   "cell_type": "code",
   "execution_count": null,
   "id": "e0f12db8",
   "metadata": {},
   "outputs": [],
   "source": []
  },
  {
   "cell_type": "markdown",
   "id": "22f6ad56",
   "metadata": {},
   "source": [
    "#### Exercice n°1\n",
    "\n",
    "A l'aide des fonctions fournies par le module `numpy.random` (ci après importé en tant que `npr`), créez un `np.array` contenant 200 nombres aléatoires répartis uniformément entre 0 et 1.\n",
    "Calculez la moyenne de ces valeurs ainsi que leur écart-type (*standard deviation* en anglais)."
   ]
  },
  {
   "cell_type": "code",
   "execution_count": null,
   "id": "d6e7a1cf",
   "metadata": {},
   "outputs": [],
   "source": []
  },
  {
   "cell_type": "markdown",
   "id": "eb77b0be",
   "metadata": {},
   "source": [
    "#### Exercice n°2\n",
    "\n",
    "Même question qu'à l'exercice précédent mais en considérant maintenant des nombres aléatoirement répartis selon une distribution normale dont la moyenne et l'écart-type sont égaux à 1."
   ]
  },
  {
   "cell_type": "code",
   "execution_count": null,
   "id": "855b6f2f",
   "metadata": {},
   "outputs": [],
   "source": []
  },
  {
   "cell_type": "markdown",
   "id": "458f4005",
   "metadata": {},
   "source": [
    "---\n",
    "\n",
    "## Travailler avec des polynômes\n",
    "\n",
    "Pour finir, `NumPy` fournit des outils pour travailler avec polynômes.\n",
    "Ces outils sont disponibles via le package `numpy.polynomial` que vous importerez ci-dessous en tant que `npp`.\n",
    "Ils permettent notemment de rapidement calculer les racines d'un polynôme, sa dérivée ou sa primitive.\n",
    "Il est par ailleurs possible de facilement additioner, soustraire ou multiplier deux polynômes (peu importe leur degré)."
   ]
  },
  {
   "cell_type": "code",
   "execution_count": null,
   "id": "f8b23780",
   "metadata": {},
   "outputs": [],
   "source": []
  },
  {
   "cell_type": "markdown",
   "id": "41bba51e",
   "metadata": {},
   "source": [
    "#### Exercice n°1\n",
    "\n",
    "Un polynôme est défini de façon unique par ses coefficients.\n",
    "En utilisant la fonction `Polynomial`, créez le polynôme suivant\n",
    "\n",
    "$$p(x) = 1 - x + \\dfrac{x^2}{2}$$"
   ]
  },
  {
   "cell_type": "code",
   "execution_count": null,
   "id": "ed49ec5a",
   "metadata": {},
   "outputs": [],
   "source": []
  },
  {
   "cell_type": "markdown",
   "id": "90be1014",
   "metadata": {},
   "source": [
    "Evaluez maintenant $p(x)$ pour $x = 1$."
   ]
  },
  {
   "cell_type": "code",
   "execution_count": null,
   "id": "9c90c53c",
   "metadata": {},
   "outputs": [],
   "source": []
  },
  {
   "cell_type": "markdown",
   "id": "250ca43a",
   "metadata": {},
   "source": [
    "#### Exercice n°2\n",
    "\n",
    "Regardez dans la documentation comment :\n",
    "- calculer les racines du polynôme,\n",
    "- calculer la fonction dérivée,\n",
    "- calculer la primitive (i.e. intégrer le polynôme)\n",
    "\n",
    "et comparez les résultats obtenus à l'aide `NumPy` avec un calcul fait à la main.\n",
    "Correspondent-ils ?"
   ]
  },
  {
   "cell_type": "code",
   "execution_count": null,
   "id": "3d7406bf",
   "metadata": {},
   "outputs": [],
   "source": []
  },
  {
   "cell_type": "markdown",
   "id": "756ab534",
   "metadata": {},
   "source": [
    "#### Exercice n°3\n",
    "\n",
    "Considérons maintenant les deux polynômes suivants\n",
    "\n",
    "$$p(x) = 1 - x + \\dfrac{x^2}{2} \\quad \\textrm{et} \\quad q(x) = 1 + x - \\dfrac{x^2}{2}.$$\n",
    "\n",
    "En utilisant la fonction `Polynomial` de `numpy.polynomial`, créez ces deux polynômes.\n",
    "Lisez la documentation en ligne (ici) et effectuer les opérations suivantes :\n",
    "- additionnez les deux polynômes (i.e. $p + q$)\n",
    "- multipliez les deux polynômes (i.e. $p \\times q$)\n",
    "- divisez les deux polynômes (i.e. $p / q$) et expliquez votre résultat."
   ]
  },
  {
   "cell_type": "code",
   "execution_count": null,
   "id": "6e413ad8",
   "metadata": {},
   "outputs": [],
   "source": []
  }
 ],
 "metadata": {
  "kernelspec": {
   "display_name": "Python 3 (ipykernel)",
   "language": "python",
   "name": "python3"
  },
  "language_info": {
   "codemirror_mode": {
    "name": "ipython",
    "version": 3
   },
   "file_extension": ".py",
   "mimetype": "text/x-python",
   "name": "python",
   "nbconvert_exporter": "python",
   "pygments_lexer": "ipython3",
   "version": "3.8.11"
  }
 },
 "nbformat": 4,
 "nbformat_minor": 5
}
