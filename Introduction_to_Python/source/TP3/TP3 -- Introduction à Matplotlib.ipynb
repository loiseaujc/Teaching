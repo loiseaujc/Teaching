{
 "cells": [
  {
   "cell_type": "code",
   "execution_count": 1,
   "id": "b3b76187",
   "metadata": {},
   "outputs": [],
   "source": [
    "import numpy as np\n",
    "import matplotlib.pyplot as plt"
   ]
  },
  {
   "cell_type": "markdown",
   "id": "4426ee27",
   "metadata": {},
   "source": [
    "# Introduction à Maplotlib\n",
    "\n",
    "<img src=\"https://upload.wikimedia.org/wikipedia/commons/thumb/3/31/NumPy_logo_2020.svg/1280px-NumPy_logo_2020.svg.png\" width=\"256px\" align=\"left\"/>\n",
    "\n",
    "La séance de TP précédente avait pour objectif de vous familiariser avec les bases de NumPy.\n",
    "Bien que de base Python possède certaines capacités pour le calcul scientifique, ces dernières sont fortement limitées.\n",
    "Ces limitations sont levées grâce à l'utilisation de la bibliothèque **NumPy**.\n",
    "Cette dernière fournit notamment une structure de données (`np.array`) permettant de représenter efficacement des matrices ou des tableaux multidimensionnels (appelés *array*).\n",
    "Elle fournit également une ensemble de fonctions mathématiques opérant sur ces tableaux.\n",
    "Bien qu'il s'agisse d'une bibliothèque Python, la plupart de ses fonctions sont écrites dans un langage de plus bas niveau tel que [Fortran](https://fr.m.wikipedia.org/wiki/Fortran) ou [C](https://fr.m.wikipedia.org/wiki/C_(langage)).\n",
    "L'utilisation de tels langages pour la partie calculatoire permet de garantir d'excellentes performances tandis que l'interface Python simplifie fortement l'utilisation de ces fonctions.\n",
    "\n",
    "---\n",
    "\n",
    "<img src=\"https://upload.wikimedia.org/wikipedia/commons/0/01/Created_with_Matplotlib-logo.svg\" align=\"left\" width=\"192\"/>\n",
    "\n",
    "Lors de cette troisième séance de TP, nous allons nous intéresser à la bibliothèque [**Matplotlib**](https://fr.wikipedia.org/wiki/Matplotlib).\n",
    "Il s'agit d'un package Python destiné à tracer et visualiser des données sous formes de graphiques.\n",
    "\n",
    "Tout comme les autres packages que l'on a pu voir, **Matplotlib** est distribué librement et gratuitement sous une licence de style BSD.\n",
    "Bien qu'il en existe d'autres (e.g. [seaborn](https://seaborn.pydata.org/), [plotly](https://plotly.com/python/) ou [Bokeh](http://docs.bokeh.org/en/latest/)), **Matplotlib** est sans doute la librairie Python la plus utilisée pour tracer des graphiques.\n",
    "\n",
    "Pour ceux et celles d'entre vous ayant déjà connaissance de MATLAB, Matplotlib possède l'interface **pyplot** fournissant une syntaxe proche de celle de MATLAB pour générer les figures.\n",
    "C'est cette dernière que l'on utilisera dans le cadre de ce TP.\n",
    "On cherchera notamment à l'utiliser afin de reproduire certaines des figures présentées en cours.\n",
    "\n",
    "Pour celles et ceux d'entre vous qui souhaitent aller plus loin, vous trouverez ci-dessous quelques liens vers du tutoriels très complets disponibles en ligne.\n",
    "\n",
    "- [Introduction à matplotlib](https://enacit.epfl.ch/cours/python/scientifique/matplotlib.html) par Samuel Bancal.\n",
    "- [Visualization with Matplotlib](https://jakevdp.github.io/PythonDataScienceHandbook/04.00-introduction-to-matplotlib.html) par Jake VanderPlas.\n",
    "- [Introduction to Plotting in Python using Matplotlib](https://www.earthdatascience.org/courses/scientists-guide-to-plotting-data-in-python/plot-with-matplotlib/introduction-to-matplotlib-plots/) de Earth Lab."
   ]
  },
  {
   "cell_type": "markdown",
   "id": "c9db6873",
   "metadata": {},
   "source": [
    "## Tracer des fonctions\n",
    "\n",
    "![](https://enacit.epfl.ch/cours/python/scientifique/rsc/ex_simple.png)"
   ]
  },
  {
   "cell_type": "code",
   "execution_count": null,
   "id": "4179945c",
   "metadata": {
    "nbgrader": {
     "grade": true,
     "grade_id": "cell-faf7f1dca35f84a7",
     "locked": false,
     "points": 0,
     "schema_version": 3,
     "solution": true,
     "task": false
    }
   },
   "outputs": [],
   "source": []
  },
  {
   "cell_type": "markdown",
   "id": "c7619ead",
   "metadata": {},
   "source": [
    "## Séries temporelles\n",
    "\n",
    "<img src=\"https://github.com/loiseaujc/Teaching/blob/master/Introduction_to_Python/source/TP3/stochastic_process.png?raw=true\" width=\"768\" />"
   ]
  },
  {
   "cell_type": "code",
   "execution_count": 2,
   "id": "044b96ae",
   "metadata": {
    "nbgrader": {
     "grade": false,
     "grade_id": "cell-52ea2c954302d195",
     "locked": true,
     "schema_version": 3,
     "solution": false,
     "task": false
    }
   },
   "outputs": [],
   "source": [
    "# --> Fonction servant à générer des données synthétiques.\n",
    "def orstein_uhlenbeck(x0, n=201, α=0.9, σ=0.25):\n",
    "    x = np.zeros(n)\n",
    "    x[0] = x0\n",
    "    \n",
    "    for i in range(1, n):\n",
    "        x[i] = α*x[i-1] + σ*np.random.randn()\n",
    "    return x"
   ]
  },
  {
   "cell_type": "code",
   "execution_count": 3,
   "id": "bd785419",
   "metadata": {
    "nbgrader": {
     "grade": false,
     "grade_id": "cell-95eecf9004e7da49",
     "locked": true,
     "schema_version": 3,
     "solution": false,
     "task": false
    }
   },
   "outputs": [],
   "source": [
    "# --> Données synthéthiques.\n",
    "X = np.array([orstein_uhlenbeck(np.random.uniform(-4, 4)) for _ in range(100)]).T"
   ]
  },
  {
   "cell_type": "code",
   "execution_count": null,
   "id": "8d9d66d2",
   "metadata": {
    "nbgrader": {
     "grade": true,
     "grade_id": "cell-44e48146a405af2e",
     "locked": false,
     "points": 0,
     "schema_version": 3,
     "solution": true,
     "task": false
    }
   },
   "outputs": [],
   "source": []
  },
  {
   "cell_type": "markdown",
   "id": "af902fa5",
   "metadata": {},
   "source": [
    "## Nuages de points\n",
    "\n",
    "<img src=\"https://github.com/loiseaujc/Teaching/blob/master/Introduction_to_Python/Lectures/L3/Slides/imgs/iris_dataset.png?raw=true\" width=\"384\" />"
   ]
  },
  {
   "cell_type": "code",
   "execution_count": 4,
   "id": "bd19ead8",
   "metadata": {
    "nbgrader": {
     "grade": false,
     "grade_id": "cell-c5e7eff45d2e8eb7",
     "locked": true,
     "schema_version": 3,
     "solution": false,
     "task": false
    }
   },
   "outputs": [],
   "source": [
    "# --> Chargement des données.\n",
    "from sklearn.datasets import load_iris\n",
    "iris = load_iris()\n",
    "\n",
    "# --> Points à tracer (x)\n",
    "#     et classe à laquelle ils appartienent (y).\n",
    "x, y = iris.data, iris.target\n",
    "\n",
    "# --> Noms des classes.\n",
    "labels = iris.target_names"
   ]
  },
  {
   "cell_type": "code",
   "execution_count": null,
   "id": "0d6c58ce",
   "metadata": {
    "nbgrader": {
     "grade": true,
     "grade_id": "cell-406ce652625dbb75",
     "locked": false,
     "points": 0,
     "schema_version": 3,
     "solution": true,
     "task": false
    }
   },
   "outputs": [],
   "source": []
  },
  {
   "cell_type": "markdown",
   "id": "78a82e5c",
   "metadata": {},
   "source": [
    "## Histograme\n",
    "<img src=\"https://github.com/loiseaujc/Teaching/blob/master/Introduction_to_Python/Lectures/L3/Slides/imgs/iris_dataset_bis.png?raw=true\" width=\"768\" />"
   ]
  },
  {
   "cell_type": "code",
   "execution_count": 5,
   "id": "ebb06499",
   "metadata": {
    "nbgrader": {
     "grade": false,
     "grade_id": "cell-8c7580817f4470a7",
     "locked": true,
     "schema_version": 3,
     "solution": false,
     "task": false
    }
   },
   "outputs": [],
   "source": [
    "from scipy import stats"
   ]
  },
  {
   "cell_type": "code",
   "execution_count": null,
   "id": "63ac4883",
   "metadata": {
    "nbgrader": {
     "grade": true,
     "grade_id": "cell-1caab7b9b345c53c",
     "locked": false,
     "points": 0,
     "schema_version": 3,
     "solution": true,
     "task": false
    }
   },
   "outputs": [],
   "source": []
  }
 ],
 "metadata": {
  "celltoolbar": "Create Assignment",
  "kernelspec": {
   "display_name": "Python 3 (ipykernel)",
   "language": "python",
   "name": "python3"
  },
  "language_info": {
   "codemirror_mode": {
    "name": "ipython",
    "version": 3
   },
   "file_extension": ".py",
   "mimetype": "text/x-python",
   "name": "python",
   "nbconvert_exporter": "python",
   "pygments_lexer": "ipython3",
   "version": "3.8.12"
  }
 },
 "nbformat": 4,
 "nbformat_minor": 5
}
