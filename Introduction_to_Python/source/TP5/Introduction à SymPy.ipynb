{
 "cells": [
  {
   "cell_type": "code",
   "execution_count": 1,
   "id": "be34e5eb-06bd-4a45-9dd7-561e56d43825",
   "metadata": {},
   "outputs": [],
   "source": [
    "import numpy as np\n",
    "import matplotlib.pyplot as plt"
   ]
  },
  {
   "cell_type": "markdown",
   "id": "78956de3-35a7-45fd-9d04-afa203525f4c",
   "metadata": {},
   "source": [
    "# Introduction à SymPy\n",
    "\n",
    "\n",
    "<img src=\"https://upload.wikimedia.org/wikipedia/commons/5/54/Sympy_logo.svg\" width=\"128\" align=\"left\"/>\n",
    "\n",
    "**SymPy** est une bibliothèque Python dédiée au [calcul formel](https://fr.wikipedia.org/wiki/Calcul_formel) (ou calcul symbolique).\n",
    "Elle permet entre autres de résoudre analytiquement des systèmes d'équations linéaires, des équations différentielles, de calculer des dérivées, des développements de Taylor, simplifier des expressions trigonométriques ou polynomiales, etc.\n",
    "Tout comme de nombreuses bibliothèques Python, **SymPy** est un logiciel libre disponible sous la licence [New BSD](https://en.wikipedia.org/wiki/BSD_licenses#3-clause).\n",
    "Son développement a commencé en 2005 sous l'égide de Ondrej Certik.\n",
    "Comme à chaque fois, l'objectif de ce TP est de vous familiariser avec **SymPy** et sa syntaxe.\n",
    "Pour cela, nous commencerons avec des exercices aussi simples qu'utiliser SymPy pour calculer analytiquement la dérivée de certaines fonctions.\n",
    "Nous nous intéresserons ensuite aux développements de Taylor puis à l'utilisation de SymPy dans le cadre des équations de la mécanique (e.g. pendule simple et pendules doubles).\n",
    "**SymPy** peut être importer à l'aide de la commande ci-dessous."
   ]
  },
  {
   "cell_type": "code",
   "execution_count": 2,
   "id": "1ec9719e-2df9-4164-97dc-5dfd744ab9ba",
   "metadata": {},
   "outputs": [],
   "source": [
    "import sympy as sp\n",
    "sp.init_printing()"
   ]
  },
  {
   "cell_type": "markdown",
   "id": "02a8a059-8ed0-4323-ae6b-a8b959546abd",
   "metadata": {},
   "source": [
    "---\n",
    "\n",
    "## Les bases de SymPy\n",
    "\n",
    "**SymPy** permet de manipuler *analytiquement* des expressions mathématiques.\n",
    "Pour cela, il est nécessaire de définir les *symboles* avec lesquels la bibliothèque devra travailler.\n",
    "La cellule ci-dessous illustre par exemple comment **SymPy** peut être utilisé pour diverses tâches."
   ]
  },
  {
   "cell_type": "code",
   "execution_count": 3,
   "id": "63d58d9c-cd6b-443f-998e-defb6d165faf",
   "metadata": {},
   "outputs": [],
   "source": [
    "# --> Définie la variable avec laquelle on travaillera.\n",
    "x = sp.symbols(\"x\")"
   ]
  },
  {
   "cell_type": "markdown",
   "id": "15cdf281-ffa4-4074-a30c-e106b59d3350",
   "metadata": {},
   "source": [
    "- Calcul de la dérivée de la fonction\n",
    "\n",
    "$$\n",
    "f(x) = \\sin(x) e^x\n",
    "$$"
   ]
  },
  {
   "cell_type": "code",
   "execution_count": 4,
   "id": "c285d5d1-d810-4991-822b-84d0dcbac760",
   "metadata": {},
   "outputs": [
    {
     "data": {
      "image/png": "[encoded data removed]",
      "text/latex": [
       "$\\displaystyle e^{x} \\sin{\\left(x \\right)} + e^{x} \\cos{\\left(x \\right)}$"
      ],
      "text/plain": [
       " x           x       \n",
       "ℯ ⋅sin(x) + ℯ ⋅cos(x)"
      ]
     },
     "execution_count": 4,
     "metadata": {},
     "output_type": "execute_result"
    }
   ],
   "source": [
    "# --> Définition de la fonction.\n",
    "f = sp.sin(x) * sp.exp(x)\n",
    "\n",
    "# --> Calcul de sa dérivée.\n",
    "df = f.diff(x) # On aurait pu aussi utiliser la commande sp.diff(f, x)\n",
    "df # Affiche joliement l'expression de df/dx"
   ]
  },
  {
   "cell_type": "markdown",
   "id": "2e1b5191-0c17-4ef6-823f-ad172e1ce52e",
   "metadata": {},
   "source": [
    "- Calcul de la primitive de la fonction\n",
    "\n",
    "$$\n",
    "f(x) = \\sin(x^2)\n",
    "$$"
   ]
  },
  {
   "cell_type": "code",
   "execution_count": 5,
   "id": "7c932f80-07f1-4289-be1f-f5cbc8093ca5",
   "metadata": {},
   "outputs": [
    {
     "data": {
      "image/png": "[encoded data removed]",
      "text/latex": [
       "$\\displaystyle \\frac{3 \\sqrt{2} \\sqrt{\\pi} S\\left(\\frac{\\sqrt{2} x}{\\sqrt{\\pi}}\\right) \\Gamma\\left(\\frac{3}{4}\\right)}{8 \\Gamma\\left(\\frac{7}{4}\\right)}$"
      ],
      "text/plain": [
       "         ⎛√2⋅x⎞       \n",
       "3⋅√2⋅√π⋅S⎜────⎟⋅Γ(3/4)\n",
       "         ⎝ √π ⎠       \n",
       "──────────────────────\n",
       "       8⋅Γ(7/4)       "
      ]
     },
     "execution_count": 5,
     "metadata": {},
     "output_type": "execute_result"
    }
   ],
   "source": [
    "# --> Définition de la fonction.\n",
    "f = sp.sin(x**2)\n",
    "\n",
    "# --> Calcul de la primitive de f(x).\n",
    "F = sp.integrate(f, x)\n",
    "F"
   ]
  },
  {
   "cell_type": "markdown",
   "id": "3d569eb8-780c-41fc-8e49-f9a4d3ecea9a",
   "metadata": {},
   "source": [
    "Dans l'expression ci-dessus, $\\Gamma(x)$ est ce que l'on appelle la [fonction gamma](https://fr.wikipedia.org/wiki/Fonction_gamma).\n",
    "Sa définition va bien au-delà d'un cours de mathématiques niveau ingénieur et ne sera donc pas abordé ici.\n",
    "Le point à retenir est que **SymPy** connaît cette fonction potentiellement très compliquée, sait comment l'évaluer et comment la manipuler.\n",
    "\n",
    "- Calcul de l'intégrale de $f(x)$ entre $-\\infty$ et $+\\infty$."
   ]
  },
  {
   "cell_type": "code",
   "execution_count": 6,
   "id": "2a699ba4-6b5d-43a2-b724-457aca6aaca3",
   "metadata": {},
   "outputs": [
    {
     "data": {
      "image/png": "[encoded data removed]",
      "text/latex": [
       "$\\displaystyle \\frac{\\sqrt{2} \\sqrt{\\pi}}{2}$"
      ],
      "text/plain": [
       "√2⋅√π\n",
       "─────\n",
       "  2  "
      ]
     },
     "execution_count": 6,
     "metadata": {},
     "output_type": "execute_result"
    }
   ],
   "source": [
    "# --> Calcul de l'intégrale entre -oo et +oo.\n",
    "sp.integrate(f, (x, -sp.oo, sp.oo))"
   ]
  },
  {
   "cell_type": "markdown",
   "id": "b09ca7ba-0181-4638-913e-0869a76a0b73",
   "metadata": {},
   "source": [
    "- Calcul de la limite\n",
    "\n",
    "$$\n",
    "\\lim_{x \\to 0} \\dfrac{\\sin(x)}{x}\n",
    "$$"
   ]
  },
  {
   "cell_type": "code",
   "execution_count": 7,
   "id": "e7d9f9a1-9b3d-4fdf-9974-022bd377a71e",
   "metadata": {},
   "outputs": [
    {
     "data": {
      "image/png": "[encoded data removed]",
      "text/latex": [
       "$\\displaystyle 1$"
      ],
      "text/plain": [
       "1"
      ]
     },
     "execution_count": 7,
     "metadata": {},
     "output_type": "execute_result"
    }
   ],
   "source": [
    "# --> Définition de la fonction.\n",
    "sinc = sp.sin(x) / x\n",
    "\n",
    "# --> Calcul de la limite quand x --> 0.\n",
    "sp.limit(sinc, x, 0)"
   ]
  },
  {
   "cell_type": "markdown",
   "id": "977df3d4-7b6a-488a-9de4-65dc3dc2bfe3",
   "metadata": {},
   "source": [
    "- Calcul des racines du polynôme quadratique\n",
    "\n",
    "$$\n",
    "x^2 - 2 = 0\n",
    "$$"
   ]
  },
  {
   "cell_type": "code",
   "execution_count": 8,
   "id": "895cfa40-566e-4422-aa6a-575f63717050",
   "metadata": {},
   "outputs": [
    {
     "data": {
      "image/png": "[encoded data removed]",
      "text/latex": [
       "$\\displaystyle \\left[ - \\sqrt{2}, \\  \\sqrt{2}\\right]$"
      ],
      "text/plain": [
       "[-√2, √2]"
      ]
     },
     "execution_count": 8,
     "metadata": {},
     "output_type": "execute_result"
    }
   ],
   "source": [
    "# --> Définition de l'équation.\n",
    "Eq = x**2 - 2\n",
    "\n",
    "# --> Résolution (i.e. calcul des racines).\n",
    "sol = sp.solve(Eq, x)\n",
    "sol"
   ]
  },
  {
   "cell_type": "markdown",
   "id": "dbaf4c94-6621-48cc-954a-31698bf2195f",
   "metadata": {},
   "source": [
    "- Calcul des racines du polynôme cubique\n",
    "\n",
    "$$\n",
    "x^3 + x^2 - 4x - 2 = 0\n",
    "$$"
   ]
  },
  {
   "cell_type": "code",
   "execution_count": 9,
   "id": "89468a9c-89f5-4a6c-abac-cc092b331950",
   "metadata": {},
   "outputs": [
    {
     "data": {
      "image/png": "[encoded data removed]",
      "text/latex": [
       "$\\displaystyle \\left[ - \\frac{1}{3} + \\left(- \\frac{1}{2} - \\frac{\\sqrt{3} i}{2}\\right) \\sqrt[3]{\\frac{8}{27} + \\frac{\\sqrt{237} i}{9}} + \\frac{13}{9 \\left(- \\frac{1}{2} - \\frac{\\sqrt{3} i}{2}\\right) \\sqrt[3]{\\frac{8}{27} + \\frac{\\sqrt{237} i}{9}}}, \\  - \\frac{1}{3} + \\frac{13}{9 \\left(- \\frac{1}{2} + \\frac{\\sqrt{3} i}{2}\\right) \\sqrt[3]{\\frac{8}{27} + \\frac{\\sqrt{237} i}{9}}} + \\left(- \\frac{1}{2} + \\frac{\\sqrt{3} i}{2}\\right) \\sqrt[3]{\\frac{8}{27} + \\frac{\\sqrt{237} i}{9}}, \\  - \\frac{1}{3} + \\frac{13}{9 \\sqrt[3]{\\frac{8}{27} + \\frac{\\sqrt{237} i}{9}}} + \\sqrt[3]{\\frac{8}{27} + \\frac{\\sqrt{237} i}{9}}\\right]$"
      ],
      "text/plain": [
       "⎡                       _____________                                         \n",
       "⎢  1   ⎛  1   √3⋅ⅈ⎞    ╱ 8    √237⋅ⅈ                   13                   1 \n",
       "⎢- ─ + ⎜- ─ - ────⎟⋅3 ╱  ── + ──────  + ────────────────────────────────, - ─ \n",
       "⎢  3   ⎝  2    2  ⎠ ╲╱   27     9                          _____________    3 \n",
       "⎢                                         ⎛  1   √3⋅ⅈ⎞    ╱ 8    √237⋅ⅈ       \n",
       "⎢                                       9⋅⎜- ─ - ────⎟⋅3 ╱  ── + ──────       \n",
       "⎣                                         ⎝  2    2  ⎠ ╲╱   27     9          \n",
       "\n",
       "                                                      _____________           \n",
       "                 13                  ⎛  1   √3⋅ⅈ⎞    ╱ 8    √237⋅ⅈ     1      \n",
       "+ ──────────────────────────────── + ⎜- ─ + ────⎟⋅3 ╱  ── + ────── , - ─ + ───\n",
       "                     _____________   ⎝  2    2  ⎠ ╲╱   27     9        3      \n",
       "    ⎛  1   √3⋅ⅈ⎞    ╱ 8    √237⋅ⅈ                                             \n",
       "  9⋅⎜- ─ + ────⎟⋅3 ╱  ── + ──────                                          9⋅3\n",
       "    ⎝  2    2  ⎠ ╲╱   27     9                                               ╲\n",
       "\n",
       "                       _____________⎤\n",
       "      13              ╱ 8    √237⋅ⅈ ⎥\n",
       "──────────────── + 3 ╱  ── + ────── ⎥\n",
       "   _____________   ╲╱   27     9    ⎥\n",
       "  ╱ 8    √237⋅ⅈ                     ⎥\n",
       " ╱  ── + ──────                     ⎥\n",
       "╱   27     9                        ⎦"
      ]
     },
     "execution_count": 9,
     "metadata": {},
     "output_type": "execute_result"
    }
   ],
   "source": [
    "# --> Définition de l'équation.\n",
    "eq = x**3 + x**2 - 4*x - 2\n",
    "\n",
    "# --> Résolution (i.e. calcul des racines).\n",
    "sol = sp.solve(eq, x)\n",
    "sol"
   ]
  },
  {
   "cell_type": "markdown",
   "id": "29dc917e-85ad-49be-a3c6-b44e7fe19cd9",
   "metadata": {},
   "source": [
    "- Résolution de l'équation différentielle\n",
    "\n",
    "$$\n",
    "y^{\\prime \\prime} - y = e^t\n",
    "$$"
   ]
  },
  {
   "cell_type": "code",
   "execution_count": 10,
   "id": "c23abf84-9cac-49ad-b8a5-2f90103ed37f",
   "metadata": {},
   "outputs": [
    {
     "data": {
      "image/png": "[encoded data removed]",
      "text/latex": [
       "$\\displaystyle y{\\left(t \\right)} = C_{2} e^{- t} + \\left(C_{1} + \\frac{t}{2}\\right) e^{t}$"
      ],
      "text/plain": [
       "           -t   ⎛     t⎞  t\n",
       "y(t) = C₂⋅ℯ   + ⎜C₁ + ─⎟⋅ℯ \n",
       "                ⎝     2⎠   "
      ]
     },
     "execution_count": 10,
     "metadata": {},
     "output_type": "execute_result"
    }
   ],
   "source": [
    "# --> Définition de la fonction et de la variable temps.\n",
    "y = sp.Function(\"y\")\n",
    "t = sp.symbols(\"t\")\n",
    "\n",
    "# --> Définition de l'équation différentielle.\n",
    "ode = sp.Eq(y(t).diff(t, 2) - y(t), sp.exp(t))\n",
    "\n",
    "# --> Résolution de l'équation différentielle.\n",
    "sol = sp.dsolve(ode, y(t))\n",
    "sol"
   ]
  },
  {
   "cell_type": "markdown",
   "id": "cf35ba42-49b4-45b2-b021-3d14b47df21b",
   "metadata": {},
   "source": [
    "Les exemples ci-dessus ne sont qu'un petit aperçu des possibilités offertes par **SymPy**.\n",
    "Dans la suite de ce TP, nous nous intéresserons en particulier aux développements de Taylor, à la dérivation des équations du mouvement à partir du Lagrangien d'un système ainsi qu'à leur linéarisation.\n",
    "Pour en savoir plus sur **SymPy**, n'hésitez surtout pas à aller voir la documentation disponible [ici](https://docs.sympy.org/latest/tutorial/intro.html).\n",
    "\n",
    "---\n",
    "\n",
    "## Développements limités\n",
    "\n",
    "Les [développements limités](https://fr.wikipedia.org/wiki/D%C3%A9veloppement_limit%C3%A9) sont probablement l'un des outils mathématiques les plus utilisés en physique et en ingénierie.\n",
    "Le développement limité d'une fonction en un point est une approximation polynomiale de cette fonction au voisinage de ce point.\n",
    "Pour une fonction $f : \\mathbb{R} \\to \\mathbb{R}$ dérivable $n$ fois, son développement limité au points $x = x_0$ est donné par\n",
    "\n",
    "$$\n",
    "f(x) = f(x_0) + f^{\\prime}(x_0) (x - x_0) + \\dfrac{f^{\\prime \\prime}(x_0)}{2} (x - x_0)^2 + \\cdots + \\dfrac{f^{(n)}(x_0)}{n!} (x - x_0)^n + \\mathcal{O}((x-x_0)^{n+1})\n",
    "$$\n",
    "\n",
    "Il existe pour les fonctions usuelles (i.e. $\\ln(1 + x)$, $\\exp(x)$, $\\sin(x)$, $\\cos(x)$, etc) des tables donnant les premiers termes de leur développement limité.\n",
    "Pour des fonctions plus compliquées, calculer leur développement limité peut rapidement devenir un enfer.\n",
    "C'est en cela que **SymPy** peut vous être grandement utile!\n",
    "Quelques exemples sont donnés ci-dessous."
   ]
  },
  {
   "cell_type": "code",
   "execution_count": 11,
   "id": "e79d57d7-985a-4914-bd16-a2b72909cd06",
   "metadata": {},
   "outputs": [],
   "source": [
    "# -->\n",
    "x = sp.symbols(\"x\")"
   ]
  },
  {
   "cell_type": "markdown",
   "id": "986a9169-4e9f-4fd6-a070-52eeea030ee3",
   "metadata": {},
   "source": [
    "- Développement limité de $\\exp(x)$ en $x = 0$."
   ]
  },
  {
   "cell_type": "code",
   "execution_count": 12,
   "id": "79d3d528-00d7-4d3a-b76c-4977b73cfef3",
   "metadata": {},
   "outputs": [
    {
     "data": {
      "image/png": "[encoded data removed]",
      "text/latex": [
       "$\\displaystyle 1 + x + \\frac{x^{2}}{2} + \\frac{x^{3}}{6} + \\frac{x^{4}}{24} + \\frac{x^{5}}{120} + \\frac{x^{6}}{720} + \\frac{x^{7}}{5040} + O\\left(x^{8}\\right)$"
      ],
      "text/plain": [
       "         2    3    4     5     6     7         \n",
       "        x    x    x     x     x     x      ⎛ 8⎞\n",
       "1 + x + ── + ── + ── + ─── + ─── + ──── + O⎝x ⎠\n",
       "        2    6    24   120   720   5040        "
      ]
     },
     "execution_count": 12,
     "metadata": {},
     "output_type": "execute_result"
    }
   ],
   "source": [
    "# --> Définition de la fonction exponentielle.\n",
    "f = sp.exp(x)\n",
    "\n",
    "# --> Affiche les premiers termes de son développement de Taylor en x = 0 (jusqu'à l'ordre 8)\n",
    "f.series(x, 0, 8)"
   ]
  },
  {
   "cell_type": "markdown",
   "id": "19e94a8b-8734-46f6-882c-1fc53ff58b30",
   "metadata": {},
   "source": [
    "- Développement limité de $\\sin(x)$ en $x = 0$."
   ]
  },
  {
   "cell_type": "code",
   "execution_count": 13,
   "id": "81b28cae-b503-4afa-ade2-7b8a7999a3b8",
   "metadata": {},
   "outputs": [
    {
     "data": {
      "image/png": "[encoded data removed]",
      "text/latex": [
       "$\\displaystyle x - \\frac{x^{3}}{6} + O\\left(x^{4}\\right)$"
      ],
      "text/plain": [
       "     3        \n",
       "    x     ⎛ 4⎞\n",
       "x - ── + O⎝x ⎠\n",
       "    6         "
      ]
     },
     "execution_count": 13,
     "metadata": {},
     "output_type": "execute_result"
    }
   ],
   "source": [
    "# --> Définition de la fonction.\n",
    "f = sp.sin(x)\n",
    "\n",
    "# ---> Order de l'approximation.\n",
    "order = 4\n",
    "\n",
    "# --> Affiche les premiers termes de son développement de Taylor en x = 0 (jusqu'à l'ordre voulu)\n",
    "f.series(x, 0, order)"
   ]
  },
  {
   "cell_type": "code",
   "execution_count": 14,
   "id": "1001cde2-24c8-40d6-8a0a-68d0b46e9c94",
   "metadata": {},
   "outputs": [
    {
     "data": {
      "image/png": "[encoded data removed]",
      "text/plain": [
       "<Figure size 432x288 with 1 Axes>"
      ]
     },
     "metadata": {
      "needs_background": "light"
     },
     "output_type": "display_data"
    },
    {
     "data": {
      "text/plain": [
       "<sympy.plotting.plot.Plot at 0x7f2492243940>"
      ]
     },
     "execution_count": 14,
     "metadata": {},
     "output_type": "execute_result"
    }
   ],
   "source": [
    "# --> Trace la fonction f(x) = sin(x) et son développement de Taylor à l'ordre voulu.\n",
    "sp.plot(\n",
    "    f, # Trace la fonction f(x).\n",
    "    f.series(x, 0, order).removeO(), # Trace son développement limité.\n",
    "    (x, -sp.pi, sp.pi) # Intervalle sur lequel tracer les deux fonctions.\n",
    ")"
   ]
  },
  {
   "cell_type": "markdown",
   "id": "5d0fd00c-5683-4d2e-92e3-097ce6d833d3",
   "metadata": {},
   "source": [
    "- Développement limité de la fonction $\\sin(x)$ en $x = \\pi$."
   ]
  },
  {
   "cell_type": "code",
   "execution_count": 15,
   "id": "5e37cea9-23db-4a5e-9018-71fb7086c72b",
   "metadata": {},
   "outputs": [
    {
     "data": {
      "image/png": "[encoded data removed]",
      "text/latex": [
       "$\\displaystyle \\pi + \\frac{\\left(x - \\pi\\right)^{3}}{6} - \\frac{\\left(x - \\pi\\right)^{5}}{120} + \\frac{\\left(x - \\pi\\right)^{7}}{5040} - x + O\\left(\\left(x - \\pi\\right)^{8}; x\\rightarrow \\pi\\right)$"
      ],
      "text/plain": [
       "           3          5          7                         \n",
       "    (x - π)    (x - π)    (x - π)         ⎛       8       ⎞\n",
       "π + ──────── - ──────── + ──────── - x + O⎝(x - π) ; x → π⎠\n",
       "       6         120        5040                           "
      ]
     },
     "execution_count": 15,
     "metadata": {},
     "output_type": "execute_result"
    }
   ],
   "source": [
    "# --> Affiche les premiers termes de son développement de Taylor en x = π (jusqu'à l'ordre 8)\n",
    "f.series(x, sp.pi, 8)"
   ]
  },
  {
   "cell_type": "markdown",
   "id": "6fa5b1d7-860b-4aba-88df-e25819f381f1",
   "metadata": {},
   "source": [
    "- Développement limité de la fonction $\\exp(\\sin(x))$ en $x = 0$."
   ]
  },
  {
   "cell_type": "code",
   "execution_count": 16,
   "id": "da97432a-aaeb-4728-a4a8-9ad96c299537",
   "metadata": {},
   "outputs": [
    {
     "data": {
      "image/png": "[encoded data removed]",
      "text/latex": [
       "$\\displaystyle 1 + x + \\frac{x^{2}}{2} - \\frac{x^{4}}{8} - \\frac{x^{5}}{15} - \\frac{x^{6}}{240} + \\frac{x^{7}}{90} + O\\left(x^{8}\\right)$"
      ],
      "text/plain": [
       "         2    4    5     6    7        \n",
       "        x    x    x     x    x     ⎛ 8⎞\n",
       "1 + x + ── - ── - ── - ─── + ── + O⎝x ⎠\n",
       "        2    8    15   240   90        "
      ]
     },
     "execution_count": 16,
     "metadata": {},
     "output_type": "execute_result"
    }
   ],
   "source": [
    "# --> Définition de la fonction.\n",
    "f = sp.exp( sp.sin(x) )\n",
    "\n",
    "# --> Affiche les premiers termes de son développement de Taylor en x = π (jusqu'à l'ordre 8)\n",
    "f.series(x, 0, 8)"
   ]
  },
  {
   "cell_type": "markdown",
   "id": "2e52cf21-2cfd-4b36-8d90-528a3a34deee",
   "metadata": {},
   "source": [
    "---\n",
    "\n",
    "## Résolution d'équations différentielles ordinaires\n",
    "\n",
    "Une autre domaine où **SymPy** excelle est la *résolution d'équations différentielles ordinaires*, notamment les équations linéaires.\n",
    "Dans le cas d'équations non-linéaires, **SymPy** peut malgré tout être utilisé pour essayer de les simplifier au maximum avant de se tourner vers des bibliothèques telles que **SciPy** pour faire de la simulation numérique.\n",
    "\n",
    "Dans la suite de ce TP, nous allons nous intéresser à deux exemples qui reviennent souvent en mécanique: l'oscillateur harmonique et le pendule simple.\n",
    "Alors que le premier de ces deux exemples est modélisé à l'aide d'une équation linéaire, la dynamique du second fait intervenir une équation non-linéaire.\n",
    "\n",
    "### Cas n°1 : L'oscillateur harmonique\n",
    "\n",
    "L'équation de la dynamique de l'oscillateur harmonique est donné par\n",
    "\n",
    "$$\n",
    "\\dfrac{\\mathrm{d}^2 x}{\\mathrm{d}t^2} + 2 \\zeta \\omega_0 \\dfrac{\\mathrm{d}x}{\\mathrm{d}t} + \\omega_0^2 x = 0.\n",
    "$$\n",
    "\n",
    "Dans l'équation ci-dessus, les paramètres sont les suivants:\n",
    "- $\\zeta \\in \\mathbb{R}_+$ est le paramètre d'amortissement de l'oscillateur. Si $\\zeta > 1$, la dynamique de l'oscillateur est dite *sur-amortie*. Dans le cas contraire, elle est *sous-amortie* (et *pseudo-périodique*).\n",
    "- $\\omega_0 \\in \\mathbb{R}_+$ est la *fréquence propre* de l'oscillateur, i.e. la fréquence à laquelle il oscillerait en absence de frottement.\n",
    "\n",
    "Sans aucune perte de généralité, ce système peut être simplifier en supposant que $\\omega_0 = 1$.\n",
    "Ceci est toujours possible et consiste juste à changer l'échelle de temps que l'on utilise pour décrire le système.\n",
    "Ainsi, nous n'avons qu'un seul paramètre à considérer: le *taux d'amortissement* de l'oscillateur.\n",
    "\n",
    "La cellule ci-dessous illustre comment définir un tel système de façon symbolique à l'aide de **SymPy**."
   ]
  },
  {
   "cell_type": "code",
   "execution_count": 17,
   "id": "f4b26361-19cc-431d-bd0b-b2c4087edabb",
   "metadata": {},
   "outputs": [
    {
     "data": {
      "image/png": "[encoded data removed]",
      "text/latex": [
       "$\\displaystyle 2 ζ \\frac{d}{d t} x{\\left(t \\right)} + x{\\left(t \\right)} + \\frac{d^{2}}{d t^{2}} x{\\left(t \\right)} = 0$"
      ],
      "text/plain": [
       "                        2          \n",
       "    d                  d           \n",
       "2⋅ζ⋅──(x(t)) + x(t) + ───(x(t)) = 0\n",
       "    dt                  2          \n",
       "                      dt           "
      ]
     },
     "execution_count": 17,
     "metadata": {},
     "output_type": "execute_result"
    }
   ],
   "source": [
    "# --> Paramètres du système.\n",
    "ζ = sp.symbols(\"ζ\")  #<TAB> \\zeta <TAB> pour faire appraître le caractère grec.\n",
    "\n",
    "# --> Définition de la fonction que l'on cherche.\n",
    "x = sp.Function(\"x\")\n",
    "\n",
    "# --> Définition de l'équation pour l'oscillateur harmonique.\n",
    "ode = sp.Eq( x(t).diff(t, 2) + 2*ζ*x(t).diff(t, 1) + x(t), 0 )\n",
    "ode"
   ]
  },
  {
   "cell_type": "markdown",
   "id": "98da3c7e-996f-4ca3-94db-02c1d2a76d89",
   "metadata": {},
   "source": [
    "Comme vous pouvez le voir, **SymPy** interprète correctement notre modèle et **Jupyter** affiche la bonne équation.\n",
    "A partir d'ici, il est possible d'utiliser certaines des capacités de **SymPy** pour obtenir la solution la plus générale de notre équation différentielle ordinaire linéaire.\n",
    "Nous utiliserons la fonction `sp.dsolve` pour cela."
   ]
  },
  {
   "cell_type": "code",
   "execution_count": 18,
   "id": "6bb0cc95-fb47-4c30-8049-4725e95cddee",
   "metadata": {},
   "outputs": [
    {
     "data": {
      "image/png": "[encoded data removed]",
      "text/latex": [
       "$\\displaystyle x{\\left(t \\right)} = C_{1} e^{t \\left(- ζ - \\sqrt{ζ^{2} - 1}\\right)} + C_{2} e^{t \\left(- ζ + \\sqrt{ζ^{2} - 1}\\right)}$"
      ],
      "text/plain": [
       "             ⎛        ________⎞         ⎛        ________⎞\n",
       "             ⎜       ╱  2     ⎟         ⎜       ╱  2     ⎟\n",
       "           t⋅⎝-ζ - ╲╱  ζ  - 1 ⎠       t⋅⎝-ζ + ╲╱  ζ  - 1 ⎠\n",
       "x(t) = C₁⋅ℯ                     + C₂⋅ℯ                    "
      ]
     },
     "execution_count": 18,
     "metadata": {},
     "output_type": "execute_result"
    }
   ],
   "source": [
    "# --> Résolution de l'équation différentielle.\n",
    "sp.dsolve(ode)"
   ]
  },
  {
   "cell_type": "markdown",
   "id": "2a376b32-dd46-4333-a5e3-60a01cb462e9",
   "metadata": {},
   "source": [
    "Comme attendu, **SymPy** identifie que la solution de notre équation différentielle du second ordre est une combinaison de fonctions exponentielles.\n",
    "Les constantes $C_1$ et $C_2$ restent pour le moment indéterminées puisqu'elles nécessitent de connaître les conditions initiales.\n",
    "Ceci peut être fait de plusieurs façons.\n",
    "Ci-dessous,  nous présentons la façon la plus générale de le faire.\n",
    "Pour cela, nous créons deux nouvelles variables, `x0` et `xdot0`, que nous traiterons comme des paramètres du problème."
   ]
  },
  {
   "cell_type": "code",
   "execution_count": 19,
   "id": "1251ce91-d11e-4f16-8dc4-92f133c45c7c",
   "metadata": {},
   "outputs": [
    {
     "data": {
      "text/latex": [
       "$\\displaystyle \\left\\{ x{\\left(0 \\right)} : x_{0}, \\  \\left. \\frac{d}{d t} x{\\left(t \\right)} \\right|_{\\substack{ t=0 }} : \\dot{x}_{0}\\right\\}$"
      ],
      "text/plain": [
       "⎧          ⎛d       ⎞│       ⎫\n",
       "⎨x(0): x₀, ⎜──(x(t))⎟│   : ẋ₀⎬\n",
       "⎩          ⎝dt      ⎠│t=0    ⎭"
      ]
     },
     "execution_count": 19,
     "metadata": {},
     "output_type": "execute_result"
    }
   ],
   "source": [
    "# --> Paramètres pour les conditions initiales.\n",
    "x0, xdot0 = sp.symbols(\"x0, xdot0\")\n",
    "\n",
    "# --> Définition des conditions initiales.\n",
    "ics = {\n",
    "    x(0): x0,\n",
    "    x(t).diff(t).subs(t, 0) : xdot0\n",
    "}\n",
    "\n",
    "ics"
   ]
  },
  {
   "cell_type": "markdown",
   "id": "06bf6e0b-bbca-453a-90d3-05099065e4c1",
   "metadata": {},
   "source": [
    "Une fois ces conditions initiales spécifiées, il est possible de calculer à nouveau la solution de notre équation différentielle en prenant explicitement en compte la définition de nos conditions initiales."
   ]
  },
  {
   "cell_type": "code",
   "execution_count": 20,
   "id": "aef415a9-a228-49b6-8ab3-fea2e87a3cf8",
   "metadata": {},
   "outputs": [
    {
     "data": {
      "image/png": "[encoded data removed]",
      "text/latex": [
       "$\\displaystyle x{\\left(t \\right)} = \\left(- \\frac{x_{0} ζ}{2 \\sqrt{ζ^{2} - 1}} + \\frac{x_{0}}{2} - \\frac{\\dot{x}_{0}}{2 \\sqrt{ζ^{2} - 1}}\\right) e^{t \\left(- ζ - \\sqrt{ζ^{2} - 1}\\right)} + \\left(\\frac{x_{0} ζ}{2 \\sqrt{ζ^{2} - 1}} + \\frac{x_{0}}{2} + \\frac{\\dot{x}_{0}}{2 \\sqrt{ζ^{2} - 1}}\\right) e^{t \\left(- ζ + \\sqrt{ζ^{2} - 1}\\right)}$"
      ],
      "text/plain": [
       "                                                ⎛        ________⎞            \n",
       "                                                ⎜       ╱  2     ⎟            \n",
       "       ⎛       x₀⋅ζ       x₀        ẋ₀     ⎞  t⋅⎝-ζ - ╲╱  ζ  - 1 ⎠   ⎛     x₀\n",
       "x(t) = ⎜- ───────────── + ── - ─────────────⎟⋅ℯ                     + ⎜───────\n",
       "       ⎜       ________   2         ________⎟                         ⎜     __\n",
       "       ⎜      ╱  2                 ╱  2     ⎟                         ⎜    ╱  \n",
       "       ⎝  2⋅╲╱  ζ  - 1         2⋅╲╱  ζ  - 1 ⎠                         ⎝2⋅╲╱  ζ\n",
       "\n",
       "                               ⎛        ________⎞ \n",
       "                               ⎜       ╱  2     ⎟ \n",
       "⋅ζ       x₀        ẋ₀     ⎞  t⋅⎝-ζ + ╲╱  ζ  - 1 ⎠\n",
       "────── + ── + ─────────────⎟⋅ℯ                    \n",
       "______   2         ________⎟                      \n",
       "2                 ╱  2     ⎟                      \n",
       "  - 1         2⋅╲╱  ζ  - 1 ⎠                      "
      ]
     },
     "execution_count": 20,
     "metadata": {},
     "output_type": "execute_result"
    }
   ],
   "source": [
    "# --> Résolution du système complet.\n",
    "sol = sp.dsolve(ode, ics=ics)\n",
    "sol"
   ]
  },
  {
   "cell_type": "markdown",
   "id": "ea2a4804-7065-4b6d-b92b-271a0ba7d2b6",
   "metadata": {},
   "source": [
    "Vous avez ci-dessus la solution à notre problème.\n",
    "Il est important de noter que, lors de ses calculs, **SymPy** a implicitement assumé que le coefficient d'amortissement était différent de 1 (i.e. $\\zeta \\neq 1$).\n",
    "Si cela s'avérer être le cas, cette solution serait alors fausse.\n",
    "Un autre façon d'imposer les conditions initiales est néanmoins possible et permet de s'affranchir de ce problème.\n",
    "Pour des raisons de temps, nous ne la présenterons malheureusement pas.\n",
    "N'hésitez pas à aller voir la documentation en ligne pour en savoir plus."
   ]
  },
  {
   "cell_type": "markdown",
   "id": "9300176e-7828-4f00-9d6c-34470dd235a8",
   "metadata": {},
   "source": [
    "#### Sous-amortissement ($\\zeta < 1$)\n",
    "\n",
    "Intéressons maintenant au cas où l'on connait les valeurs des différents paramètres.\n",
    "Pour cela, nous choisirons les paramètres suivants:\n",
    "- $\\zeta = 0.1$, correspondant au cas d'un oscillateur sous-amorti,\n",
    "- $x_0 = 1$,\n",
    "- $\\dot{x}_0 = 0$.\n",
    "\n",
    "Dans la cellule ci-dessous, nous créons un nouvel objet **SymPy** identique au premier si ce n'est que l'on a substitué (`subs`) les paramètres symboliques par leur valeur numérique."
   ]
  },
  {
   "cell_type": "code",
   "execution_count": 21,
   "id": "7b2a3bf7-0988-418d-8635-54cc1d3e9957",
   "metadata": {},
   "outputs": [
    {
     "data": {
      "image/png": "[encoded data removed]",
      "text/latex": [
       "$\\displaystyle x{\\left(t \\right)} = \\left(\\frac{1}{2} + 0.0502518907629606 i\\right) e^{t \\left(-0.1 - 0.99498743710662 i\\right)} + \\left(\\frac{1}{2} - 0.0502518907629606 i\\right) e^{t \\left(-0.1 + 0.99498743710662 i\\right)}$"
      ],
      "text/plain": [
       "                                     t⋅(-0.1 - 0.99498743710662⋅ⅈ)            \n",
       "x(t) = (1/2 + 0.0502518907629606⋅ⅈ)⋅ℯ                              + (1/2 - 0.\n",
       "\n",
       "                     t⋅(-0.1 + 0.99498743710662⋅ⅈ)\n",
       "0502518907629606⋅ⅈ)⋅ℯ                             "
      ]
     },
     "execution_count": 21,
     "metadata": {},
     "output_type": "execute_result"
    }
   ],
   "source": [
    "sous_amorti = sol.subs(\n",
    "    {\n",
    "        ζ: 0.1,\n",
    "        x0: 1,\n",
    "        xdot0: 0\n",
    "    })\n",
    "\n",
    "sous_amorti"
   ]
  },
  {
   "cell_type": "markdown",
   "id": "fbca262c-43cd-4af6-8941-2c87406dc5c9",
   "metadata": {},
   "source": [
    "Comma attendu, la solution à notre problème est maintenant la somme de deux exponentielles complexes.\n",
    "Physiquement, cela correspond donc à un phénomène oscillatoire dont l'amplitude décroît exponentiellement au cours du temps.\n",
    "La cellule ci-dessous illustre comment utiliser les fonctions de `plot` de **SymPy** pour rapidement visualiser cette solution."
   ]
  },
  {
   "cell_type": "code",
   "execution_count": 22,
   "id": "f53c4387-ca2e-4d63-8a3d-5831a9c7bf1c",
   "metadata": {},
   "outputs": [
    {
     "data": {
      "image/png": "[encoded data removed]",
      "text/plain": [
       "<Figure size 432x288 with 1 Axes>"
      ]
     },
     "metadata": {
      "needs_background": "light"
     },
     "output_type": "display_data"
    },
    {
     "data": {
      "text/plain": [
       "<sympy.plotting.plot.Plot at 0x7f249171bdf0>"
      ]
     },
     "execution_count": 22,
     "metadata": {},
     "output_type": "execute_result"
    }
   ],
   "source": [
    "sp.plot(\n",
    "    sous_amorti.rhs, \n",
    "    (t, 0, 100), \n",
    "    adaptive=False,\n",
    "    nb_of_points=1024)"
   ]
  },
  {
   "cell_type": "markdown",
   "id": "066fc607-c0b0-4447-9701-41bfce6ce7dd",
   "metadata": {
    "tags": []
   },
   "source": [
    "#### Sur-amortissement ($\\zeta > 1$)\n",
    "\n",
    "Intéressons maintenant au cas sur-amorti.\n",
    "Pour cela, nous choisirons les paramètres suivants:\n",
    "- $\\zeta = 1.1$,\n",
    "- $x_0 = 1$,\n",
    "- $\\dot{x}_0 = 0$.\n",
    "\n",
    "Dans la cellule ci-dessous, nous créons un nouvel objet **SymPy** identique au premier si ce n'est que l'on a substitué (`subs`) les paramètres symboliques par leur valeur numérique.\n",
    "Il s'agit exactement de la même manipulation que tout à l'heure."
   ]
  },
  {
   "cell_type": "code",
   "execution_count": 23,
   "id": "682f4286-5f41-48a1-a06e-d6a4165fc273",
   "metadata": {},
   "outputs": [
    {
     "data": {
      "image/png": "[encoded data removed]",
      "text/latex": [
       "$\\displaystyle x{\\left(t \\right)} = - 0.700198396297958 e^{- 1.55825756949558 t} + 1.70019839629796 e^{- 0.641742430504416 t}$"
      ],
      "text/plain": [
       "                            -1.55825756949558⋅t                     -0.6417424\n",
       "x(t) = - 0.700198396297958⋅ℯ                    + 1.70019839629796⋅ℯ          \n",
       "\n",
       "30504416⋅t\n",
       "          "
      ]
     },
     "execution_count": 23,
     "metadata": {},
     "output_type": "execute_result"
    }
   ],
   "source": [
    "sur_amorti = sol.subs(\n",
    "    {\n",
    "        ζ: 1.1,\n",
    "        x0: 1,\n",
    "        xdot0: 0\n",
    "    })\n",
    "\n",
    "sur_amorti"
   ]
  },
  {
   "cell_type": "markdown",
   "id": "2290a4d6-3e24-44a6-a505-c21dde505629",
   "metadata": {},
   "source": [
    "La solution à notre problème est maintenant la somme de deux exponentielles réelles.\n",
    "Parce que les frottements sont beaucoup trop forts, notre oscillateur n'est donc pas en mesure d'osciller!\n",
    "La figure ci-dessous illustre à quoi ressemble la solution."
   ]
  },
  {
   "cell_type": "code",
   "execution_count": 24,
   "id": "32eb7519-ea99-4be6-b43e-02999cd07fef",
   "metadata": {},
   "outputs": [
    {
     "data": {
      "image/png": "[encoded data removed]",
      "text/plain": [
       "<Figure size 432x288 with 1 Axes>"
      ]
     },
     "metadata": {
      "needs_background": "light"
     },
     "output_type": "display_data"
    },
    {
     "data": {
      "text/plain": [
       "<sympy.plotting.plot.Plot at 0x7f24926e9370>"
      ]
     },
     "execution_count": 24,
     "metadata": {},
     "output_type": "execute_result"
    }
   ],
   "source": [
    "sp.plot(\n",
    "    sur_amorti.rhs, \n",
    "    (t, 0, 25), \n",
    "    adaptive=False,\n",
    "    nb_of_points=1024)"
   ]
  },
  {
   "cell_type": "markdown",
   "id": "3fab4ac0-d238-488c-bebd-a50e7aaed493",
   "metadata": {},
   "source": [
    "---\n",
    "\n",
    "## Cas d'étude n°2: Le pendule simple\n",
    "\n",
    "\n",
    "<img src=\"https://1.bp.blogspot.com/-yIsO2G1iEd8/Wkl7nllQnYI/AAAAAAAAAwI/0ndhlGurzaUVXoiQsxE4MYi0ynnt7xmOwCLcBGAs/s1600/SimplePendulum1.png\" width=\"256px\" align=\"left\"/>\n",
    "\n",
    "Le second exemple que l'on étudiera est cela du pendule simple, illustré à gauche.\n",
    "On notera $\\theta(t)$ sa position angulaire par rapport à l'axe vertical et $\\dot{\\theta}(t)$ sa vitesse angulaire.\n",
    "On supposera par ailleurs que le pendule oscille uniquement sous l'action de la gravité et que tout frottement est absent du système.\n",
    "Si l'on considère uniquement de petites oscillations, alors le mouvement du pendule est correctement décrit par l'oscillateur harmonique que l'on étudiait à la section précédente.\n",
    "Dans le cas général, les équations décrivant la dynamique de ce système sont cependant non-linéaires et, mis à part dans de rares situations, il est impossible de trouver une solution analytique.\n",
    "\n",
    "Les équations du mouvement sont données par\n",
    "\n",
    "$$\n",
    "\\dfrac{\\mathrm{d}^2 \\theta}{\\mathrm{d}t^2} + \\sin(\\theta) = 0.\n",
    "$$\n",
    "\n",
    "Bien que l'on puisse dériver cette équation à partir d'un bilan des forces, nous utiliserons dans la suite un autre approche beaucoup plus générale et puissante: la *mécanique lagrangienne*.\n",
    "Ce n'est pas très grave si vous n'êtes pas habitué(e) à ce formalisme, tout ce que vous avez besoin de savoir sera expliqué en temps voulu.\n",
    "L'objectif est simplement de vous illustrer sur un exemple simple une utilisation plus avancée de **SymPy**.\n",
    "\n",
    "Comme à chaque fois, il est nécessaire de commencer par définir les variables dont nous aurons besoin.\n",
    "Ceci est illustré ci-dessous."
   ]
  },
  {
   "cell_type": "code",
   "execution_count": 25,
   "id": "37829965-89fb-4046-b2fd-8c7d7d3487f0",
   "metadata": {},
   "outputs": [],
   "source": [
    "# --> Définition de la position angulaire du pendule.\n",
    "θ = sp.Function(\"theta\")(t)\n",
    "\n",
    "# --> Définition de la vitesse angulaire du pendule.\n",
    "dθ = sp.diff(θ, t)\n",
    "\n",
    "# --> Définition de l'accélération angulaire du pendule.\n",
    "ddθ = sp.diff(θ, t, 2)"
   ]
  },
  {
   "cell_type": "markdown",
   "id": "6914003f-8242-4b27-87aa-3d3aeddf4d1c",
   "metadata": {},
   "source": [
    "C'est maintenant qu'entre en scène le formalisme de la mécanique lagrangienne.\n",
    "Pour cela, il nous est nécessaire de définir ce que l'on appelle le [Lagrangien](https://fr.wikipedia.org/wiki/Lagrangien) du système.\n",
    "Le Lagragien $L$ est défini comme étant la différence de l'énergie cinétique (classiquement notée $T$) et de l'énergie potentielle (classiquement notée $V$) du système.\n",
    "Pour notre pendule simple, son énergie cinétique est donnée par\n",
    "\n",
    "$$\n",
    "T = \\dfrac{1}{2} \\dot{\\theta}^2\n",
    "$$\n",
    "\n",
    "tandis que son énergie potentielle est donnée par\n",
    "\n",
    "$$\n",
    "V = -\\cos(\\theta).\n",
    "$$\n",
    "\n",
    "Ainsi le Lagragien du système est\n",
    "\n",
    "$$\n",
    "\\begin{aligned}\n",
    "L & = T - V \\\\\n",
    "& = \\dfrac{1}{2} \\dot{\\theta}^2 + \\cos(\\theta).\n",
    "\\end{aligned}\n",
    "$$\n",
    "\n",
    "La cellule ci-dessous illustre comment le définir à l'aide de **SymPy**."
   ]
  },
  {
   "cell_type": "code",
   "execution_count": 26,
   "id": "2b7fd2d7-3d15-40a3-9027-c2ff0beee4e7",
   "metadata": {},
   "outputs": [
    {
     "data": {
      "image/png": "[encoded data removed]",
      "text/latex": [
       "$\\displaystyle \\cos{\\left(\\theta{\\left(t \\right)} \\right)} + 0.5 \\left(\\frac{d}{d t} \\theta{\\left(t \\right)}\\right)^{2}$"
      ],
      "text/plain": [
       "                          2\n",
       "                ⎛d       ⎞ \n",
       "cos(θ(t)) + 0.5⋅⎜──(θ(t))⎟ \n",
       "                ⎝dt      ⎠ "
      ]
     },
     "execution_count": 26,
     "metadata": {},
     "output_type": "execute_result"
    }
   ],
   "source": [
    "# --> Energie cinétique.\n",
    "T = 1/2 * dθ**2\n",
    "\n",
    "# --> Energie potentielle.\n",
    "V = -sp.cos(θ)\n",
    "\n",
    "# --> Lagrangien du système.\n",
    "L = T - V\n",
    "L"
   ]
  },
  {
   "cell_type": "markdown",
   "id": "f016aaed-0cd2-4045-a279-9f3acd61bae6",
   "metadata": {},
   "source": [
    "Maintenant que le Lagrangien du système est défini, il est possible de dériver les équations du mouvement.\n",
    "Celles-ci sont données par ce que l'on appelle les *équations d'Euler-Lagrange*.\n",
    "Pour notre problème, cette équation est\n",
    "\n",
    "$$\n",
    "\\dfrac{\\partial L}{\\partial \\theta} - \\dfrac{\\partial}{\\partial t} \\left( \\dfrac{\\partial L}{\\partial \\dot{\\theta}} \\right) = 0.\n",
    "$$\n",
    "\n",
    "Il est facile à l'aide de **SymPy** de calculer analytiquement cette équation.\n",
    "Ceci est illustré ci-dessous."
   ]
  },
  {
   "cell_type": "code",
   "execution_count": 27,
   "id": "b00a4d09-6b16-4f5f-a02a-b066e9fee785",
   "metadata": {},
   "outputs": [
    {
     "data": {
      "image/png": "[encoded data removed]",
      "text/latex": [
       "$\\displaystyle 1.0 \\sin{\\left(\\theta{\\left(t \\right)} \\right)} + 1.0 \\frac{d^{2}}{d t^{2}} \\theta{\\left(t \\right)} = 0$"
      ],
      "text/plain": [
       "                      2          \n",
       "                     d           \n",
       "1.0⋅sin(θ(t)) + 1.0⋅───(θ(t)) = 0\n",
       "                      2          \n",
       "                    dt           "
      ]
     },
     "execution_count": 27,
     "metadata": {},
     "output_type": "execute_result"
    }
   ],
   "source": [
    "# --> Définition des équations d'Euler-Lagrange.\n",
    "ode = sp.Eq( sp.diff(L, θ) - sp.diff(sp.diff(L, dθ), t), 0 )\n",
    "\n",
    "# --> Simplification des équations.\n",
    "ode = ode.simplify()\n",
    "\n",
    "# --> Affichage des équations.\n",
    "ode"
   ]
  },
  {
   "cell_type": "markdown",
   "id": "3a10c6b1-916c-480f-9900-aba8ab79e61d",
   "metadata": {},
   "source": [
    "Comme vous pouvez le voir, **SymPy** retrouve fort heureusement la même équation que celle que vous obtiendriez si vous aviez utiliser la technique habituelle consistant à faire un bilan des forces et à utiliser les différents principes de Newton.\n",
    "Cette équation est néanmoins non-linéaire et n'admet pas de solution analytique.\n",
    "Afin de pouvoir approximer la solution de ce système, il est alors nécessaire de se tourner vers la simulation numérique.\n",
    "Les détails vont bien au-delà des objectifs de ce présent TP et les cellules suivantes n'ont donc pour objectif que de vous illustrer comment faire."
   ]
  },
  {
   "cell_type": "code",
   "execution_count": 28,
   "id": "e422cb0f-f6a0-4a94-99f2-1d24ec8fc502",
   "metadata": {},
   "outputs": [],
   "source": [
    "# --> Import de la fonction SciPy permet d'intégrer numériquement des équations différentielles.\n",
    "from scipy.integrate import solve_ivp\n",
    "\n",
    "# --> Import de matplotlib pour pouvoir tracer des figures.\n",
    "import matplotlib.pyplot as plt"
   ]
  },
  {
   "cell_type": "code",
   "execution_count": 29,
   "id": "6feb0800-1179-468b-806f-53084c90d792",
   "metadata": {},
   "outputs": [],
   "source": [
    "# --> Extraction du terme de droite des équations du mouvement.\n",
    "rhs = sp.solve(ode, ddθ)[0]\n",
    "rhs\n",
    "\n",
    "# --> Transforme cette équation symbolique en une fonction python pouvant être utilisée dans un code.\n",
    "acceleration = sp.lambdify(θ, rhs)"
   ]
  },
  {
   "cell_type": "code",
   "execution_count": 30,
   "id": "3c161fde-a538-4f7c-a883-01948a316868",
   "metadata": {},
   "outputs": [],
   "source": [
    "def pendulum(t, u):\n",
    "    # --> Unpack variables.\n",
    "    θ, dθ = u\n",
    "    \n",
    "    # --> Equation of motion.\n",
    "    ddθ = acceleration(θ)\n",
    "    \n",
    "    return dθ, ddθ"
   ]
  },
  {
   "cell_type": "code",
   "execution_count": 50,
   "id": "cf04681e-0c03-4f51-b575-f491152068b2",
   "metadata": {},
   "outputs": [],
   "source": [
    "# --> Echelle du temps sur laquelle on va intégrer numériquement les équations.\n",
    "tspan = (0.0, 100.0)\n",
    "\n",
    "# --> On enregistrera la solution sur 1024 points uniformément répartis sur la fenêtre d'intégration.\n",
    "time = np.linspace(*tspan, 1024)\n",
    "\n",
    "# --> Condition initiale pour la simulation.\n",
    "u0 = [\n",
    "    9*np.pi/100, # Position angulaire initiale du pendule.\n",
    "    0.0           # Vitesse angulaire initiale du pendule.\n",
    "]\n",
    "\n",
    "# --> Résolution numérique des équations à l'aide de SciPy.\n",
    "output = solve_ivp(\n",
    "    pendulum, # Système à simuler.\n",
    "    tspan,    # Fenêtre de temps pour la simulation.\n",
    "    u0,       # Condition initiale.\n",
    "    t_eval=time,     # Pas de temps auxquels on sauvegardera la solution.\n",
    "    method=\"DOP853\", # Schéma numérique utilisé\n",
    "    atol=1e-12,\n",
    "    rtol=1e-12\n",
    ")"
   ]
  },
  {
   "cell_type": "code",
   "execution_count": 51,
   "id": "63f8bba9-3afe-4f35-882a-c061e1e607ef",
   "metadata": {},
   "outputs": [],
   "source": [
    "def wrap_phase(x):\n",
    "    \"\"\"\n",
    "    Fonction s'assurant que x est compris entre -π et π.\n",
    "    \"\"\"\n",
    "    x = (x + np.pi) % (2*np.pi) - np.pi\n",
    "    return x"
   ]
  },
  {
   "cell_type": "code",
   "execution_count": null,
   "id": "206084d0-cd49-4ae5-a2a8-93c6f907af9e",
   "metadata": {},
   "outputs": [],
   "source": []
  },
  {
   "cell_type": "code",
   "execution_count": 52,
   "id": "c39aa398-da3d-4b35-9af1-3291fd13a7df",
   "metadata": {},
   "outputs": [
    {
     "data": {
      "text/plain": [
       "<matplotlib.legend.Legend at 0x7f248f7abf40>"
      ]
     },
     "execution_count": 52,
     "metadata": {},
     "output_type": "execute_result"
    },
    {
     "data": {
      "image/png": "[encoded data removed]",
      "text/plain": [
       "<Figure size 576x144 with 1 Axes>"
      ]
     },
     "metadata": {
      "needs_background": "light"
     },
     "output_type": "display_data"
    }
   ],
   "source": [
    "fig = plt.figure(figsize=(8, 2))\n",
    "\n",
    "# --> Trace la position et vitesse angulaire en fonction du temps.\n",
    "time, θ, dθ = output[\"t\"], output[\"y\"][0], output[\"y\"][1]\n",
    "\n",
    "plt.plot(time, wrap_phase(θ), label=\"Position\")\n",
    "plt.plot(time, wrap_phase(dθ), label=\"Vitesse\")\n",
    "\n",
    "plt.xlim(time.min(), time.max())\n",
    "plt.ylim(-np.pi, np.pi)\n",
    "\n",
    "plt.xlabel(\"Temps\")\n",
    "plt.ylabel(\"θ(t), dθ(t)\")\n",
    "\n",
    "plt.legend(loc=1)"
   ]
  },
  {
   "cell_type": "code",
   "execution_count": 34,
   "id": "a29f7f06-c6f7-4aa3-a9ae-cce8dd3af9b8",
   "metadata": {},
   "outputs": [
    {
     "data": {
      "text/plain": [
       "Text(0.5, 1.0, 'Portrait de phase du pendule simple')"
      ]
     },
     "execution_count": 34,
     "metadata": {},
     "output_type": "execute_result"
    },
    {
     "data": {
      "image/png": "[encoded data removed]",
      "text/plain": [
       "<Figure size 432x432 with 1 Axes>"
      ]
     },
     "metadata": {
      "needs_background": "light"
     },
     "output_type": "display_data"
    }
   ],
   "source": [
    "fig = plt.figure(figsize=(6, 6))\n",
    "\n",
    "plt.plot(\n",
    "    wrap_phase(θ),\n",
    "    wrap_phase(dθ),\n",
    "    lw=1,\n",
    ")\n",
    "\n",
    "plt.axis(\"equal\")\n",
    "plt.xlim(-np.pi, np.pi)\n",
    "plt.ylim(-np.pi, np.pi)\n",
    "\n",
    "plt.xlabel(\"θ(t)\")\n",
    "plt.ylabel(\"dθ(t)\")\n",
    "\n",
    "plt.title(\"Portrait de phase du pendule simple\")"
   ]
  },
  {
   "cell_type": "markdown",
   "id": "f9d7767c-07e5-4480-b286-36fe424dec3b",
   "metadata": {},
   "source": [
    "---\n",
    "\n",
    "## Cas n°3: Le pendule double"
   ]
  },
  {
   "cell_type": "code",
   "execution_count": 35,
   "id": "ca6315b4-1412-4647-ae9c-d92a6a7ed11b",
   "metadata": {},
   "outputs": [],
   "source": [
    "# --> Définition de la position angulaire du premier et du second pendule.\n",
    "θ1 = sp.Function(\"theta_1\")(t)\n",
    "θ2 = sp.Function(\"theta_2\")(t)\n",
    "\n",
    "# --> Définition de la vitesse angulaire des pendules.\n",
    "dθ1 = sp.diff(θ1, t)\n",
    "dθ2 = sp.diff(θ2, t)\n",
    "\n",
    "# --> Définition de l'accélération angulaire des pendules.\n",
    "ddθ1 = sp.diff(θ1, t, 2)\n",
    "ddθ2 = sp.diff(θ2, t, 2)"
   ]
  },
  {
   "cell_type": "code",
   "execution_count": null,
   "id": "d175a68f-8d1a-4291-b29f-affb7d04cb2a",
   "metadata": {},
   "outputs": [],
   "source": []
  },
  {
   "cell_type": "code",
   "execution_count": 36,
   "id": "0b487d0c-eb36-48e1-b1cc-a172575dfa82",
   "metadata": {},
   "outputs": [
    {
     "data": {
      "image/png": "[encoded data removed]",
      "text/latex": [
       "$\\displaystyle 1.0 \\cos{\\left(\\theta_{1}{\\left(t \\right)} - \\theta_{2}{\\left(t \\right)} \\right)} \\frac{d}{d t} \\theta_{1}{\\left(t \\right)} \\frac{d}{d t} \\theta_{2}{\\left(t \\right)} + \\cos{\\left(\\theta_{1}{\\left(t \\right)} \\right)} + \\cos{\\left(\\theta_{2}{\\left(t \\right)} \\right)} + 1.0 \\left(\\frac{d}{d t} \\theta_{1}{\\left(t \\right)}\\right)^{2} + 0.5 \\left(\\frac{d}{d t} \\theta_{2}{\\left(t \\right)}\\right)^{2}$"
      ],
      "text/plain": [
       "                                                                              \n",
       "                       d         d                                         ⎛d \n",
       "1.0⋅cos(θ₁(t) - θ₂(t))⋅──(θ₁(t))⋅──(θ₂(t)) + cos(θ₁(t)) + cos(θ₂(t)) + 1.0⋅⎜──\n",
       "                       dt        dt                                        ⎝dt\n",
       "\n",
       "        2                  2\n",
       "       ⎞        ⎛d        ⎞ \n",
       "(θ₁(t))⎟  + 0.5⋅⎜──(θ₂(t))⎟ \n",
       "       ⎠        ⎝dt       ⎠ "
      ]
     },
     "execution_count": 36,
     "metadata": {},
     "output_type": "execute_result"
    }
   ],
   "source": [
    "# --> Energie cinétique.\n",
    "T = 1/2 * dθ1**2 + 1/2 * (dθ1**2 + dθ2**2 + 2*dθ1*dθ2*sp.cos(θ1 - θ2))\n",
    "\n",
    "# --> Energie potentielle.\n",
    "V = -sp.cos(θ1) - sp.cos(θ2)\n",
    "\n",
    "# --> Lagrangien du système.\n",
    "L = T - V\n",
    "L"
   ]
  },
  {
   "cell_type": "code",
   "execution_count": null,
   "id": "5d90d11b-f355-4127-845f-fe3aa088fdce",
   "metadata": {},
   "outputs": [],
   "source": []
  },
  {
   "cell_type": "code",
   "execution_count": 37,
   "id": "34e7d16b-1090-4ad1-b3ce-b763dfa6935f",
   "metadata": {},
   "outputs": [
    {
     "data": {
      "image/png": "[encoded data removed]",
      "text/latex": [
       "$\\displaystyle 1.0 \\sin{\\left(\\theta_{1}{\\left(t \\right)} - \\theta_{2}{\\left(t \\right)} \\right)} \\left(\\frac{d}{d t} \\theta_{2}{\\left(t \\right)}\\right)^{2} + 1.0 \\sin{\\left(\\theta_{1}{\\left(t \\right)} \\right)} + 1.0 \\cos{\\left(\\theta_{1}{\\left(t \\right)} - \\theta_{2}{\\left(t \\right)} \\right)} \\frac{d^{2}}{d t^{2}} \\theta_{2}{\\left(t \\right)} + 2.0 \\frac{d^{2}}{d t^{2}} \\theta_{1}{\\left(t \\right)} = 0$"
      ],
      "text/plain": [
       "                                  2                                           \n",
       "                       ⎛d        ⎞                                            \n",
       "1.0⋅sin(θ₁(t) - θ₂(t))⋅⎜──(θ₂(t))⎟  + 1.0⋅sin(θ₁(t)) + 1.0⋅cos(θ₁(t) - θ₂(t))⋅\n",
       "                       ⎝dt       ⎠                                            \n",
       "                                                                              \n",
       "\n",
       "  2                2           \n",
       " d                d            \n",
       "───(θ₂(t)) + 2.0⋅───(θ₁(t)) = 0\n",
       "  2                2           \n",
       "dt               dt            "
      ]
     },
     "execution_count": 37,
     "metadata": {},
     "output_type": "execute_result"
    }
   ],
   "source": [
    "# --> Définition des équations d'Euler-Lagrange.\n",
    "ode_1 = sp.Eq( sp.diff(L, θ1) - sp.diff(sp.diff(L, dθ1), t), 0 )\n",
    "\n",
    "# --> Simplification des équations.\n",
    "ode_1 = ode_1.simplify()\n",
    "\n",
    "# --> Affichage des équations.\n",
    "ode_1"
   ]
  },
  {
   "cell_type": "code",
   "execution_count": 38,
   "id": "cc01854e-a532-45b0-bf04-da97df41ef6c",
   "metadata": {},
   "outputs": [
    {
     "data": {
      "image/png": "[encoded data removed]",
      "text/latex": [
       "$\\displaystyle - 1.0 \\sin{\\left(\\theta_{1}{\\left(t \\right)} - \\theta_{2}{\\left(t \\right)} \\right)} \\left(\\frac{d}{d t} \\theta_{1}{\\left(t \\right)}\\right)^{2} + 1.0 \\sin{\\left(\\theta_{2}{\\left(t \\right)} \\right)} + 1.0 \\cos{\\left(\\theta_{1}{\\left(t \\right)} - \\theta_{2}{\\left(t \\right)} \\right)} \\frac{d^{2}}{d t^{2}} \\theta_{1}{\\left(t \\right)} + 1.0 \\frac{d^{2}}{d t^{2}} \\theta_{2}{\\left(t \\right)} = 0$"
      ],
      "text/plain": [
       "                                2                                             \n",
       "                     ⎛d        ⎞                                             d\n",
       "- sin(θ₁(t) - θ₂(t))⋅⎜──(θ₁(t))⎟  + 1.0⋅sin(θ₂(t)) + 1.0⋅cos(θ₁(t) - θ₂(t))⋅──\n",
       "                     ⎝dt       ⎠                                              \n",
       "                                                                            dt\n",
       "\n",
       "2                2           \n",
       "                d            \n",
       "─(θ₁(t)) + 1.0⋅───(θ₂(t)) = 0\n",
       "2                2           \n",
       "               dt            "
      ]
     },
     "execution_count": 38,
     "metadata": {},
     "output_type": "execute_result"
    }
   ],
   "source": [
    "# --> Définition des équations d'Euler-Lagrange.\n",
    "ode_2 = sp.Eq( sp.diff(L, θ2) - sp.diff(sp.diff(L, dθ2), t), 0 )\n",
    "\n",
    "# --> Simplification des équations.\n",
    "ode_2 = ode_2.simplify()\n",
    "\n",
    "# --> Affichage des équations.\n",
    "ode_2"
   ]
  },
  {
   "cell_type": "code",
   "execution_count": null,
   "id": "0a2a9eb9-91f2-4292-bd18-ca22d1ff67d8",
   "metadata": {},
   "outputs": [],
   "source": []
  },
  {
   "cell_type": "code",
   "execution_count": 39,
   "id": "0990cf0d-19ee-4943-9e25-85b40670c997",
   "metadata": {},
   "outputs": [],
   "source": [
    "# --> Extrait les équations du type ddθ = f(θ).\n",
    "rhs = sp.solve([ode_1, ode_2], (ddθ1, ddθ2))"
   ]
  },
  {
   "cell_type": "code",
   "execution_count": 40,
   "id": "22b6ca18-3b5e-4c97-b8fb-248e754e25b8",
   "metadata": {},
   "outputs": [
    {
     "data": {
      "image/png": "[encoded data removed]",
      "text/latex": [
       "$\\displaystyle \\frac{\\sin{\\left(\\theta_{1}{\\left(t \\right)} - \\theta_{2}{\\left(t \\right)} \\right)} \\cos{\\left(\\theta_{1}{\\left(t \\right)} - \\theta_{2}{\\left(t \\right)} \\right)} \\left(\\frac{d}{d t} \\theta_{1}{\\left(t \\right)}\\right)^{2}}{\\cos^{2}{\\left(\\theta_{1}{\\left(t \\right)} - \\theta_{2}{\\left(t \\right)} \\right)} - 2.0} + \\frac{\\sin{\\left(\\theta_{1}{\\left(t \\right)} - \\theta_{2}{\\left(t \\right)} \\right)} \\left(\\frac{d}{d t} \\theta_{2}{\\left(t \\right)}\\right)^{2}}{\\cos^{2}{\\left(\\theta_{1}{\\left(t \\right)} - \\theta_{2}{\\left(t \\right)} \\right)} - 2.0} + \\frac{\\sin{\\left(\\theta_{1}{\\left(t \\right)} \\right)}}{\\cos^{2}{\\left(\\theta_{1}{\\left(t \\right)} - \\theta_{2}{\\left(t \\right)} \\right)} - 2.0} - \\frac{\\sin{\\left(\\theta_{2}{\\left(t \\right)} \\right)} \\cos{\\left(\\theta_{1}{\\left(t \\right)} - \\theta_{2}{\\left(t \\right)} \\right)}}{\\cos^{2}{\\left(\\theta_{1}{\\left(t \\right)} - \\theta_{2}{\\left(t \\right)} \\right)} - 2.0}$"
      ],
      "text/plain": [
       "                                                 2                            \n",
       "                                      ⎛d        ⎞                       ⎛d    \n",
       "sin(θ₁(t) - θ₂(t))⋅cos(θ₁(t) - θ₂(t))⋅⎜──(θ₁(t))⎟    sin(θ₁(t) - θ₂(t))⋅⎜──(θ₂\n",
       "                                      ⎝dt       ⎠                       ⎝dt   \n",
       "────────────────────────────────────────────────── + ─────────────────────────\n",
       "               2                                           2                  \n",
       "            cos (θ₁(t) - θ₂(t)) - 2.0                   cos (θ₁(t) - θ₂(t)) - \n",
       "\n",
       "     2                                                            \n",
       "    ⎞                                                             \n",
       "(t))⎟                                                             \n",
       "    ⎠            sin(θ₁(t))          sin(θ₂(t))⋅cos(θ₁(t) - θ₂(t))\n",
       "────── + ───────────────────────── - ─────────────────────────────\n",
       "            2                             2                       \n",
       "2.0      cos (θ₁(t) - θ₂(t)) - 2.0     cos (θ₁(t) - θ₂(t)) - 2.0  "
      ]
     },
     "execution_count": 40,
     "metadata": {},
     "output_type": "execute_result"
    }
   ],
   "source": [
    "# --> Equation du mouvement pour le premier pendule.\n",
    "rhs[ddθ1]"
   ]
  },
  {
   "cell_type": "code",
   "execution_count": 41,
   "id": "893c854e-00bb-4468-90a6-53fd8a3b6333",
   "metadata": {},
   "outputs": [
    {
     "data": {
      "image/png": "[encoded data removed]",
      "text/latex": [
       "$\\displaystyle - \\frac{\\sin{\\left(\\theta_{1}{\\left(t \\right)} - \\theta_{2}{\\left(t \\right)} \\right)} \\cos{\\left(\\theta_{1}{\\left(t \\right)} - \\theta_{2}{\\left(t \\right)} \\right)} \\left(\\frac{d}{d t} \\theta_{2}{\\left(t \\right)}\\right)^{2}}{\\cos^{2}{\\left(\\theta_{1}{\\left(t \\right)} - \\theta_{2}{\\left(t \\right)} \\right)} - 2.0} - \\frac{2.0 \\sin{\\left(\\theta_{1}{\\left(t \\right)} - \\theta_{2}{\\left(t \\right)} \\right)} \\left(\\frac{d}{d t} \\theta_{1}{\\left(t \\right)}\\right)^{2}}{\\cos^{2}{\\left(\\theta_{1}{\\left(t \\right)} - \\theta_{2}{\\left(t \\right)} \\right)} - 2.0} - \\frac{\\sin{\\left(\\theta_{1}{\\left(t \\right)} \\right)} \\cos{\\left(\\theta_{1}{\\left(t \\right)} - \\theta_{2}{\\left(t \\right)} \\right)}}{\\cos^{2}{\\left(\\theta_{1}{\\left(t \\right)} - \\theta_{2}{\\left(t \\right)} \\right)} - 2.0} + \\frac{2.0 \\sin{\\left(\\theta_{2}{\\left(t \\right)} \\right)}}{\\cos^{2}{\\left(\\theta_{1}{\\left(t \\right)} - \\theta_{2}{\\left(t \\right)} \\right)} - 2.0}$"
      ],
      "text/plain": [
       "                                                   2                          \n",
       "                                        ⎛d        ⎞                           \n",
       "  sin(θ₁(t) - θ₂(t))⋅cos(θ₁(t) - θ₂(t))⋅⎜──(θ₂(t))⎟    2.0⋅sin(θ₁(t) - θ₂(t))⋅\n",
       "                                        ⎝dt       ⎠                           \n",
       "- ────────────────────────────────────────────────── - ───────────────────────\n",
       "                 2                                             2              \n",
       "              cos (θ₁(t) - θ₂(t)) - 2.0                     cos (θ₁(t) - θ₂(t)\n",
       "\n",
       "           2                                                            \n",
       "⎛d        ⎞                                                             \n",
       "⎜──(θ₁(t))⎟                                                             \n",
       "⎝dt       ⎠    sin(θ₁(t))⋅cos(θ₁(t) - θ₂(t))         2.0⋅sin(θ₂(t))     \n",
       "──────────── - ───────────────────────────── + ─────────────────────────\n",
       "                    2                             2                     \n",
       ") - 2.0          cos (θ₁(t) - θ₂(t)) - 2.0     cos (θ₁(t) - θ₂(t)) - 2.0"
      ]
     },
     "execution_count": 41,
     "metadata": {},
     "output_type": "execute_result"
    }
   ],
   "source": [
    "# --> Equation du mouvement pour le second pendule.\n",
    "rhs[ddθ2]"
   ]
  },
  {
   "cell_type": "code",
   "execution_count": 42,
   "id": "646be521-7e43-4391-aed5-0808b8214fd1",
   "metadata": {},
   "outputs": [],
   "source": [
    "# --> Transformation de ces deux expressions en fonction python.\n",
    "acceleration_1 = sp.lambdify((θ1, θ2, dθ1, dθ2), rhs[ddθ1])\n",
    "acceleration_2 = sp.lambdify((θ1, θ2, dθ1, dθ2), rhs[ddθ2])"
   ]
  },
  {
   "cell_type": "code",
   "execution_count": null,
   "id": "26e67620-f4bd-4088-b7bd-e7c82291dd65",
   "metadata": {},
   "outputs": [],
   "source": []
  },
  {
   "cell_type": "code",
   "execution_count": null,
   "id": "1690db3e-e43d-4c13-83d5-b66d1649f445",
   "metadata": {},
   "outputs": [],
   "source": []
  },
  {
   "cell_type": "code",
   "execution_count": 43,
   "id": "c6ffb27a-896a-4b3e-9f46-445c4cc4fdb7",
   "metadata": {},
   "outputs": [],
   "source": [
    "def double_pendulum(t, u):\n",
    "    # --> Unpack variables.\n",
    "    θ1, dθ1, θ2, dθ2 = u\n",
    "    \n",
    "    # --> Equation of motion.\n",
    "    ddθ1 = acceleration_1(θ1, θ2, dθ1, dθ2)\n",
    "    ddθ2 = acceleration_2(θ1, θ2, dθ1, dθ2)\n",
    "    \n",
    "    return dθ1, ddθ1, dθ2, ddθ2"
   ]
  },
  {
   "cell_type": "code",
   "execution_count": 44,
   "id": "7892f043-1257-42c1-8b97-19f71e485a11",
   "metadata": {},
   "outputs": [],
   "source": [
    "def simulation(t, u0):\n",
    "    \n",
    "    # --> Fenêtre d'intégration temporelle.\n",
    "    tspan = (t.min(), t.max())\n",
    "    \n",
    "    # --> Résolution numérique des équations.\n",
    "    output = solve_ivp(\n",
    "        double_pendulum,\n",
    "        tspan,\n",
    "        u0,\n",
    "        t_eval=t,\n",
    "        method=\"DOP853\",\n",
    "        atol=1e-12,\n",
    "        rtol=1e-12\n",
    "    )\n",
    "    \n",
    "    return output[\"y\"]"
   ]
  },
  {
   "cell_type": "code",
   "execution_count": 45,
   "id": "aa324346-b6f7-4f59-9518-cb8e6b24c445",
   "metadata": {},
   "outputs": [],
   "source": [
    "# --> Echelle du temps sur laquelle on va intégrer numériquement les équations.\n",
    "time = np.linspace(0, 100, 1024)\n",
    "\n",
    "# --> Condition initiale pour la simulation.\n",
    "u0 = [\n",
    "    75*np.pi/100, # Position angulaire initiale du pendule.\n",
    "    0.0,           # Vitesse angulaire initiale du pendule.\n",
    "    0.0, # Position angulaire initiale du pendule.\n",
    "    0.0           # Vitesse angulaire initiale du pendule.\n",
    "]\n",
    "\n",
    "θ1, dθ1, θ2, dθ2 = simulation(time, u0)"
   ]
  },
  {
   "cell_type": "code",
   "execution_count": 46,
   "id": "dd0216f4-d29c-477b-8271-2737441674bb",
   "metadata": {},
   "outputs": [
    {
     "data": {
      "text/plain": [
       "Text(0, 0.5, 'Position angulaire')"
      ]
     },
     "execution_count": 46,
     "metadata": {},
     "output_type": "execute_result"
    },
    {
     "data": {
      "image/png": "[encoded data removed]",
      "text/plain": [
       "<Figure size 576x144 with 1 Axes>"
      ]
     },
     "metadata": {
      "needs_background": "light"
     },
     "output_type": "display_data"
    }
   ],
   "source": [
    "fig = plt.figure(figsize=(8, 2))\n",
    "\n",
    "plt.plot(time, wrap_phase(θ1), label=\"Pendule 1\")\n",
    "plt.plot(time, wrap_phase(θ2), label=\"Pendule 2\")\n",
    "\n",
    "plt.xlim(time.min(), time.max())\n",
    "plt.ylim(-1.1*np.pi, 1.1*np.pi)\n",
    "\n",
    "plt.legend(loc=1)\n",
    "\n",
    "plt.xlabel(\"Temps\")\n",
    "plt.ylabel(\"Position angulaire\")"
   ]
  },
  {
   "cell_type": "code",
   "execution_count": 47,
   "id": "654ec262-e0cb-43de-a536-b23ea332344b",
   "metadata": {},
   "outputs": [],
   "source": [
    "def coordonees_cartesiennes(θ1, θ2):\n",
    "    # --> Coordonnées dans le plan (x, y) du premier pendule.\n",
    "    x1, y1 = np.sin(θ1), -np.cos(θ1)\n",
    "    \n",
    "    # --> Coordonnées dans le plan (x, y) du deuxième pendule.\n",
    "    x2, y2 = x1 + np.sin(θ2), y1 - np.cos(θ2)\n",
    "    return x1, y1, x2, y2"
   ]
  },
  {
   "cell_type": "code",
   "execution_count": 48,
   "id": "34363481-9fa6-4c87-b8bb-cc260adc1ba2",
   "metadata": {},
   "outputs": [],
   "source": [
    "# --> Passage des coordonnées polaires aux coordonnées cartésiennes.\n",
    "x1, y1, x2, y2 = coordonees_cartesiennes(θ1, θ2)"
   ]
  },
  {
   "cell_type": "code",
   "execution_count": 49,
   "id": "60e88e9e-482a-4f3c-9958-034aa227d58c",
   "metadata": {},
   "outputs": [
    {
     "data": {
      "image/png": "[encoded data removed]",
      "text/latex": [
       "$\\displaystyle \\left( -2.1, \\  2.1\\right)$"
      ],
      "text/plain": [
       "(-2.1, 2.1)"
      ]
     },
     "execution_count": 49,
     "metadata": {},
     "output_type": "execute_result"
    },
    {
     "data": {
      "image/png": "[encoded data removed]",
      "text/plain": [
       "<Figure size 360x360 with 1 Axes>"
      ]
     },
     "metadata": {
      "needs_background": "light"
     },
     "output_type": "display_data"
    }
   ],
   "source": [
    "fig = plt.figure(figsize=(5, 5))\n",
    "\n",
    "plt.plot(x2, y2)\n",
    "\n",
    "plt.axis(\"equal\")\n",
    "plt.xlim(-2.1, 2.1)\n",
    "plt.ylim(-2.1, 2.1)"
   ]
  },
  {
   "cell_type": "code",
   "execution_count": null,
   "id": "a2410c76-7d89-452d-b451-9ad02db0576f",
   "metadata": {},
   "outputs": [],
   "source": []
  },
  {
   "cell_type": "code",
   "execution_count": null,
   "id": "36497e35-67a4-482a-858b-ab7f6801e527",
   "metadata": {},
   "outputs": [],
   "source": []
  }
 ],
 "metadata": {
  "kernelspec": {
   "display_name": "Python 3 (ipykernel)",
   "language": "python",
   "name": "python3"
  },
  "language_info": {
   "codemirror_mode": {
    "name": "ipython",
    "version": 3
   },
   "file_extension": ".py",
   "mimetype": "text/x-python",
   "name": "python",
   "nbconvert_exporter": "python",
   "pygments_lexer": "ipython3",
   "version": "3.8.12"
  }
 },
 "nbformat": 4,
 "nbformat_minor": 5
}
