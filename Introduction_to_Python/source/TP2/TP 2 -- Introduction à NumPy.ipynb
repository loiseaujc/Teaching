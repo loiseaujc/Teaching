{
 "cells": [
  {
   "cell_type": "code",
   "execution_count": null,
   "id": "12a5564c",
   "metadata": {},
   "outputs": [],
   "source": []
  },
  {
   "cell_type": "markdown",
   "id": "c5dd41e9",
   "metadata": {},
   "source": [
    "###### TP n°2 : Introduction à NumPy\n",
    "\n",
    "---\n",
    "\n",
    "<img src=\"https://upload.wikimedia.org/wikipedia/commons/thumb/f/f8/Python_logo_and_wordmark.svg/1200px-Python_logo_and_wordmark.svg.png\" width=\"256px\" align=\"left\"/>\n",
    "\n",
    "La séance de TP précédente avait pour objectif de vous familiariser avec la syntaxe élémentaire en Python.\n",
    "Bien que de base Python possède certaines capacités pour le calcul scientifique, ces dernières sont fortement limitées.\n",
    "Il y a principalement deux raisons à cela :\n",
    "- Dans sa version de base, Python ne possède aucune des fonctions nécessaires pour gérer le calcul matriciel, l'un des éléments les plus important pour le calcul scientifique.\n",
    "- Même si il est possible d'écrire nous-même des fonctions Python pour effectuer ces calculs (cf. les exercices à la fin du dernier TP) notamment via l'utilisation de listes de listes, de telles fonctions sont incroyablement lentes en terme de vitesse d'exécution, une limitation majeure pour le calcul hautes performances.\n",
    "\n",
    "Ces limitations ont conduit la communauté à développer des librairies (ou packages) additionnelles pour pouvoir effectuer ce type de calculs.\n",
    "Plusieurs de ces packages existent, tels que [**NumPy**](https://numpy.org/) ou [**SciPy**](https://scipy.org/).\n",
    "Dans la suite de ce TP et du cours, nous nous concentrerons sur l'usage de **NumPy**.\n",
    "\n",
    "---\n",
    "\n",
    "<img src=\"https://upload.wikimedia.org/wikipedia/commons/thumb/3/31/NumPy_logo_2020.svg/1280px-NumPy_logo_2020.svg.png\" width=\"256px\" align=\"left\"/>\n",
    "\n",
    "**NumPy** est une bibliothèque Python destinée à manipuler des matrices ou des tableaux multidimensionnels (appelés *array*).\n",
    "Elle fournit également une ensemble de fonctions mathématiques opérant sur ces tableaux.\n",
    "Bien qu'il s'agisse d'une bibliothèque Python, la plupart de ses fonctions sont écrites dans un langage de plus bas niveau tel que [Fortran](https://fr.m.wikipedia.org/wiki/Fortran) ou [C](https://fr.m.wikipedia.org/wiki/C_(langage)).\n",
    "L'utilisation de tels langages pour la partie calculatoire permet de garantir d'excellentes performances tandis que l'interface Python simplifie fortement l'utilisation de ces fonctions.\n",
    "\n",
    "Depuis la première version mise en accès libre en 1995, NumPy est devenu l'un des packages absolument incontournables pour le calcul scientifique en Python.\n",
    "NumPy forme aujourd'hui la brique de base pour de très nombreux packages tels que\n",
    "- [**SciPy**](https://scipy.org/) : bibliothèque pour le calcul scientifique plus avancé que NumPy.\n",
    "- [**scikit-learn**](https://scikit-learn.org/) : bibliothèque de référence pour l'apprentissage machine et l'apprentissage statistique (Machine Learning et Statistical Learning).\n",
    "- [**pandas**](https://pandas.pydata.org/) : bibliothèque très utilisée pour l'analyse et la manipulation de données.\n",
    "\n",
    "Une fois couplé à ces différents packages, NumPy confère à Python de réelles capacités pour le calcul scientifique et le calcul hautes performances.\n",
    "Pour des raisons évidentes de temps et de pédagogie, nous ne pourrons pas explorer toutes les possibilités offertes par NumPy.\n",
    "L'objectif de ce TP est donc de vous familiariser uniquement avec la syntaxe de base de NumPy, notamment en ce qui concerne l'algèbre linéaire numérique.\n",
    "Si jamais vous maîtriser déjà la programmation en MATLAB ou Octave, la page [NumPy for MATLAB users](https://numpy.org/doc/stable/user/numpy-for-matlab-users.html) pourra vous être d'une grande aide pour prendre en main NumPy plus rapidement.\n",
    "\n",
    "Afin d'avoir accès à tout l'arsenal offert par NumPy, il est nécessaire de l'**importer** pour que Python puisse savoir comment accéder à ces fonctions.\n",
    "Cela se fait par la ligne suivante que l'on mettra en général au tout début d'un script ou d'un notebook."
   ]
  },
  {
   "cell_type": "code",
   "execution_count": 1,
   "id": "6157b932",
   "metadata": {},
   "outputs": [],
   "source": [
    "# --> Importation de NumPy dans l'espace mémoire de Python.\n",
    "import numpy as np"
   ]
  },
  {
   "cell_type": "markdown",
   "id": "bbe43e06",
   "metadata": {},
   "source": [
    "Le fait d'importer NumPy en tant que `np` est une convention utilisée par quasiment toute la communauté.\n",
    "NumPy offrant des fonctions telles que `max` ou `min`, cela permettra de les différencier d'autres fonctions ayant le même nom déjà disponibles dans Python ou dans d'autres packages que l'on utiliserait.\n",
    "Ainsi, utiliser les fonctions `max` et `min` de NumPy se fera grâce aux commandes `np.max` et `np.min`.\n",
    "\n",
    "Puisqu'un programme a souvent vocation à être partagé (avec vos collègues, vos clients, vos enseignants, etc), il peut être utile de savoir exactement quelle version de NumPy est utilisée.\n",
    "La cellule ci-dessous vous montre comment récupérer le numéro de version."
   ]
  },
  {
   "cell_type": "code",
   "execution_count": 2,
   "id": "5468ba51",
   "metadata": {},
   "outputs": [
    {
     "data": {
      "text/plain": [
       "'1.20.3'"
      ]
     },
     "execution_count": 2,
     "metadata": {},
     "output_type": "execute_result"
    }
   ],
   "source": [
    "np.__version__"
   ]
  },
  {
   "cell_type": "markdown",
   "id": "86f9962a",
   "metadata": {},
   "source": [
    "Chaque nouvelle version vient avec sa dose de changements et de nouvelles fonctionalités.\n",
    "Savoir exactement avec quelle version votre programme a été développé permet de s'assurer que, lorsqu'il est utilisé sur un autre ordinateur, la même version soit utilisée.\n",
    "Garantir cela permet de s'assurer dans une certaine mesure que les résultats obtenus sont reproductibles et de donner confiance en votre travail.\n",
    "\n",
    "NumPy se base par ailleurs sur deux bibliothèques Fortran/C, [BLAS](https://fr.wikipedia.org/wiki/Basic_Linear_Algebra_Subprograms) et [LAPACK](https://fr.wikipedia.org/wiki/LAPACK).\n",
    "Tout comme NumPy, il existe plusieurs versions de ces deux librairies et il peut être utile de savoir quelles versions sont utilisées par votre installation.\n",
    "Ces informations peuvent être obtenues à l'aide de la commande `np.show_config()` comme illustré ci-dessous."
   ]
  },
  {
   "cell_type": "code",
   "execution_count": 3,
   "id": "9ef0a119",
   "metadata": {},
   "outputs": [
    {
     "name": "stdout",
     "output_type": "stream",
     "text": [
      "blas_mkl_info:\n",
      "    libraries = ['mkl_rt', 'pthread']\n",
      "    library_dirs = ['/home/loiseau/anaconda3/lib']\n",
      "    define_macros = [('SCIPY_MKL_H', None), ('HAVE_CBLAS', None)]\n",
      "    include_dirs = ['/home/loiseau/anaconda3/include']\n",
      "blas_opt_info:\n",
      "    libraries = ['mkl_rt', 'pthread']\n",
      "    library_dirs = ['/home/loiseau/anaconda3/lib']\n",
      "    define_macros = [('SCIPY_MKL_H', None), ('HAVE_CBLAS', None)]\n",
      "    include_dirs = ['/home/loiseau/anaconda3/include']\n",
      "lapack_mkl_info:\n",
      "    libraries = ['mkl_rt', 'pthread']\n",
      "    library_dirs = ['/home/loiseau/anaconda3/lib']\n",
      "    define_macros = [('SCIPY_MKL_H', None), ('HAVE_CBLAS', None)]\n",
      "    include_dirs = ['/home/loiseau/anaconda3/include']\n",
      "lapack_opt_info:\n",
      "    libraries = ['mkl_rt', 'pthread']\n",
      "    library_dirs = ['/home/loiseau/anaconda3/lib']\n",
      "    define_macros = [('SCIPY_MKL_H', None), ('HAVE_CBLAS', None)]\n",
      "    include_dirs = ['/home/loiseau/anaconda3/include']\n"
     ]
    }
   ],
   "source": [
    "np.show_config()"
   ]
  },
  {
   "cell_type": "markdown",
   "id": "703c8d82",
   "metadata": {},
   "source": [
    "La commande `np.show_config()` montre quelles versions de BLAS et LAPACK sont installées (CBLAS et MKL dans mon cas) ainsi que le chemin d'accès vers les sources de ces librairies.\n",
    "Dans la plupart des cas, connaître ces informations n'est pas absolument nécessaire.\n",
    "Cela peut s'avérer néanmoins utile encore une fois pour des raisons de reproducibilité de vos résultats à travers différentes machines et si des problèmes de performances sont observés (dans quel cas on installera une autre version de BLAS ou LAPACK).\n",
    "\n",
    "---\n",
    "---\n",
    "\n",
    "## Python vs NumPy\n",
    "\n",
    "Avant de rentrer dans le vif du sujet, illustrons les différences de performances entre du Python pur et le même calcul fait à l'aide de NumPy.\n",
    "Pour cela, considérons le produit matrice-vecteur déjà étudié au TP précédent et pendant le cours.\n",
    "Pour une matrice $\\mathbf{A} \\in \\mathbb{R}^{m \\times n}$ et un vecteur $\\mathbf{x} \\in \\mathbf{R}^n$, on cherche donc à calculer le vecteur $\\mathbf{y} \\in \\mathbb{R}^m$ tel que\n",
    "\n",
    "$$\n",
    "\\mathbf{y} = \\mathbf{Ax}.\n",
    "$$\n",
    "\n",
    "La cellule ci-dessous présente une telle implémentation en pure Python.\n",
    "Elle peut être plus difficile à lire que la version naïve que vous avez probablement codé lors du dernier TP.\n",
    "L'utilisation de la compréhension de liste permet notamment d'avoir quasiment les meilleurs performances possibles en Python pur."
   ]
  },
  {
   "cell_type": "code",
   "execution_count": 4,
   "id": "a49f5f23",
   "metadata": {},
   "outputs": [],
   "source": [
    "def python_matvec(A, x):\n",
    "    # --> Taille de la matrice.\n",
    "    m, n = len(A), len(A[0])\n",
    "    \n",
    "    # --> Produit matrice-vecteur.\n",
    "    y = [sum(A[i][j] * x[j] for j in range(n)) for i in range(m)]\n",
    "    return y"
   ]
  },
  {
   "cell_type": "markdown",
   "id": "32fae537",
   "metadata": {},
   "source": [
    "Evaluons maintenant les performances de cette fonction pour une matrice $\\mathbf{A}$ de taille 1000 $\\times$ 1000, une matrice relativement petite en terme de calcul scientifique."
   ]
  },
  {
   "cell_type": "code",
   "execution_count": 5,
   "id": "ab9a2541",
   "metadata": {},
   "outputs": [],
   "source": [
    "# --> Crée une matrice de taille 1000 x 1000 et un vecteur de taille 1000 x 1.\n",
    "#     On utilise des fonctions NumPy dont on discutera plus tard pour se simplifier la vie.\n",
    "A, x = np.random.randn(1000, 1000).tolist(), np.random.randn(1000).tolist()"
   ]
  },
  {
   "cell_type": "code",
   "execution_count": 6,
   "id": "60295e42",
   "metadata": {},
   "outputs": [
    {
     "name": "stdout",
     "output_type": "stream",
     "text": [
      "129 ms ± 11.3 ms per loop (mean ± std. dev. of 7 runs, 10 loops each)\n"
     ]
    }
   ],
   "source": [
    "%%timeit\n",
    "python_matvec(A, x)"
   ]
  },
  {
   "cell_type": "markdown",
   "id": "8a77484c",
   "metadata": {},
   "source": [
    "Sur mon ordinateur personnel, cette fonction met environ 100ms pour effectuer ce calcul.\n",
    "Voyons maintenant comment faire en NumPy."
   ]
  },
  {
   "cell_type": "code",
   "execution_count": 7,
   "id": "02f54a31",
   "metadata": {},
   "outputs": [
    {
     "name": "stdout",
     "output_type": "stream",
     "text": [
      "<class 'numpy.ndarray'>\n"
     ]
    }
   ],
   "source": [
    "A, x = np.random.randn(1000, 1000), np.random.randn(1000)\n",
    "print(type(A))"
   ]
  },
  {
   "cell_type": "code",
   "execution_count": 8,
   "id": "d1458245",
   "metadata": {},
   "outputs": [
    {
     "name": "stdout",
     "output_type": "stream",
     "text": [
      "627 µs ± 93.6 µs per loop (mean ± std. dev. of 7 runs, 1000 loops each)\n"
     ]
    }
   ],
   "source": [
    "%%timeit\n",
    "A @ x  # Calcul matrice-vecteur / matrice-matrice en NumPy."
   ]
  },
  {
   "cell_type": "markdown",
   "id": "b2202369",
   "metadata": {},
   "source": [
    "En utilisant la structure de données `np.array` de NumPy, ce même calcul nécessite environ 500µs sur mon ordinateur portable, presque 200 000 plus rapide que notre implémentation en Python pur.\n",
    "Cet écart de performances sera d'autant plus important que l'on considère des matrices de grandes tailles!\n",
    "La syntaxe est par ailleurs beaucoup plus simple, même si l'utilisation de `@` pour effectuer ce produit matrice-vecteur peut paraître contre-intuitif initialement.\n",
    "\n",
    "On peut faire le même test en remplaçant cette fois-ci le produit matrice-vecteur par un produit matrice-matrice.\n",
    "La fonction ci-dessous implémente cela en utilisant tous les trucs et astuces disponibles en Python pur.\n",
    "Ne vous inquiétez donc pas si vous n'arrivez pas à la comprendre, nous n'utiliserons jamais ce genre d'implémentation."
   ]
  },
  {
   "cell_type": "code",
   "execution_count": 9,
   "id": "225461dc",
   "metadata": {},
   "outputs": [],
   "source": [
    "def python_matmat(A, B):\n",
    "    C = [[sum(x * y for x, y in zip(m1_r, m2_c)) for m2_c in zip(*B)] for m1_r in A]\n",
    "    return C"
   ]
  },
  {
   "cell_type": "code",
   "execution_count": 10,
   "id": "55e1eab8",
   "metadata": {},
   "outputs": [],
   "source": [
    "# --> Crée deux matrice de taille 200 x 200.\n",
    "A, B = np.random.randn(200, 200).tolist(), np.random.randn(200, 200).tolist()"
   ]
  },
  {
   "cell_type": "code",
   "execution_count": 11,
   "id": "548b7c4f",
   "metadata": {},
   "outputs": [
    {
     "name": "stdout",
     "output_type": "stream",
     "text": [
      "699 ms ± 169 ms per loop (mean ± std. dev. of 7 runs, 1 loop each)\n"
     ]
    }
   ],
   "source": [
    "%%timeit\n",
    "python_matmat(A, B)"
   ]
  },
  {
   "cell_type": "markdown",
   "id": "fbb79cdb",
   "metadata": {},
   "source": [
    "En NumPy, le produit matrice-matrice s'effectue de la même façon que le produit matrice-vecteur."
   ]
  },
  {
   "cell_type": "code",
   "execution_count": 12,
   "id": "9a556500",
   "metadata": {},
   "outputs": [],
   "source": [
    "# --> Crée deux matrice de taille 200 x 200.\n",
    "A, B = np.random.randn(200, 200), np.random.randn(200, 200)"
   ]
  },
  {
   "cell_type": "code",
   "execution_count": 13,
   "id": "ce2a44f9",
   "metadata": {},
   "outputs": [
    {
     "name": "stdout",
     "output_type": "stream",
     "text": [
      "270 µs ± 121 µs per loop (mean ± std. dev. of 7 runs, 1000 loops each)\n"
     ]
    }
   ],
   "source": [
    "%%timeit\n",
    "A @ B"
   ]
  },
  {
   "cell_type": "markdown",
   "id": "ea3165c2",
   "metadata": {},
   "source": [
    "Pour le produit de deux matrices de taille 200 $\\times$ 200, l'implémentation NumPy est presque 2 millions de fois plus rapide que celle en Python pur.\n",
    "Notez que nous nous sommes limités à des matrices de taille 200 $\\times$ 200 et non 1000 $\\times$ 1000 comme précédemment, ce calcul nécessitant plusieurs minutes en pur Python (contre quelques millisecondes à l'aide de NumPy).\n",
    "\n",
    "Bien qu'extrêmement simplistes, ces deux exemples devraient suffire à vous convaincre de l'intérêt d'utiliser les possibilités offertes par NumPy pour le calcul scientifique en lieu et place d'implémentations faites en pur Python.\n",
    "Ceci n'est qu'un tout petit aperçu des possibilités offertes par NumPy.\n",
    "Vous trouverez ci-après deux exemples d'applications plus réalistes.\n",
    "(**[Cliquez ici](#numpy_for_dummies) si vous souhaitez passer directement aux exercices.**)\n",
    "\n",
    "\n",
    "---\n",
    "---\n",
    "\n",
    "## Exemples d'applications scientifiques à l'aide de NumPy\n",
    "\n",
    "Vous trouverez ci-dessous deux exemples d'applications scientifiques reposant sur NumPy.\n",
    "Ces exemples utilisent d'autres packages en plus de NumPy et les codes peuvent vous paraître à première vue incroyablement compliqués, notamment car ils reposent sur des mathématiques que vous n'avez sans doute encore jamais vues et que toutes les astuces possibles sont utilisées pour obtenir les meilleures performances possibles.\n",
    "L'objectif n'est néanmoins pas que vous compreniez dans les détails ces codes mais de vous illustrer ce qu'il est possible de faire lorsque l'on maîtrise NumPy.\n",
    "\n",
    "Ces deux exemples couvrent des domaines d'applications aussi variés que la mécanique des milieux continus (Ex. n°1 : modes propres d'oscillations d'une membrane 2D) ou le traitement de l'image (Ex n°2 : Content-aware image resizing) \n",
    "Pour chacun d'eux, une rapide explication du problème vous ait donnée suivie du code Python associé.\n",
    "Pour les plus curieux d'entre vous, des liens vers des ressources en ligne sont donnés à chaque fois.\n",
    "\n",
    "---\n",
    "\n",
    "### Exemple n°1 : Calcul des modes propres d'oscillation d'une membrane carrée\n",
    "\n",
    "La dynamique des oscillations dans une membrane bidimensionelle est décrite par l'équation d'onde suivante\n",
    "\n",
    "$$\n",
    "\\dfrac{\\partial^2 u}{\\partial t^2} = \\dfrac{\\partial^2 u}{\\partial x^2} + \\dfrac{\\partial^2 u}{\\partial y^2}\n",
    "$$\n",
    "\n",
    "à laquelle on adjoint des conditions aux bords de la membrane (ici une membrane fixée à un support interdisant tout déplacement de ses extrémités).\n",
    "La fonction $u(x, y, t)$ représente l'élévation de la membrane par rapport à son état d'équilibre.\n",
    "Il est fort probable que vous ayez déjà rencontré la version 1D de ce problème au lycée lorsque vous avez travaillé sur le problème de la corde vibrante.\n",
    "\n",
    "Dans ces problèmes de mécanique vibratoire, les modes propres sont parmis les choses les plus essentielles à calculer afin de caractériser au mieux la structure, et notamment les résonnances possibles.\n",
    "En posant que les vibrations de la membrane sont de la forme\n",
    "\n",
    "$$\n",
    "u(x, y, t) = \\hat{u}(x, y) \\exp(-i\\omega t)\n",
    "$$\n",
    "\n",
    "avec $\\hat{u}(x, y) \\in \\mathbb{C}$ un mode propre est $\\omega$ la fréquence d'oscillation associée, les modes propres correspondent aux fonctions propres solution du problème suivant\n",
    "\n",
    "$$\n",
    "\\omega^2 \\hat{u} = \\dfrac{\\partial^2 \\hat{u}}{\\partial x^2} + \\dfrac{\\partial^2 \\hat{u}}{\\partial y^2}.\n",
    "$$\n",
    "\n",
    "Bien que ces modes propres puissent être calculés analytiquement dans le cas d'une membrane carrée, nous illustrons comment faire ci-dessous à l'aide de Python.\n",
    "Pour cela, nous utiliserons en lieu et place de NumPy le package SciPy, une version améliorée en quelque sorte.\n",
    "\n",
    "En premier lieu, il est nécessaire d'approximer l'opérateur Laplacien (l'opérateur des dérivées secondes).\n",
    "Pour cela nous utiliserons la [méthode des différences finies](https://fr.wikipedia.org/wiki/M%C3%A9thode_des_diff%C3%A9rences_finies).\n",
    "La membrane que l'on considère ci-après est un carré de côté $L = 1$ que l'on discrétisera à l'aide de 128 points dans chaque direction.\n",
    "Une fois discrétisé, l'opérateur Laplacien est alors approximé à l'aide d'une matrice $\\mathbf{L}$ de taille 16 384 $\\times$ 16 384."
   ]
  },
  {
   "cell_type": "code",
   "execution_count": 14,
   "id": "cd721ea3",
   "metadata": {},
   "outputs": [],
   "source": [
    "from scipy.sparse import diags, kron, eye\n",
    "from scipy.sparse.linalg import eigs\n",
    "\n",
    "def laplacian_1d(L=1, nx=128):\n",
    "    \n",
    "    # --> Grid spacing.\n",
    "    Δx = L/nx\n",
    "    \n",
    "    # --> 1D Laplace operator.\n",
    "    diagonals = [np.ones(nx-1), -2*np.ones(nx), np.ones(nx-1)]\n",
    "    L = diags(diagonals, [-1, 0, 1]) / Δx**2\n",
    "    \n",
    "    return L\n",
    "\n",
    "def laplacian_2d(Lx=1, Ly=1, nx=128, ny=128):\n",
    "    # --> Construct 1D Laplacians.\n",
    "    Lx = laplacian_1d(Lx, nx)\n",
    "    Ly = laplacian_1d(Ly, ny)\n",
    "    \n",
    "    Ix, Iy = eye(nx), eye(ny)\n",
    "    \n",
    "    # --> Construct 2D Laplacian.\n",
    "    L = kron(Lx, Iy) + kron(Ix, Ly)\n",
    "    \n",
    "    return L\n",
    "\n",
    "# --> Construct the 2D Laplace operator with default parameters.\n",
    "L = laplacian_2d()"
   ]
  },
  {
   "cell_type": "markdown",
   "id": "14c1cb4a",
   "metadata": {},
   "source": [
    "Le problème que l'on cherche alors à résoudre numériquement est le problème aux valeurs propres suivant\n",
    "\n",
    "$$\n",
    "\\omega^2 \\mathbf{u} = \\mathbf{Lu}.\n",
    "$$\n",
    "\n",
    "La matrice $\\mathbf{L}$ étant de très grande taille, il n'est pas possible de calculer toutes ses valeurs propres et ses vecteurs propres sont un PC tels que ceux auxquels vous avez accès.\n",
    "Nous utiliserons alors un algorithme dit *itératif* qui permet de ne calculer que les modes propres qui nous intéresse.\n",
    "Cela se fait grâce à la fonction `eigs` du module `scipy.sparse.linalg` comme illustré ci-dessous."
   ]
  },
  {
   "cell_type": "code",
   "execution_count": 15,
   "id": "5952aca9",
   "metadata": {},
   "outputs": [
    {
     "name": "stdout",
     "output_type": "stream",
     "text": [
      "CPU times: user 2 µs, sys: 0 ns, total: 2 µs\n",
      "Wall time: 4.29 µs\n"
     ]
    }
   ],
   "source": [
    "%time\n",
    "# --> Compute the leading eigenvalues and eigenvectors.\n",
    "Λ, vecs = eigs(L, k=16, which=\"LR\", tol=1e-12)\n",
    "idx = np.argsort(-Λ.real)\n",
    "Λ, vecs = Λ[idx], vecs[:, idx]"
   ]
  },
  {
   "cell_type": "markdown",
   "id": "89ce821f",
   "metadata": {},
   "source": [
    "Malgré la taille du problème, ce calcul ne prend pas plus de quelques millisecondes sur mon ordinateur personnel.\n",
    "La cellule ci-dessous permet de tracer de façon interactive les différents modes propres calculés."
   ]
  },
  {
   "cell_type": "code",
   "execution_count": 16,
   "id": "509200a5",
   "metadata": {},
   "outputs": [
    {
     "data": {
      "application/vnd.jupyter.widget-view+json": {
       "model_id": "11f9951d453d40d080b18fd3fc295e7c",
       "version_major": 2,
       "version_minor": 0
      },
      "text/plain": [
       "interactive(children=(IntSlider(value=1, description='idx', max=16, min=1), Output()), _dom_classes=('widget-i…"
      ]
     },
     "metadata": {},
     "output_type": "display_data"
    }
   ],
   "source": [
    "import matplotlib.pyplot as plt\n",
    "from mpl_toolkits.mplot3d import Axes3D\n",
    "from ipywidgets import interact, widgets\n",
    "\n",
    "def plot_eigenmode(vec):\n",
    "    \n",
    "    x = np.linspace(0, 1, 128+2)[1:-1]\n",
    "    \n",
    "    x, y = np.meshgrid(x, x)\n",
    "    vec = vec.reshape(128, 128)\n",
    "    \n",
    "    fig, ax = plt.subplots(\n",
    "        1, 1, \n",
    "        figsize=(6, 6),\n",
    "        subplot_kw={\"projection\":\"3d\"}\n",
    "    )\n",
    "    \n",
    "    ax.plot_surface(\n",
    "        x, y, vec.real, \n",
    "        cmap=plt.cm.viridis,\n",
    "        antialiased=False,\n",
    "    )\n",
    "    \n",
    "    ax.axis(\"off\")\n",
    "    \n",
    "    plt.show()\n",
    "    \n",
    "def show_eigenmode(idx=1):\n",
    "    plot_eigenmode(vecs[:, idx-1])\n",
    "interact(show_eigenmode, idx=(1, 16, 1));"
   ]
  },
  {
   "cell_type": "markdown",
   "id": "3badc3f4",
   "metadata": {},
   "source": [
    "Il est possible de sélectionner quel mode visualiser en jouant avec le curseur `idx`.\n",
    "Si tout se passe bien, vous ne devriez pas avoir de mal à interpréter ce que vous voyez.\n",
    "\n",
    "Bien que cela nécessite de plus amples connaissances en terme d'analyse et schéma numérique, sachez que la combinaison NumPy/SciPy permet d'étudier les vibrations de structures beaucoup plus complexes que cette simple membrane carrée.\n",
    "Il est également possible de résoudre d'autres types d'équations aux dérivées partielles telles que les équations de Navier-Stokes en mécanique des fluides ou bien celle de Schrödinger en mécanique quantique.\n",
    "Il est également possible à l'aide du module `scipy.integrate` de réaliser des simulations numériques de l'évolution de ces systèmes.\n",
    "Un rapide exemple vous a été présenté en cours.\n",
    "\n",
    "---\n",
    "\n",
    "### Exemple n°2 : Redimensionner une image à l'aide du seam carving\n",
    "\n",
    "Le second exemple est tiré du domaine de traitement de l'image.\n",
    "Il s'agit de ce que l'on appelle le **recadrage intelligent** (ou seam carving en anglais).\n",
    "Il s'agit d'un algorithme proposé en 2007 utilisé pour redimensionner de façon intelligente une image.\n",
    "Au lieu de procéder par une simple mise à l'échelle, l'algorithme de seam carving procède par la suppresion ou l'addition de chemins de pixels dits de moindre énergie.\n",
    "Pour plus de détails, le page [Wikipedia](https://fr.wikipedia.org/wiki/Seam_carving) est une bonne source.\n",
    "\n",
    "La cellule ci-dessous télécharge une image souvent utilisée pour illustrer cet algorithme."
   ]
  },
  {
   "cell_type": "code",
   "execution_count": 17,
   "id": "a39f3412",
   "metadata": {},
   "outputs": [
    {
     "data": {
      "image/png": "[encoded data removed]",
      "text/plain": [
       "<PIL.Image.Image image mode=L size=612x242 at 0x7FBB583F7CA0>"
      ]
     },
     "execution_count": 17,
     "metadata": {},
     "output_type": "execute_result"
    }
   ],
   "source": [
    "from PIL import Image as im\n",
    "import requests\n",
    "from io import BytesIO\n",
    "\n",
    "# --> Image à télécharger.\n",
    "#url = \"https://img.grouponcdn.com/pwa_test/3Yif7m7sUAsSAdrWACDnTfJFiJo2/3Y-669x446/v1/c870x524.jpg\"\n",
    "#url = \"https://upload.wikimedia.org/wikipedia/commons/8/8c/Broadway-tower-cotswolds.jpg\"\n",
    "url = \"https://media.istockphoto.com/photos/english-views-picture-id104261826?k=20&m=104261826&s=612x612&w=0&h=wck6DuoYTz_fhJ1ABNwCJKz6ogkR3cRJBNpEuae5cYk=\"\n",
    "\n",
    "# --> Téléchargement de l'image et la convertie en échelle de gris.\n",
    "data = requests.get(url)\n",
    "img = im.open(BytesIO(data.content)).convert(\"L\")\n",
    "\n",
    "# --> Petit utilitaire pour transformer un tableau NumPy en image.\n",
    "np2pil = lambda x : im.fromarray((1-x).astype(np.uint8) * 255)\n",
    "\n",
    "# --> Transforme l'image en un array numpy.\n",
    "img = np.array(img, dtype=np.int32)\n",
    "\n",
    "# --> Affiche l'image avec laquelle on travaillera.\n",
    "h, w = img.shape\n",
    "np2pil(img).resize((w, h))"
   ]
  },
  {
   "cell_type": "markdown",
   "id": "a977c9d4",
   "metadata": {},
   "source": [
    "Voyons maintenant à quoi ressemble l'image lorsque l'on essaye de la redimensionner dans la direction horizontale de façon relativement naïve."
   ]
  },
  {
   "cell_type": "code",
   "execution_count": 18,
   "id": "094b900e",
   "metadata": {},
   "outputs": [
    {
     "data": {
      "application/vnd.jupyter.widget-view+json": {
       "model_id": "cf667833a5c341dcabd54ceecb900867",
       "version_major": 2,
       "version_minor": 0
      },
      "text/plain": [
       "interactive(children=(FloatSlider(value=1.0, description='scale', max=1.0, min=0.5, step=0.05), Output()), _do…"
      ]
     },
     "metadata": {},
     "output_type": "display_data"
    }
   ],
   "source": [
    "def naive_resize(scale=1):\n",
    "    h, w = img.shape\n",
    "    return np2pil(img).resize((int(w*scale), h))\n",
    "interact(naive_resize, scale=(0.5, 1, 0.05));"
   ]
  },
  {
   "cell_type": "markdown",
   "id": "1a436100",
   "metadata": {},
   "source": [
    "Comme vous pouvez le voir, un redimensionnement naïf de l'image a tendance à distordre énormément les formes, et notamment le chateau dans le cas présent.\n",
    "L'algorithme de seam carving, codé ci-dessous, essaye de rémédier à ce problème en utilisant une méthode d'optimisation connue sous le nom de [programmation dynamique](https://fr.wikipedia.org/wiki/Programmation_dynamique)."
   ]
  },
  {
   "cell_type": "code",
   "execution_count": 19,
   "id": "79d2da35",
   "metadata": {},
   "outputs": [],
   "source": [
    "from scipy.ndimage import sobel\n",
    "import numba\n",
    "\n",
    "def compute_energy(img):\n",
    "    \"\"\"\n",
    "    Calcul de la norme (pixel-wise) des gradients de l'image à l'aide du filtre de Sobel.\n",
    "    \"\"\"\n",
    "    energy_map = np.abs(sobel(img, axis=0)) + np.abs(sobel(img, axis=1))\n",
    "    return energy_map\n",
    "\n",
    "@numba.jit(nopython=True, looplift=False, boundscheck=False, parallel=True)\n",
    "def minimum_seam(M, backtrack):\n",
    "    \"\"\"\n",
    "    Calcul du chemin d'énergie minimale via la programmation dynamique.\n",
    "    \"\"\"\n",
    "    \n",
    "    # --> Taille de l'image.\n",
    "    r, c = M.shape\n",
    "\n",
    "    # --> Dynamic programming.\n",
    "    for i in numba.prange(1, r):\n",
    "        for j in range(0, c):\n",
    "\n",
    "            if j == 0:\n",
    "                idx = np.argmin(M[i-1, j:j+2])\n",
    "                backtrack[i, j] = idx + j\n",
    "                min_energy = M[i-1, idx + j]\n",
    "            else:\n",
    "                idx = np.argmin(M[i-1, j-1:j+2])\n",
    "                backtrack[i, j] = idx + j - 1\n",
    "                min_energy = M[i-1, idx + j - 1]\n",
    "\n",
    "            M[i, j] += min_energy\n",
    "\n",
    "    return M, backtrack\n",
    "\n",
    "def carve_column(img):\n",
    "    \"\"\"\n",
    "    Retire l'équivalent d'une colonne de pixels de l'image grâce au Seam Carving.\n",
    "    \"\"\"\n",
    "    \n",
    "    # --> Taille de l'image.\n",
    "    r, c = img.shape\n",
    "    \n",
    "    # --> Calcul du chemin de moindre énergie.\n",
    "    M = compute_energy(img)\n",
    "    backtrack = np.zeros_like(M, dtype=int)\n",
    "    M, backtrack = minimum_seam(M, backtrack)\n",
    "    \n",
    "    # --> Retire les pixels marqués non-important de l'image.\n",
    "    mask = np.ones((r, c), dtype=bool)\n",
    "\n",
    "    j = np.argmin(M[-1])\n",
    "    for i in reversed(range(r)):\n",
    "        mask[i, j] = False\n",
    "        j = backtrack[i, j]\n",
    "\n",
    "    img = img[mask].reshape((r, c-1))\n",
    "\n",
    "    return img\n",
    "\n",
    "def seam_carve(img, scale=0.5):\n",
    "    \"\"\"\n",
    "    Driver pour le seam carving.\n",
    "    \"\"\"\n",
    "    \n",
    "    # --> Taille de l'image actuelle.\n",
    "    r, c = img.shape\n",
    "    \n",
    "    # --> Nouvelle taille souhaitée après redimensionnement.\n",
    "    new_c = int(scale * c)\n",
    "\n",
    "    # --> Redimensionnement par Seam Carving.\n",
    "    for i in range(c - new_c):\n",
    "        img = carve_column(img)\n",
    "\n",
    "    return img\n"
   ]
  },
  {
   "cell_type": "markdown",
   "id": "91cf662a",
   "metadata": {},
   "source": [
    "Voyons maintenant les résultats que l'on obtient lorsque l'on applique la méthode de seam carving à notre image."
   ]
  },
  {
   "cell_type": "code",
   "execution_count": 20,
   "id": "d23f0344",
   "metadata": {},
   "outputs": [
    {
     "data": {
      "application/vnd.jupyter.widget-view+json": {
       "model_id": "3485aded85bf412caab8b9901e8ee7e0",
       "version_major": 2,
       "version_minor": 0
      },
      "text/plain": [
       "interactive(children=(FloatSlider(value=1.0, description='scale', max=1.0, min=0.5, step=0.05), Output()), _do…"
      ]
     },
     "metadata": {},
     "output_type": "display_data"
    }
   ],
   "source": [
    "def seam_carving(scale=1):\n",
    "    output = seam_carve(img, scale=scale)\n",
    "    h, w = output.shape\n",
    "    return np2pil(output).resize((w, h))\n",
    "interact(seam_carving, scale=(0.5, 1, 0.05));"
   ]
  },
  {
   "cell_type": "markdown",
   "id": "dd03aed1",
   "metadata": {},
   "source": [
    "Comme vous pouvez le voir en jouant avec la barre de défilement, l'image redimensionnée est visuellement beaucoup plus agréable.\n",
    "Relativement peu de distorsions sont générées.\n",
    "Depuis qu'il a été publié par Shai Avidan et Ariel Shamir en 2007, l'algorithme de Seam Carving fait parti des fonctionnalités disponibles dans [Photoshop](https://fr.wikipedia.org/wiki/Adobe_Photoshop), [GIMP](https://fr.wikipedia.org/wiki/GIMP), [digiKAM](https://fr.wikipedia.org/wiki/DigiKam) ou encore [ImageMagick](https://fr.wikipedia.org/wiki/ImageMagick).\n",
    "Sans le savoir, vous utilisez régulièrement cet algorithme.\n",
    "En effet, il est utilisé dans beaucoup de sites web dit *réactifs* dont la conception vise à offrir une consultation confortable sur des écrans de tailles très différentes, notamment justement en redimensionnant les images affichées à l'écran!\n",
    "\n",
    "---\n",
    "---\n",
    "<a id='numpy_for_dummies'></a>\n",
    "## Numpy pour les débutants\n",
    "\n",
    "Maintenant que nous avons deux exemples d'applications se basant sur NumPy, apprenons à l'utiliser.\n",
    "De nombreux tutoriels sont disponibles en ligne pour compléter ce cours d'introduction.\n",
    "Vous trouverez ci-dessous une liste non-exhaustive :\n",
    "- [Introduction à NumPy](https://enacit.epfl.ch/cours/python/scientifique/numpy.html) par Samuel Bancal, enseignant-chercheur à l'Ecole Polytechnique Fédérale de Lausanne (Suisse).\n",
    "- [Introduction to Numpy](https://jakevdp.github.io/PythonDataScienceHandbook/02.00-introduction-to-numpy.html) par Jake VanderPlas tiré du libre [Python Data Science Handbook](https://jakevdp.github.io/PythonDataScienceHandbook/).\n",
    "- [Numerical Python](https://www.youtube.com/watch?v=sY1_SU1U_3E&list=PLQO9vKCRROdZkciP8FwS9SaQ1hlgy_wYt&ab_channel=GabeWeymouth) par [Gabe Weymouth](https://www.southampton.ac.uk/engineering/about/staff/gdw1d12.page), enseignant-chercheur à l'Université de South Hampton (Royaume-Uni). Il s'agit d'une playlist YouTube.\n",
    "- [Scientific Computing in Python : Introduction to NumPy and Matploblib](https://sebastianraschka.com/blog/2020/numpy-intro.html) par Sebastian Raschka, enseignant-chercheur à l'Université de Wisconsin-Madison. Le site internet est accompagné d'une série de vidéos disponibles sur YouTube.\n",
    "\n",
    "Pour les plus motivés d'entre vous, vous trouverez également ci-après une liste de livres pouvant vous être utiles si vous souhaitez maîtriser NumPy et le calcul scientifique en Python en général :\n",
    "- [Python pour la physique](https://www.deboecksuperieur.com/ouvrage/9782807328907-python-pour-la-physique) par Richard Taillet, enseignant-chercheur en physique à l'Université Savoie Mont Blanc.\n",
    "- [Python Data Science Handbook](https://jakevdp.github.io/PythonDataScienceHandbook/) par [Jake VanderPlas](https://jakevdp.github.io/pages/about.html), chercheur à l'[eScience Institute](https://escience.washington.edu/) de l'Université de Washington( Seattle, USA).\n",
    "- [SciPy and NumPy : an overview for developpers](https://www.amazon.com/SciPy-NumPy-Developers-Eli-Bressert/dp/1449305466) par Eli Bressert.\n",
    "- [Learning NumPy Array](https://www.amazon.fr/Learning-NumPy-Array-Ivan-Idris/dp/1783983906) par Ivan Idris.\n",
    "- [Numerical Python](https://www.amazon.fr/Numerical-Python-Scientific-Applications-Matplotlib/dp/1484242459) par Robert Johansson.\n",
    "\n",
    "Ces listes sont loin d'être exhaustives et de très nombreuses ressources sont disponibles en ligne, nombre d'entre elles en accès libre.\n",
    "Pour ce genre de recherche, Google est votre ami !\n",
    "\n",
    "---\n",
    "\n",
    "### Les arrays NumPy\n",
    "\n",
    "Au début de ce notebook, nous avons illustré à quel point l'implémentation d'opérations aussi élémentaires que le produit matrice-vecteur ou le produit matrice-matrice pouvaient être performantes en NumPy comparées à des implémentations équivalentes en pur Python.\n",
    "Une des raisons principales pour cet écart de performances est la structure de données utilisée.\n",
    "Alors qu'une implémentation en pur Python utilise les **listes** comme structure de données de base, NumPy repose sur une nouvelle structure de données : les **ndarray**.\n",
    "\n",
    "Cet objet *ndarray*, pour **N-dimensional array**, est l'élément central de la librairie NumPy.\n",
    "Pour un utilisateur lambda, un *ndarray* est une structure de données relativement proche des *listes* Python classique à quelques différences près :\n",
    "\n",
    "- Par défaut, tous les éléments dans un *ndarray* doivent être du même type, e.g. tous des `int` ou des `float`.\n",
    "- Un array est de taille fixée. Contrairement à une liste, il n'est pas possible d'y ajouter de nouveaux éléments au fur à mesure ni de lui en retirer.\n",
    "\n",
    "NumPy permet par ailleurs une gestion plus fine des types numériques.\n",
    "Les principaux types diponibles sont les suivants :\n",
    "\n",
    "</br>\n",
    "\n",
    "<center>Les Booléens</center>\n",
    "\n",
    "| Type | Description |\n",
    "|---|---|\n",
    "|`np.bool`| Booléen (`True` ou `False`)|\n",
    "\n",
    "</br>\n",
    "\n",
    "<center>Les nombres entiers</center>\n",
    "\n",
    "| Type | Description |\n",
    "|---|---|\n",
    "| `np.int8` | Entier codé sur 8 bits (-128 à 127) |\n",
    "| `np.int16` | Entier codé sur 16 bits (-32 768 à 32 767) |\n",
    "| `np.int32` | Entier codé sur 32 bits ($2^{31}$ à $2^{31}-1$) |\n",
    "| `np.int64` | Entier codé sur 64 bits ($2^{63}$ à $2^{63}-1$), défaut pour les entiers |\n",
    "\n",
    "</br>\n",
    "\n",
    "<center>Les nombres entiers (non-signés)</center>\n",
    "\n",
    "| Type | Description |\n",
    "|---|---|\n",
    "| `np.uint8` | Entier non-signé sur 8 bits (0 à 255) |\n",
    "| `np.uint16` | Entier non-signé sur 16 bits |\n",
    "| `np.uint32` | Entier non-signé sur 32 bits |\n",
    "| `np.uint64` | Entier non-signé sur 64 bits |\n",
    "\n",
    "</br>\n",
    "\n",
    "<center>Les nombres flottants (à virgule)</center>\n",
    "\n",
    "| Type | Description |\n",
    "|---|---|\n",
    "| `np.float16` | Flottant (demi-précision) |\n",
    "| `np.float32` | Flottant (simple précision) |\n",
    "| `np.float64` | Floattant (double précision), défaut pour les flottants |\n",
    "\n",
    "\n",
    "</br>\n",
    "\n",
    "<center>Les nombres complexes</center>\n",
    "\n",
    "| Type | Description |\n",
    "|---|---|\n",
    "| `np.complex64` | Complexe (simple précision) |\n",
    "| `np.complex128` | Complexe (double précision), défaut pour les complexes |\n",
    "\n",
    "Cette granularité dans le choix des types permet un contrôle plus fin de la mémoire allouée pour stocker les différentes variables nécessaires à un calcul.\n",
    "Par exemple, pour une image où les couleurs utilisent le système [RGB](https://fr.wikipedia.org/wiki/Rouge_vert_bleu), chaque pixel sera stocké en mémoire à l'aide de trois entiers `np.uint8` : pour chacune des couleurs primaires, la valeur s'exprime dans un intervalle entre 0 et 255.\n",
    "En calcul scientifique, on préférera en général utiliser des flottants double-précision (`np.float64`) permettant de décrire une gamme de nombres allant de $10^{-15}$ à $10^{15}$.\n",
    "Avec l'avènement de l'intelligence artificielle et du Big Data, de plus en plus d'applications utilisent également la demi-précision (`np.float16`).\n",
    "\n",
    "> &#9888;&#9888;&#9888; Utiliser des nombres codés sur moins de bits ne signifie par forcément que votre calcul se fera plus vite ! Cela dépend en effet fortement du matériel informatique que vous utilisez.\n",
    "Les processeurs de la plupart des ordinateurs que vous utilisez sont par exemple optimisés pour faire des calculs avec des nombres codés sur 32 ou 64 bits.\n",
    "Utiliser un type nécessitant moins de bits réduira l'espace mémoire nécessaire pour stocker vos données mais pourra conduire à des calculs plus lents !\n",
    "\n",
    "Voyons voir maintenant comment créer ces *ndarray* et comment les manipuler.\n",
    "Pour des raisons de simplicité, nous nous limiterons aux types par défaut, à savoir `np.int64` pour les nombres entiers, `np.float64` pour les nombres à virgules et `np.complex128` pour les nombres complexes."
   ]
  },
  {
   "cell_type": "code",
   "execution_count": 21,
   "id": "2941e08a",
   "metadata": {},
   "outputs": [
    {
     "name": "stdout",
     "output_type": "stream",
     "text": [
      "Array x :  [1 2 3 4]\n",
      "Type :  int64\n"
     ]
    }
   ],
   "source": [
    "# --> Crée un array x contenant les nombres 1, 2, 3, 4\n",
    "x = np.array([1, 2, 3, 4])\n",
    "print(\"Array x : \", x)\n",
    "\n",
    "# --> Affiche le type des éléments de x.\n",
    "print(\"Type : \", x.dtype)"
   ]
  },
  {
   "cell_type": "markdown",
   "id": "299aac9a",
   "metadata": {},
   "source": [
    "La cellule ci-dessus illustre comment créer un array à une dimension contenant les nombres 1, 2, 3, et 4.\n",
    "Puisqu'il s'agit de nombres entiers, le type par défaut utilisé sera `np.int64`.\n",
    "Pour un connaître le type des données stockées dans un array `x`, vous pouvez utiliser `x.dtype`.\n",
    "Il peut être utile de connaître d'autres attributs de l'array `x` tel que sa dimension, sa taille ou l'espace mémoire occupée.\n",
    "Ceci est illustré ci-dessous."
   ]
  },
  {
   "cell_type": "code",
   "execution_count": 22,
   "id": "2e1219e0",
   "metadata": {},
   "outputs": [
    {
     "name": "stdout",
     "output_type": "stream",
     "text": [
      "Nombre de dimensions : 1\n",
      "Nombre d'éléments par dimension : (4,)\n",
      "Nombre total d'éléments : 4\n",
      "Espace mémoire occupé (en bytes) : 32\n",
      "Espace mémoire occupé (en bits) : 256\n"
     ]
    }
   ],
   "source": [
    "# --> Affiche le nombre de dimension de x (ici 1.)\n",
    "print(\"Nombre de dimensions :\", x.ndim)\n",
    "\n",
    "# --> Nombre d'éléments par dimension.\n",
    "print(\"Nombre d'éléments par dimension :\", x.shape)\n",
    "\n",
    "# --> Nombre total d'éléments.\n",
    "print(\"Nombre total d'éléments :\", x.size)\n",
    "\n",
    "# --> Espace mémoire occupé (en bytes).\n",
    "print(\"Espace mémoire occupé (en bytes) :\", x.nbytes)\n",
    "\n",
    "# --> Espace mémoire occupé (en bits).\n",
    "print(\"Espace mémoire occupé (en bits) :\", 8*x.nbytes)"
   ]
  },
  {
   "cell_type": "markdown",
   "id": "c9073028",
   "metadata": {},
   "source": [
    "Un *array* à deux dimensions, représentant typiquement un tableau de nombres ou une matrices, peut être créé tout aussi facilement."
   ]
  },
  {
   "cell_type": "code",
   "execution_count": 23,
   "id": "39c8b6a3",
   "metadata": {},
   "outputs": [
    {
     "name": "stdout",
     "output_type": "stream",
     "text": [
      "Type :  float64\n",
      "Nombre de dimensions : 2\n",
      "Nombre d'éléments par dimension : (3, 3)\n",
      "Nombre total d'éléments : 9\n",
      "Espace mémoire occupé (en bytes) : 72\n",
      "Espace mémoire occupé (en bits) : 576\n"
     ]
    }
   ],
   "source": [
    "# --> Crée un array à deux dimensions.\n",
    "A = np.array([\n",
    "    [1.1, 2.2, 3.3], \n",
    "    [4.4, 5.5, 6.6], \n",
    "    [7.7, 8.8, 9.9]])\n",
    "\n",
    "# --> Affiche le type des éléments de A.\n",
    "print(\"Type : \", A.dtype)\n",
    "\n",
    "# --> Affiche le nombre de dimension de A (ici 2.)\n",
    "print(\"Nombre de dimensions :\", A.ndim)\n",
    "\n",
    "# --> Nombre d'éléments par dimension.\n",
    "print(\"Nombre d'éléments par dimension :\", A.shape)\n",
    "\n",
    "# --> Nombre total d'éléments.\n",
    "print(\"Nombre total d'éléments :\", A.size)\n",
    "\n",
    "# --> Espace mémoire occupé (en bytes).\n",
    "print(\"Espace mémoire occupé (en bytes) :\", A.nbytes)\n",
    "\n",
    "# --> Espace mémoire occupé (en bits).\n",
    "print(\"Espace mémoire occupé (en bits) :\", 8*A.nbytes)"
   ]
  },
  {
   "cell_type": "markdown",
   "id": "d68cbfcb",
   "metadata": {},
   "source": [
    "#### Accéder aux éléments d'un tableau\n",
    "\n",
    "Tout comme pour les listes, il est possible d'indexer les éléments d'un *array* pour les modifier ou les afficher.\n",
    "Pour des *arrrays* à une dimension, la syntaxe est identitique aux listes comme montré ci-dessous."
   ]
  },
  {
   "cell_type": "code",
   "execution_count": 24,
   "id": "e5c06bf9",
   "metadata": {},
   "outputs": [
    {
     "name": "stdout",
     "output_type": "stream",
     "text": [
      "Premier élément de x : 1\n",
      "Dernier élément de x : 4\n",
      "Deuxième et troisième élément de x : [2 3]\n"
     ]
    }
   ],
   "source": [
    "print(\"Premier élément de x :\", x[0])\n",
    "\n",
    "print(\"Dernier élément de x :\", x[-1])\n",
    "\n",
    "print(\"Deuxième et troisième élément de x :\", x[1:3])"
   ]
  },
  {
   "cell_type": "markdown",
   "id": "b4fb725b",
   "metadata": {},
   "source": [
    "Pour des *arrays* à plusieurs dimensions, la syntaxe est plus légère que pour leur équivalents en terme de liste de listes.\n",
    "Ainsi, tandis que l'élément $ij$ d'une liste de listes est récupéré à l'aide de `A[i][j]`, l'élement $ij$ d'un *array* à deux dimensions est récupéré à l'aide de `A[i, j]`.\n",
    "Pour un tableau à 3 dimensions, on aurait alors `A[i][j][k]` en terme de liste de listes de listes et `A[i, j, k]` à l'aide de NumPy."
   ]
  },
  {
   "cell_type": "code",
   "execution_count": 25,
   "id": "48aaf1d2",
   "metadata": {},
   "outputs": [
    {
     "name": "stdout",
     "output_type": "stream",
     "text": [
      "Première ligne de A : [1.1 2.2 3.3]\n",
      "Dernière ligne de A : [7.7 8.8 9.9]\n",
      "Deuxième et troisième ligne de A : [[4.4 5.5 6.6]\n",
      " [7.7 8.8 9.9]]\n",
      "\n",
      "Première colonne de A : [1.1 4.4 7.7]\n",
      "Dernière colonne de A : [3.3 6.6 9.9]\n",
      "Deuxième et troisième colonne de A :\n",
      "[[2.2 3.3]\n",
      " [5.5 6.6]\n",
      " [8.8 9.9]]\n"
     ]
    }
   ],
   "source": [
    "print(\"Première ligne de A :\", A[0])\n",
    "\n",
    "print(\"Dernière ligne de A :\", A[-1])\n",
    "\n",
    "print(\"Deuxième et troisième ligne de A :\", A[1:3])\n",
    "\n",
    "print()\n",
    "\n",
    "print(\"Première colonne de A :\", A[:, 0])\n",
    "\n",
    "print(\"Dernière colonne de A :\", A[:, -1])\n",
    "\n",
    "print(\"Deuxième et troisième colonne de A :\")\n",
    "print(A[:, 1:3])"
   ]
  },
  {
   "cell_type": "markdown",
   "id": "f0595890",
   "metadata": {},
   "source": [
    "#### Création d'array fréquentes\n",
    "\n",
    "NumPy fournit un ensemble de fonctions pour créer des *arrays* dont vous pourriez avoir besoin régulièrement.\n",
    "Par exemple, il peut être nécessaire d'initialiser votre tableau de nombres avec des 0 partout avant de commencer votre calcul.\n",
    "Cela peut se faire à l'aide la fonction suivante\n",
    "\n",
    "```\n",
    "np.zeros(shape, dtype=float)\n",
    "```\n",
    "\n",
    "où `shape` détermine la taille du tableau et `dtype` le type utilisé."
   ]
  },
  {
   "cell_type": "code",
   "execution_count": 26,
   "id": "ebb8288f",
   "metadata": {},
   "outputs": [
    {
     "name": "stdout",
     "output_type": "stream",
     "text": [
      "Array de 0 à une dimension : \n",
      "\n",
      " [0. 0. 0. 0. 0. 0.] \n",
      "\n",
      "Nombre de dimensions : 1\n",
      "Nombre d'éléments par dimension : (6,)\n",
      "Type de données : float64 \n",
      "\n",
      " -----\n",
      "\n",
      "\n",
      "Array de 0 à deux dimensions : \n",
      "\n",
      " [[0. 0. 0. 0.]\n",
      " [0. 0. 0. 0.]\n",
      " [0. 0. 0. 0.]\n",
      " [0. 0. 0. 0.]] \n",
      "\n",
      "Nombre de dimensions : 2\n",
      "Nombre d'éléments par dimension : (4, 4)\n",
      "Type de données : float64 \n",
      "\n",
      " -----\n",
      "\n",
      "\n",
      "Array de 0 à deux dimensions de nombres entiers : \n",
      "\n",
      " [[0 0 0 0]\n",
      " [0 0 0 0]\n",
      " [0 0 0 0]\n",
      " [0 0 0 0]] \n",
      "\n",
      "Nombre de dimensions : 2\n",
      "Nombre d'éléments par dimension : (4, 4)\n"
     ]
    }
   ],
   "source": [
    "# --> [0, 0, 0, 0, 0, 0]\n",
    "x = np.zeros(6)\n",
    "print(\"Array de 0 à une dimension : \\n\\n\", x, \"\\n\")\n",
    "print(\"Nombre de dimensions :\", x.ndim)\n",
    "print(\"Nombre d'éléments par dimension :\", x.shape)\n",
    "print(\"Type de données :\", x.dtype, \"\\n\\n -----\\n\\n\")\n",
    "\n",
    "\n",
    "# --> Array à deux dimensions.\n",
    "print(\"Array de 0 à deux dimensions : \\n\\n\", A := np.zeros((4, 4)), \"\\n\")\n",
    "print(\"Nombre de dimensions :\", A.ndim)\n",
    "print(\"Nombre d'éléments par dimension :\", A.shape)\n",
    "print(\"Type de données :\", A.dtype, \"\\n\\n -----\\n\\n\")\n",
    "\n",
    "# --> Array à deux dimensions.\n",
    "print(\"Array de 0 à deux dimensions de nombres entiers : \\n\\n\", A := np.zeros((4, 4), dtype=int), \"\\n\")\n",
    "print(\"Nombre de dimensions :\", A.ndim)\n",
    "print(\"Nombre d'éléments par dimension :\", A.shape)\n"
   ]
  },
  {
   "cell_type": "markdown",
   "id": "bf86393a",
   "metadata": {},
   "source": [
    "De la même façon, vous pouvez créer un tableau que de 1 à l'aide de la commande `np.ones(shape, dtype=float)`."
   ]
  },
  {
   "cell_type": "code",
   "execution_count": 27,
   "id": "27663c8c",
   "metadata": {},
   "outputs": [
    {
     "name": "stdout",
     "output_type": "stream",
     "text": [
      "Array 1D ne contenant que des 1 :  [1. 1. 1. 1.] \n",
      "\n",
      "-----\n",
      "\n",
      "Array 2D ne contenant que des 1 : \n",
      "\n",
      " [[1. 1. 1.]\n",
      " [1. 1. 1.]\n",
      " [1. 1. 1.]] \n",
      "\n"
     ]
    }
   ],
   "source": [
    "# --> Tableau ne contenant que des 1.\n",
    "print(\"Array 1D ne contenant que des 1 : \", np.ones(4), \"\\n\")\n",
    "print(\"-----\\n\")\n",
    "\n",
    "# --> Tableau 2D.\n",
    "print(\"Array 2D ne contenant que des 1 : \\n\\n\", np.ones((3, 3)), \"\\n\")"
   ]
  },
  {
   "cell_type": "markdown",
   "id": "6a27cf0c",
   "metadata": {},
   "source": [
    "Si vous souhaitez initialiser le tableau avec une autre valeur, la fonction\n",
    "\n",
    "```\n",
    "np.full(shape, fill_value, dtype=None)\n",
    "```\n",
    "\n",
    "est à votre disposition."
   ]
  },
  {
   "cell_type": "code",
   "execution_count": 28,
   "id": "cf589dc6",
   "metadata": {},
   "outputs": [
    {
     "name": "stdout",
     "output_type": "stream",
     "text": [
      "Tableau 1D ne contenant que des 2 : [2 2 2 2] \n",
      "\n",
      "-----\n",
      "Array 2D ne contenant que le nombre pi : \n",
      "\n",
      " [[3.14159265 3.14159265 3.14159265]\n",
      " [3.14159265 3.14159265 3.14159265]\n",
      " [3.14159265 3.14159265 3.14159265]] \n",
      "\n"
     ]
    }
   ],
   "source": [
    "print(\"Tableau 1D ne contenant que des 2 :\", np.full(4, 2), \"\\n\")\n",
    "print(\"-----\")\n",
    "\n",
    "# --> Tableau 2D.\n",
    "print(\"Array 2D ne contenant que le nombre pi : \\n\\n\", np.full((3, 3), np.pi), \"\\n\")"
   ]
  },
  {
   "cell_type": "markdown",
   "id": "a67a4ba2",
   "metadata": {},
   "source": [
    "Enfin, il peut être utile de créer des tableaux contenant tous les nombres (entiers ou floattant) compris dans un certain intervalle et avec un espacement particulier.\n",
    "Pour les entiers, vous pouvez utiliser la fonction\n",
    "\n",
    "```\n",
    "np.arange([start, ] stop, [step, ])\n",
    "```\n",
    "\n",
    "où les arguments sont les suivants :\n",
    "- `start` : valeur de début (facultatif, par défaut égal à 0).\n",
    "- `stop` : valeur de fin (exclue).\n",
    "- `step` : saut entre chaque valeur (facultatif, par défaut égal à 1).\n",
    "\n",
    "Quelques exemples sont fournis ci-dessous."
   ]
  },
  {
   "cell_type": "code",
   "execution_count": 29,
   "id": "582a6d6f",
   "metadata": {},
   "outputs": [
    {
     "name": "stdout",
     "output_type": "stream",
     "text": [
      "[ 0  1  2  3  4  5  6  7  8  9 10] \n",
      "\n",
      "\n",
      "-----\n",
      "\n",
      "[ 0  2  4  6  8 10]\n"
     ]
    }
   ],
   "source": [
    "# --> Tous les nombres compris entre 0 et 10 par pas de 1.\n",
    "print( np.arange(11), \"\\n\\n\" )\n",
    "print(\"-----\\n\")\n",
    "\n",
    "# --> Tous les nombres compris entre 0 et 10 par pas de 2.\n",
    "print( np.arange(0, 11, 2))"
   ]
  },
  {
   "cell_type": "markdown",
   "id": "ac4640c8",
   "metadata": {},
   "source": [
    "De la même façon, la fonction\n",
    "\n",
    "```\n",
    "np.linspace(start, stop, num=50, endpoint=True)\n",
    "```\n",
    "\n",
    "permet de retourner `num` floattants répartis uniformément dans l'intervalle [`start`, `stop`]."
   ]
  },
  {
   "cell_type": "code",
   "execution_count": 30,
   "id": "68e05025",
   "metadata": {},
   "outputs": [
    {
     "name": "stdout",
     "output_type": "stream",
     "text": [
      "[0.  0.1 0.2 0.3 0.4 0.5 0.6 0.7 0.8 0.9 1. ]\n"
     ]
    }
   ],
   "source": [
    "# --> Intervalle [0, 1] discrétisé avec 11 nombres.\n",
    "print( np.linspace(0, 1, 11) )"
   ]
  },
  {
   "cell_type": "markdown",
   "id": "3becd9bb",
   "metadata": {},
   "source": [
    "Enfin, si vous avez besoin d'utiliser une répartition logarithmique des nombres, vous pouvez utiliser la fonction\n",
    "\n",
    "```\n",
    "np.logspace(start, stop, num=50, base=10.0)\n",
    "```\n",
    "\n",
    "où `base` défini la base du logarithmique utilisé, e.g.\n",
    "- `base = 10` : utilise le logarithme classique, $\\log_{10}(x) = \\dfrac{\\ln(x)}{\\ln(10)}$.\n",
    "- `base = 2` : utilise le logarithme en base 2, $\\log_2(x) = \\dfrac{\\ln(x)}{\\ln(2)}$.\n",
    "- `base = b` : utilise le logarithme en base $b$, $\\log_b(x) = \\dfrac{\\ln(x)}{\\ln(b)}$ où $b$ est la base souhaitée.\n",
    "\n",
    "Essayez dans la cellule ci-dessous d'utiliser la fonction `np.logspace` pour retourner l'array suivant\n",
    "\n",
    "```\n",
    "[1, 10, 100, 1000, 10000]\n",
    "```"
   ]
  },
  {
   "cell_type": "code",
   "execution_count": 31,
   "id": "d41aa856",
   "metadata": {
    "nbgrader": {
     "grade": true,
     "grade_id": "cell-53913238c25ee707",
     "locked": false,
     "points": 0,
     "schema_version": 3,
     "solution": true,
     "task": false
    }
   },
   "outputs": [
    {
     "data": {
      "text/plain": [
       "array([1.e+00, 1.e+01, 1.e+02, 1.e+03, 1.e+04, 1.e+05])"
      ]
     },
     "execution_count": 31,
     "metadata": {},
     "output_type": "execute_result"
    }
   ],
   "source": [
    "### BEGIN SOLUTION\n",
    "np.logspace(0, 5, 6)\n",
    "### END SOLUTION"
   ]
  },
  {
   "cell_type": "markdown",
   "id": "45805e32",
   "metadata": {},
   "source": [
    "Même question mais en considérant maintenant l'array suivante\n",
    "\n",
    "```\n",
    "[2, 4, 8, 16, 32, 64]\n",
    "```"
   ]
  },
  {
   "cell_type": "code",
   "execution_count": 32,
   "id": "5cf41ced",
   "metadata": {
    "nbgrader": {
     "grade": true,
     "grade_id": "cell-c15c3c8507fa3fd0",
     "locked": false,
     "points": 0,
     "schema_version": 3,
     "solution": true,
     "task": false
    }
   },
   "outputs": [
    {
     "data": {
      "text/plain": [
       "array([ 2.,  4.,  8., 16., 32., 64.])"
      ]
     },
     "execution_count": 32,
     "metadata": {},
     "output_type": "execute_result"
    }
   ],
   "source": [
    "### BEGIN SOLUTION\n",
    "np.logspace(1, 6, num=6, base=2)\n",
    "### END SOLUTION"
   ]
  },
  {
   "cell_type": "markdown",
   "id": "84c48bc5",
   "metadata": {},
   "source": [
    "#### Manipuler les arrays\n",
    "\n",
    "Maintenant que nous savons comment créer des *arrays*, voyons comment les manipuler.\n",
    "Nous avons déjà discuter de comment récupérer des éléments particuliers de l'*array* à l'aide de leur  index.\n",
    "Il est néanmoins possible d'aller beaucoup plus loin."
   ]
  },
  {
   "cell_type": "markdown",
   "id": "57b1241f",
   "metadata": {},
   "source": [
    "##### Indexing avec un masque\n",
    "\n",
    "Il peut être utile par moment de ne récupérer que les entrées d'un tableau vérifiant une certaine condition.\n",
    "On utilisera pour cela un **masque booléen**, i.e. un tableau de la même taille que celui que l'on étudie mais ne contenant que des entrées `True` (si l'entrée vérifie la condition) ou `False` (si elle ne la vérifie pas).\n",
    "Considérons par exemple le tableau suivant\n",
    "\n",
    "```\n",
    "x = np.arange(0, 101)\n",
    "```\n",
    "\n",
    "retournant tous les entiers compris entre 0 et 100.\n",
    "Supposons maintenant que l'on ne souhaite choisir que les entiers divisible par 3.\n",
    "On pourra alors le faire de la façon suivante\n",
    "\n",
    "```\n",
    "x[x % 3 == 0]\n",
    "```\n",
    "\n",
    "ce qui est équivalent à\n",
    "\n",
    "```\n",
    "mask = x % 3 == 0\n",
    "x[mask]\n",
    "```"
   ]
  },
  {
   "cell_type": "code",
   "execution_count": 33,
   "id": "3a69e2fb",
   "metadata": {},
   "outputs": [
    {
     "data": {
      "text/plain": [
       "array([ 0,  3,  6,  9, 12, 15, 18, 21, 24, 27, 30, 33, 36, 39, 42, 45, 48,\n",
       "       51, 54, 57, 60, 63, 66, 69, 72, 75, 78, 81, 84, 87, 90, 93, 96, 99])"
      ]
     },
     "execution_count": 33,
     "metadata": {},
     "output_type": "execute_result"
    }
   ],
   "source": [
    "# -->\n",
    "x = np.arange(0, 101)\n",
    "\n",
    "# -->\n",
    "x[x % 3 == 0]"
   ]
  },
  {
   "cell_type": "markdown",
   "id": "6fcef3f5",
   "metadata": {},
   "source": [
    "##### Affectation indéxéee\n",
    "\n",
    "Une fois que vous avez créé un *array*, il est possible d'en changer certaines des entrées à l'aide de leur index, par exemple"
   ]
  },
  {
   "cell_type": "code",
   "execution_count": 34,
   "id": "647b3c26",
   "metadata": {},
   "outputs": [
    {
     "name": "stdout",
     "output_type": "stream",
     "text": [
      "Array original : [0 1 2 3 4 5 6 7 8 9] \n",
      "\n",
      "-----\n",
      "\n",
      "\n",
      "Array après modification : [0 1 2 0 0 5 6 7 8 9]\n"
     ]
    }
   ],
   "source": [
    "# --> Crée un array contenant les entiers de 0 à 9.\n",
    "x = np.arange(10)\n",
    "print(\"Array original :\", x, \"\\n\\n-----\\n\\n\")\n",
    "\n",
    "# --> Modification des entrées 3 à 4.\n",
    "x[3:5] = 0\n",
    "print(\"Array après modification :\", x)"
   ]
  },
  {
   "cell_type": "markdown",
   "id": "77d24d72",
   "metadata": {},
   "source": [
    "&#9888;&#9888;&#9888; En faisant cela, les nouvelles valeurs que vous affectez doivent être du même type que celui utilisé lorsque l'array a été créé !\n",
    "Dans l'exemple ci-dessous, nous créons un arrray à l'aide de `np.linspace` qui sera par défaut de type `float`.\n",
    "Supposons que l'on souhaite ensuite modifié la troisième entrée par le nombre complexe $1 + 2i$ (`1 + 1j*2` en Python)."
   ]
  },
  {
   "cell_type": "code",
   "execution_count": 35,
   "id": "febaaa55",
   "metadata": {
    "tags": [
     "raises-exception"
    ]
   },
   "outputs": [
    {
     "ename": "TypeError",
     "evalue": "can't convert complex to float",
     "output_type": "error",
     "traceback": [
      "\u001b[0;31m---------------------------------------------------------------------------\u001b[0m",
      "\u001b[0;31mTypeError\u001b[0m                                 Traceback (most recent call last)",
      "\u001b[0;32m/tmp/ipykernel_31526/1565079668.py\u001b[0m in \u001b[0;36m<module>\u001b[0;34m\u001b[0m\n\u001b[1;32m      3\u001b[0m \u001b[0;34m\u001b[0m\u001b[0m\n\u001b[1;32m      4\u001b[0m \u001b[0;31m# -->\u001b[0m\u001b[0;34m\u001b[0m\u001b[0;34m\u001b[0m\u001b[0;34m\u001b[0m\u001b[0m\n\u001b[0;32m----> 5\u001b[0;31m \u001b[0mx\u001b[0m\u001b[0;34m[\u001b[0m\u001b[0;36m2\u001b[0m\u001b[0;34m]\u001b[0m \u001b[0;34m=\u001b[0m \u001b[0;36m1\u001b[0m \u001b[0;34m+\u001b[0m \u001b[0;36m1j\u001b[0m\u001b[0;34m\u001b[0m\u001b[0;34m\u001b[0m\u001b[0m\n\u001b[0m",
      "\u001b[0;31mTypeError\u001b[0m: can't convert complex to float"
     ]
    }
   ],
   "source": [
    "# -->\n",
    "x = np.linspace(0, 1, 11)\n",
    "\n",
    "# -->\n",
    "x[2] = 1 + 1j"
   ]
  },
  {
   "cell_type": "markdown",
   "id": "3212086c",
   "metadata": {},
   "source": [
    "Dans le cas présent NumPy rapportera une erreur.\n",
    "Il est possible par moment que NumPy fassse du mieux qu'il peut sans pour autant causer des erreurs.\n",
    "Votre code continuera à s'exécuter mais il ne fera pas nécessairement exactement ce que vous pensez qu'il est supposé faire.\n",
    "Il faut donc faire très attention !"
   ]
  },
  {
   "cell_type": "markdown",
   "id": "640f8020",
   "metadata": {},
   "source": [
    "##### La transposée\n",
    "\n",
    "Il est souvent nécessaire dans des calculs impliquant de l'algèbre linéaire d'avoir besoin d'utiliser la transposée d'une matrice ou d'un tenseur (i.e. un tableau à plus de deux dimensions).\n",
    "Cela peut se faire très simplement en NumPy à l'aide de la fonction `np.transpose` où, si l'array a déjà été créé, à l'aide de `A.T` (pour un array `A`)."
   ]
  },
  {
   "cell_type": "code",
   "execution_count": 36,
   "id": "74f9d7d1",
   "metadata": {},
   "outputs": [
    {
     "name": "stdout",
     "output_type": "stream",
     "text": [
      "Matrice A : \n",
      "\n",
      " [[1 2]\n",
      " [3 4]] \n",
      "\n",
      "-----\n",
      "\n",
      "\n",
      "Matrice A.T : \n",
      "\n",
      " [[1 3]\n",
      " [2 4]] \n",
      "\n",
      "\n"
     ]
    }
   ],
   "source": [
    "# --> Crée une matrice.\n",
    "A = np.array([[1, 2], [3, 4]])\n",
    "print(\"Matrice A : \\n\\n\", A, \"\\n\\n-----\\n\\n\")\n",
    "\n",
    "# --> Tranposée de la matrice.\n",
    "print(\"Matrice A.T : \\n\\n\", A.T, \"\\n\\n\")"
   ]
  },
  {
   "cell_type": "markdown",
   "id": "e2e83955",
   "metadata": {},
   "source": [
    "L'utilisation de la transposée pour des tableaux à plus deux dimensions est une opération mathématique assez subtile dont vous n'aurez que rarement besoin.\n",
    "D'ici à ce que vous en ayez besoin, votre connaissance de Python et de NumPy ira bien au-delà de ce cours et nous n'en aborderons donc pas les subtilités ici.\n",
    "\n",
    "---\n",
    "### Opérations arithmétiques élémentaires `+`, `-`, `*`, `/`, `//`, `%`\n",
    "\n",
    "NumPy fournit tous les opérateurs arithmétiques usuels pour additionner, soustraire, multiplier ou diviser deux tableaux de valeurs.\n",
    "Attention, on parle ici d'opération appliquée à chaque élément des tableaux.\n",
    "Les notions de multiplication et division matricielle (i.e. l'inverse) seront abordées plus tard.\n",
    "\n",
    "#### L'addition `+`"
   ]
  },
  {
   "cell_type": "code",
   "execution_count": 37,
   "id": "751d699f",
   "metadata": {},
   "outputs": [
    {
     "name": "stdout",
     "output_type": "stream",
     "text": [
      "Premier array x : [0 1 2 3 4 5 6 7 8 9]\n",
      "Deuxième array y : [10 11 12 13 14 15 16 17 18 19] \n",
      "\n",
      "-----\n",
      "\n",
      "\n",
      "Résultat de l'opération x + y :  [10 12 14 16 18 20 22 24 26 28]\n"
     ]
    }
   ],
   "source": [
    "# --> Crée deux arrays.\n",
    "x, y = np.arange(10), np.arange(10, 20)\n",
    "print(\"Premier array x :\", x)\n",
    "print(\"Deuxième array y :\", y, \"\\n\\n-----\\n\\n\")\n",
    "\n",
    "# --> Fait la somme des deux arrays.\n",
    "z = x + y  # ou également np.add(x, y)\n",
    "print(\"Résultat de l'opération x + y : \", z)"
   ]
  },
  {
   "cell_type": "markdown",
   "id": "c681715c",
   "metadata": {},
   "source": [
    "#### La soustraction `-`"
   ]
  },
  {
   "cell_type": "code",
   "execution_count": 38,
   "id": "50f842c1",
   "metadata": {},
   "outputs": [
    {
     "name": "stdout",
     "output_type": "stream",
     "text": [
      "Premier array x : [1 2 3 4]\n",
      "Deuxième array y : [ 4 10  5  3] \n",
      "\n",
      "-----\n",
      "\n",
      "\n",
      "Résultat de l'opération x - y :  [-3 -8 -2  1]\n"
     ]
    }
   ],
   "source": [
    "# --> Crée deux arrays.\n",
    "x, y = np.array([1, 2, 3, 4]), np.array([4, 10, 5, 3])\n",
    "print(\"Premier array x :\", x)\n",
    "print(\"Deuxième array y :\", y, \"\\n\\n-----\\n\\n\")\n",
    "\n",
    "# --> Fait la différence des deux arrays.\n",
    "z = x - y  # ou également np.subtract(x, y)\n",
    "print(\"Résultat de l'opération x - y : \", z)"
   ]
  },
  {
   "cell_type": "markdown",
   "id": "0860eb91",
   "metadata": {},
   "source": [
    "#### La multiplication `*`"
   ]
  },
  {
   "cell_type": "code",
   "execution_count": 39,
   "id": "8b66295e",
   "metadata": {},
   "outputs": [
    {
     "name": "stdout",
     "output_type": "stream",
     "text": [
      "Premier array x : [1 2 3 4]\n",
      "Deuxième array y : [ 4 10  5  3] \n",
      "\n",
      "-----\n",
      "\n",
      "\n",
      "Résultat de l'opération x * y :  [ 4 20 15 12]\n"
     ]
    }
   ],
   "source": [
    "# --> Crée deux arrays.\n",
    "x, y = np.array([1, 2, 3, 4]), np.array([4, 10, 5, 3])\n",
    "print(\"Premier array x :\", x)\n",
    "print(\"Deuxième array y :\", y, \"\\n\\n-----\\n\\n\")\n",
    "\n",
    "# --> Fait la multiplication des deux arrays.\n",
    "z = x * y  # ou également np.multiply(x, y)\n",
    "print(\"Résultat de l'opération x * y : \", z)"
   ]
  },
  {
   "cell_type": "markdown",
   "id": "7acf29d0",
   "metadata": {},
   "source": [
    "&#9888;&#9888;&#9888; Contrairement à MATLAB, l'opérateur `*` ne correspond pas au produit matrice-matrice si on l'applique à des arrays à deux dimensions ! Il s'agit de la multiplication par élément (ou produit de Hadamard)."
   ]
  },
  {
   "cell_type": "code",
   "execution_count": 40,
   "id": "5376a914",
   "metadata": {},
   "outputs": [
    {
     "name": "stdout",
     "output_type": "stream",
     "text": [
      "Premier array x :\n",
      "\n",
      " [[1 2]\n",
      " [3 4]]\n",
      "Deuxième array y :\n",
      "\n",
      " [[4 5]\n",
      " [6 7]] \n",
      "\n",
      "-----\n",
      "\n",
      "\n",
      "Résultat de l'opération A * B:\n",
      "\n",
      "  [[ 4 10]\n",
      " [18 28]]\n"
     ]
    }
   ],
   "source": [
    "# --> Crée deux arrays.\n",
    "A = np.array([[1, 2], [3, 4]])\n",
    "B = np.array([[4, 5], [6, 7]])\n",
    "print(\"Premier array x :\\n\\n\", A)\n",
    "print(\"Deuxième array y :\\n\\n\", B, \"\\n\\n-----\\n\\n\")\n",
    "\n",
    "# --> Fait la multiplication des deux arrays.\n",
    "C = A * B  # ou également np.multiply(A, B)\n",
    "print(\"Résultat de l'opération A * B:\\n\\n \", C)"
   ]
  },
  {
   "cell_type": "markdown",
   "id": "b4a67c1a",
   "metadata": {},
   "source": [
    "Vous pouvez vérifier par vous-même que cette opération ne retourne en effet pas le produit matriciel de `A` et `B`.\n",
    "Nous verrons comment faire dans la prochaine section."
   ]
  },
  {
   "cell_type": "markdown",
   "id": "f6ab78f7",
   "metadata": {},
   "source": [
    "#### Les différentes divisions `/`, `//` et `%`"
   ]
  },
  {
   "cell_type": "code",
   "execution_count": 41,
   "id": "c2eaea12",
   "metadata": {},
   "outputs": [
    {
     "name": "stdout",
     "output_type": "stream",
     "text": [
      "Premier array x : [1 2 3 4]\n",
      "Deuxième array y : [ 4 10  5  3] \n",
      "\n",
      "-----\n",
      "\n",
      "\n",
      "Résultat de l'opération x / y :  [0.25       0.2        0.6        1.33333333]\n"
     ]
    }
   ],
   "source": [
    "# --> Crée deux arrays.\n",
    "x, y = np.array([1, 2, 3, 4]), np.array([4, 10, 5, 3])\n",
    "print(\"Premier array x :\", x)\n",
    "print(\"Deuxième array y :\", y, \"\\n\\n-----\\n\\n\")\n",
    "\n",
    "# --> Fait la division des deux arrays.\n",
    "z = x / y  # ou également np.multiply(x, y)\n",
    "print(\"Résultat de l'opération x / y : \", z)"
   ]
  },
  {
   "cell_type": "code",
   "execution_count": 42,
   "id": "07b2f66c",
   "metadata": {},
   "outputs": [
    {
     "name": "stdout",
     "output_type": "stream",
     "text": [
      "Premier array x : [1 2 3 4]\n",
      "Deuxième array y : [ 4 10  5  3] \n",
      "\n",
      "-----\n",
      "\n",
      "\n",
      "Résultat de l'opération x // y :  [0 0 0 1]\n"
     ]
    }
   ],
   "source": [
    "# --> Crée deux arrays.\n",
    "x, y = np.array([1, 2, 3, 4]), np.array([4, 10, 5, 3])\n",
    "print(\"Premier array x :\", x)\n",
    "print(\"Deuxième array y :\", y, \"\\n\\n-----\\n\\n\")\n",
    "\n",
    "# --> Fait la division entière des deux arrays.\n",
    "z = x // y\n",
    "print(\"Résultat de l'opération x // y : \", z)"
   ]
  },
  {
   "cell_type": "code",
   "execution_count": 43,
   "id": "8252e16d",
   "metadata": {},
   "outputs": [
    {
     "name": "stdout",
     "output_type": "stream",
     "text": [
      "Premier array x : [1 2 3 4]\n",
      "Deuxième array y : [ 4 10  5  3] \n",
      "\n",
      "-----\n",
      "\n",
      "\n",
      "Résultat de l'opération x % y :  [1 2 3 1]\n"
     ]
    }
   ],
   "source": [
    "# --> Crée deux arrays.\n",
    "x, y = np.array([1, 2, 3, 4]), np.array([4, 10, 5, 3])\n",
    "print(\"Premier array x :\", x)\n",
    "print(\"Deuxième array y :\", y, \"\\n\\n-----\\n\\n\")\n",
    "\n",
    "# --> Fait le modulo des deux arrays.\n",
    "z = x % y\n",
    "print(\"Résultat de l'opération x % y : \", z)"
   ]
  },
  {
   "cell_type": "markdown",
   "id": "17d2c43f",
   "metadata": {},
   "source": [
    "#### &#9888;&#9888;&#9888; Attention au broadcasting !\n",
    "\n",
    "Le terme de broadcasting décrit la façon dont numpy adapte deux objets scalaires ou ndarrays de géométrie différentes dans le but d’effectuer une opération entre elles.\n",
    "Chaque axe est comparé, allant du dernier au premier. Celui de plus petite dimension est broadcasté jusqu’à obtenir la même dimension que le plus grand. Ainsi nous obtenons 2 objets de géométrie identique.\n",
    "Pour plus de détails, vous pouvez vous reporter aux liens suivants [ici](https://enacit.epfl.ch/cours/python/scientifique/numpy.html#broadcasting) et [ici](https://numpy.org/doc/stable/user/basics.broadcasting.html)."
   ]
  },
  {
   "cell_type": "markdown",
   "id": "e45d0f3e",
   "metadata": {},
   "source": [
    "---\n",
    "\n",
    "### Universal Functions (ufunc)\n",
    "\n",
    "[Voir le cours]()"
   ]
  },
  {
   "cell_type": "markdown",
   "id": "93a5e200",
   "metadata": {},
   "source": [
    "---\n",
    "\n",
    "### L'algèbre linéaire avec NumPy\n",
    "\n",
    "L'un des intérêts principaux de NumPy est la possibilité qu'il offre de faire des calculs d'algèbre linéaire numérique tels que résoudre des systèmes d'équations ou rechercher les valeurs propres ou vecteurs propres d'une matrice.\n",
    "Pour cela, nous utiliserons un sous-module de NumPy appelé `linalg` (pour *linear algebra* en anglais).\n",
    "Dans la suite, nous importerons ce module comme montré ci-dessous."
   ]
  },
  {
   "cell_type": "code",
   "execution_count": 44,
   "id": "741e67d6",
   "metadata": {},
   "outputs": [],
   "source": [
    "import numpy.linalg as npl"
   ]
  },
  {
   "cell_type": "markdown",
   "id": "55c65b7d",
   "metadata": {},
   "source": [
    "Notez que le fait d'importer `numpy.linalg` en tant que `npl` est là pour simplifier l'appel aux fonctions dédiées.\n",
    "Si vous avez déjà importer `numpy` en tant que `np`, vous pouvez si vous le voulez remplacer tous les appels à `npl` par `np.linalg`."
   ]
  },
  {
   "cell_type": "markdown",
   "id": "95856f6f",
   "metadata": {},
   "source": [
    "#### Produit scalaire"
   ]
  },
  {
   "cell_type": "code",
   "execution_count": 45,
   "id": "9c78bb76",
   "metadata": {},
   "outputs": [
    {
     "name": "stdout",
     "output_type": "stream",
     "text": [
      "Résultat de np.vdot(x, y) : 0.6468918226057695\n"
     ]
    }
   ],
   "source": [
    "# --> Crée deux vecteurs de taille 5 avec des entrées aléatoires.\n",
    "x, y = np.random.randn(5), np.random.randn(5)\n",
    "\n",
    "# --> Produit scalaire\n",
    "c = np.vdot(x, y)\n",
    "\n",
    "print(\"Résultat de np.vdot(x, y) :\", c)"
   ]
  },
  {
   "cell_type": "markdown",
   "id": "6c6e3d66",
   "metadata": {},
   "source": [
    "#### Produit vectoriel"
   ]
  },
  {
   "cell_type": "code",
   "execution_count": 46,
   "id": "418c4eaf",
   "metadata": {},
   "outputs": [
    {
     "name": "stdout",
     "output_type": "stream",
     "text": [
      "Vecteurs dont on veut calculer le produit vectoriel :\n",
      "\n",
      "\n",
      "     x = [1 0 0]\n",
      "     y = [0 1 0] \n",
      "\n",
      "-----\n",
      "\n",
      "\n",
      "Résultat de np.cross(x, y) : [0 0 1]\n"
     ]
    }
   ],
   "source": [
    "# --> \n",
    "x, y = np.array([1, 0, 0]), np.array([0, 1, 0])\n",
    "print(\"Vecteurs dont on veut calculer le produit vectoriel :\\n\\n\")\n",
    "print(\"     x =\", x)\n",
    "print(\"     y =\", y, \"\\n\\n-----\\n\\n\")\n",
    "\n",
    "z = np.cross(x, y)\n",
    "print(\"Résultat de np.cross(x, y) :\", z)"
   ]
  },
  {
   "cell_type": "markdown",
   "id": "93767b89",
   "metadata": {},
   "source": [
    "#### Norme d'un vecteur `np.linalg.norm`"
   ]
  },
  {
   "cell_type": "code",
   "execution_count": 47,
   "id": "d16b1d01",
   "metadata": {},
   "outputs": [
    {
     "name": "stdout",
     "output_type": "stream",
     "text": [
      "Vecteur dont on cherche la norme : [ 1.63990341  1.2355228  -0.8924382  -0.95018394  0.33011242] \n",
      "\n",
      "-----\n",
      "\n",
      "\n",
      "Norme Euclidienne : 2.4543979806992535\n",
      "Norme L1 : 5.048160763660902\n"
     ]
    }
   ],
   "source": [
    "# --> Crée un vecteur aléatoire.\n",
    "x = np.random.randn(5)\n",
    "print(\"Vecteur dont on cherche la norme :\", x, \"\\n\\n-----\\n\\n\")\n",
    "\n",
    "# --> Norme Euclidienne (i.e. \\sqrt( x[0]^2 + x[1]^2 + ... + x[n]^2))\n",
    "euclidienne = npl.norm(x)\n",
    "print(\"Norme Euclidienne :\", euclidienne)\n",
    "\n",
    "# --> Norme ℓ1 (i.e. | x[0] | + | x[1] | + ... + | x[n] |)\n",
    "l1 = npl.norm(x, ord=1)\n",
    "print(\"Norme L1 :\", l1)"
   ]
  },
  {
   "cell_type": "markdown",
   "id": "594ab566",
   "metadata": {},
   "source": [
    "#### Produits matrice-vecteur et matrice-matrice"
   ]
  },
  {
   "cell_type": "code",
   "execution_count": 48,
   "id": "51bd5f9e",
   "metadata": {},
   "outputs": [
    {
     "name": "stdout",
     "output_type": "stream",
     "text": [
      "Premier array A :\n",
      "\n",
      " [[1 2]\n",
      " [3 4]]\n",
      "Deuxième array B :\n",
      "\n",
      " [[4 5]\n",
      " [6 7]] \n",
      "\n",
      "-----\n",
      "\n",
      "\n",
      "Résultat de l'opération A @ B:\n",
      "\n",
      "  [[16 19]\n",
      " [36 43]]\n"
     ]
    }
   ],
   "source": [
    "# --> Crée deux arrays.\n",
    "A = np.array([[1, 2], [3, 4]])\n",
    "B = np.array([[4, 5], [6, 7]])\n",
    "print(\"Premier array A :\\n\\n\", A)\n",
    "print(\"Deuxième array B :\\n\\n\", B, \"\\n\\n-----\\n\\n\")\n",
    "\n",
    "# --> Fait la multiplication matricielle.\n",
    "C = A @ B  # ou également np.dot(A, B)\n",
    "print(\"Résultat de l'opération A @ B:\\n\\n \", C)"
   ]
  },
  {
   "cell_type": "markdown",
   "id": "3f068015",
   "metadata": {},
   "source": [
    "#### Valeurs propres et vecteurs propres : `np.linalg.eigvals` et `np.eig`\n",
    "\n",
    "Les valeurs propres et vecteurs propres d'une matrice $\\mathbf{A}$ vérifient l'équation\n",
    "\n",
    "$$\n",
    "\\mathbf{Ax}_i = \\mathbf{x}_i \\lambda_i.\n",
    "$$\n",
    "\n",
    "De nombreuses analyses nécessitent de les calculer.\n",
    "NumPy fournit les fonctions `np.linalg.eigvals` (calcul des valeurs propres) et `np.linalg.eig` (calcul des valeurs propres ET des vecteurs propres) pour cela."
   ]
  },
  {
   "cell_type": "code",
   "execution_count": 49,
   "id": "b46043aa",
   "metadata": {},
   "outputs": [
    {
     "name": "stdout",
     "output_type": "stream",
     "text": [
      "Matrice dont on cherche les valeurs propres :\n",
      "\n",
      " [[1 2]\n",
      " [3 4]] \n",
      "\n",
      "----\n",
      "\n",
      "\n",
      "Valeurs propres : [-0.37228132  5.37228132]\n"
     ]
    }
   ],
   "source": [
    "# --> Définie la matrice.\n",
    "A = np.array([[1, 2], [3, 4]])\n",
    "print(\"Matrice dont on cherche les valeurs propres :\\n\\n\", A, \"\\n\\n----\\n\\n\")\n",
    "\n",
    "# --> Calcul des valeurs propres.\n",
    "valeurs_propres = npl.eigvals(A)\n",
    "print(\"Valeurs propres :\", valeurs_propres)"
   ]
  },
  {
   "cell_type": "code",
   "execution_count": 50,
   "id": "faba78fa",
   "metadata": {},
   "outputs": [
    {
     "name": "stdout",
     "output_type": "stream",
     "text": [
      "Matrice dont on cherche les valeurs propres et vecteurs propres :\n",
      "\n",
      " [[ 0  1]\n",
      " [-1  1]] \n",
      "\n",
      "----\n",
      "\n",
      "\n",
      "Valeurs propres : [0.5+0.8660254j 0.5-0.8660254j] \n",
      "\n",
      "\n",
      "Matrice des vecteurs propres :\n",
      "\n",
      " [[0.70710678+0.j         0.70710678-0.j        ]\n",
      " [0.35355339+0.61237244j 0.35355339-0.61237244j]]\n"
     ]
    }
   ],
   "source": [
    "# --> Définie la matrice.\n",
    "A = np.array([[0, 1], [-1, 1]])\n",
    "print(\"Matrice dont on cherche les valeurs propres et vecteurs propres :\\n\\n\", A, \"\\n\\n----\\n\\n\")\n",
    "\n",
    "# --> Calcul des valeurs propres et des vecteurs propres.\n",
    "valeurs_propres, vecteurs_propres = npl.eig(A)\n",
    "print(\"Valeurs propres :\", valeurs_propres, \"\\n\\n\")\n",
    "print(\"Matrice des vecteurs propres :\\n\\n\", vecteurs_propres)"
   ]
  },
  {
   "cell_type": "markdown",
   "id": "8d0e7f5b",
   "metadata": {},
   "source": [
    "Les vecteurs propres d'une matrice sont définis à une amplitude près.\n",
    "Par convention, NumPy normalise chaque vecteur propre de façon à ce que sa norme soit égale à 1."
   ]
  },
  {
   "cell_type": "markdown",
   "id": "e5240b7b",
   "metadata": {},
   "source": [
    "#### Inverse d'une matrice : `np.linalg.inv`"
   ]
  },
  {
   "cell_type": "code",
   "execution_count": 51,
   "id": "8c2a416d",
   "metadata": {},
   "outputs": [
    {
     "name": "stdout",
     "output_type": "stream",
     "text": [
      "Matirce dont on cherche l'inverse :\n",
      "\n",
      " [[1 2]\n",
      " [3 4]] \n",
      "\n",
      "-----\n",
      "\n",
      "\n",
      "Résultat de inv(A) :\n",
      "\n",
      "  [[-2.   1. ]\n",
      " [ 1.5 -0.5]] \n",
      "\n",
      "\n",
      "Verificiation que A @ B = I :\n",
      "\n",
      " [[1.00000000e+00 1.11022302e-16]\n",
      " [0.00000000e+00 1.00000000e+00]]\n"
     ]
    }
   ],
   "source": [
    "# --> Crée d'une matrice (array 2D).\n",
    "A = np.array([[1, 2], [3, 4]])\n",
    "print(\"Matirce dont on cherche l'inverse :\\n\\n\", A, \"\\n\\n-----\\n\\n\")\n",
    "\n",
    "# --> Calcul de l'inverse.\n",
    "B = npl.inv(A)\n",
    "print(\"Résultat de inv(A) :\\n\\n \", B, \"\\n\\n\")\n",
    "print(\"Verificiation que A @ B = I :\\n\\n\", A @ B)"
   ]
  },
  {
   "cell_type": "markdown",
   "id": "c004ca7b",
   "metadata": {},
   "source": [
    "#### Résolution de systèmes linéaires : `np.linalg.solve`\n",
    "\n",
    "Il arrive souvent d'avoir à résoudre des systèmes linéaires du type\n",
    "\n",
    "$$\n",
    "\\mathbf{Ax} = \\mathbf{b}\n",
    "$$\n",
    "\n",
    "avec $\\mathbf{A} \\in \\mathbb{R}^{n \\times n}$, $\\mathbf{b} \\in \\mathbb{R}^n$ et $\\mathbf{x} \\in \\mathbb{R}^n$) ($\\mathbb{R}$ peut également être remplacé par $\\mathbb{C}$).\n",
    "La solution à cette équation est donnée par\n",
    "\n",
    "$$\n",
    "\\mathbf{x} = \\mathbf{A}^{-1}\\mathbf{b}.\n",
    "$$\n",
    "\n",
    "On pourrait évidemment résoudre cette équation de la façon suivante\n",
    "\n",
    "```\n",
    "# --> Calcul de l'inverse.\n",
    "Ainv = np.linalg.inv(A)\n",
    "\n",
    "# --> Calcul de la solution.\n",
    "x = Ainv @ b\n",
    "```\n",
    "\n",
    "Il est néanmoins fortement déconseillé de faire comme cela.\n",
    "En effet, dans le cas général, le calcul de l'inverse d'une matrice de taille $n \\times n$ nécessite $n^3$ opérations, un nombre qui peut devenir réellement astronomique.\n",
    "A la place, il existe de très nombreux algorithmes qui peuvent être utilisés pour résoudre directement le problème sans avoir à nécessairement calculer l'inverse de la matrice : la [décomposition LU](https://fr.wikipedia.org/wiki/D%C3%A9composition_LU) pour une matrice générale, la [décomposition de Cholesky](https://fr.wikipedia.org/wiki/Factorisation_de_Cholesky) pour des matrices $\\mathbf{A}$ symétriques définies positives, etc.\n",
    "NumPy propose alors une interface unifiée via la fonction `np.linalg.solve(A, b)` comme illustré ci-après pour le problème suivant\n",
    "\n",
    "$$\n",
    "\\left\\{\n",
    "\\begin{aligned}\n",
    "    2x + y & = 3 \\\\\n",
    "    x + y & = 2\n",
    "\\end{aligned}\n",
    "\\right.\n",
    "$$\n",
    "\n",
    "dont la solution est donnée par le vecteur $\\mathbf{x} = \\begin{bmatrix} 1 & 1 \\end{bmatrix}^T$."
   ]
  },
  {
   "cell_type": "code",
   "execution_count": 52,
   "id": "962969c5",
   "metadata": {},
   "outputs": [
    {
     "name": "stdout",
     "output_type": "stream",
     "text": [
      "Solution du problème obtenue par NumPy x : [1. 1.]\n"
     ]
    }
   ],
   "source": [
    "# --> Matrice et terme de droite.\n",
    "A = np.array([[2, 1], [1, 1]])\n",
    "b = np.array([3, 2])\n",
    "\n",
    "# --> Solution du problème.\n",
    "x = npl.solve(A, b)\n",
    "print(\"Solution du problème obtenue par NumPy x :\", x)"
   ]
  },
  {
   "cell_type": "markdown",
   "id": "bd09d498",
   "metadata": {},
   "source": [
    "---\n",
    "----\n",
    "\n",
    "## Pour aller plus loin\n",
    "\n",
    "En plus des aspects algèbre linéaire numérique, NumPy offre des fonctionalités de base pour générer des nombres aléatoires grâce au module `numpy.random` ainsi que pour faire des transformées de Fourier nécessaires pour le traitement du signal ou des images par exemple via le module `numpy.fft`.\n",
    "Pour des contraintes de temps, il ne nous sera pas possible d'explorer les possibilités offertes par ces deux modules.\n",
    "Je vous encourage très fortement à aller regarder la documentation NumPy associée pour vous faire une idée de ce qu'il est possible de faire avec."
   ]
  },
  {
   "cell_type": "markdown",
   "id": "488f2ff4",
   "metadata": {},
   "source": [
    "---\n",
    "---\n",
    "<div class=\"alert alert-block alert-danger\">\n",
    "    <h2>Exercices notés</h2>\n",
    "</div>\n",
    "\n",
    "Vous trouverez ci-dessous une liste d'exercices.\n",
    "Il est peu probable que vous ayez le temps de les faire pendant la séance.\n",
    "Il s'agit donc essentiellement d'exercices à faire chez vous.\n",
    "Attention, même si ils ne rentrent pas en compte dans votre note finale, ces exercices seront notés!\n",
    "Cette note de TP sera utilisée pour juger en votre faveur ou défaveur si jamais il venait à vous manquer quelques points pour valider.\n",
    "**Ces exercices sont également des exemples de ce qui pourrait vous attendre le jour de l'examen.**\n",
    "A vous de voir à quel point vous êtes joueur/joueuse..."
   ]
  },
  {
   "cell_type": "code",
   "execution_count": null,
   "id": "eb9074d4",
   "metadata": {},
   "outputs": [],
   "source": []
  }
 ],
 "metadata": {
  "@webio": {
   "lastCommId": null,
   "lastKernelId": null
  },
  "celltoolbar": "Create Assignment",
  "kernelspec": {
   "display_name": "Python 3",
   "language": "python",
   "name": "python3"
  },
  "language_info": {
   "codemirror_mode": {
    "name": "ipython",
    "version": 3
   },
   "file_extension": ".py",
   "mimetype": "text/x-python",
   "name": "python",
   "nbconvert_exporter": "python",
   "pygments_lexer": "ipython3",
   "version": "3.8.8"
  }
 },
 "nbformat": 4,
 "nbformat_minor": 5
}
