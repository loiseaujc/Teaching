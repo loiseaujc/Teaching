{
 "cells": [
  {
   "cell_type": "markdown",
   "metadata": {},
   "source": [
    "<img src=\"https://assets.ensam.eu/logo/fr/logo-trans-322x84.png\" width=\"256px\" align=\"left\"/>"
   ]
  },
  {
   "cell_type": "markdown",
   "metadata": {},
   "source": [
    "Avant de me rendre votre notebook, assurez-vous que tout tourne comme attendu.\n",
    "Pour cela, **redémarrer le kernel** (dans la barre de menu, selectionnez *Kernel $\\rightarrow$ Restart*) et ensuite **exécutez toutes les cellules** (dans la barre de menu, selectionnez *Cellules $\\rightarrow$ Exécuter toutes les cellules*).\n",
    "\n",
    "Assurez-vous par ailleurs d'avoir écrit votre code partout où il est dit `YOUR CODE HERE` ainsi que les réponses libres où il est écrit \"YOUR ANSWER HERE\".\n",
    "Enfin, rentrez votre nom et celui des personnes avec qui vous avez travaillés ci-dessous."
   ]
  },
  {
   "cell_type": "code",
   "execution_count": 1,
   "metadata": {},
   "outputs": [],
   "source": [
    "NAME = \"\"\n",
    "COLLABORATORS = \"\""
   ]
  },
  {
   "cell_type": "markdown",
   "metadata": {},
   "source": [
    "---"
   ]
  }
 ],
 "metadata": {
  "kernelspec": {
   "display_name": "Python 3 (ipykernel)",
   "language": "python",
   "name": "python3"
  },
  "language_info": {
   "codemirror_mode": {
    "name": "ipython",
    "version": 3
   },
   "file_extension": ".py",
   "mimetype": "text/x-python",
   "name": "python",
   "nbconvert_exporter": "python",
   "pygments_lexer": "ipython3",
   "version": "3.8.11"
  }
 },
 "nbformat": 4,
 "nbformat_minor": 1
}
