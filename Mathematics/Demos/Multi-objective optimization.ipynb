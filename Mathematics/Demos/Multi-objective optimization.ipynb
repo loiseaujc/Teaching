{
 "cells": [
  {
   "cell_type": "code",
   "execution_count": 8,
   "id": "57579704",
   "metadata": {},
   "outputs": [],
   "source": [
    "import numpy as np\n",
    "from scipy.linalg import inv, pinv\n",
    "\n",
    "import matplotlib.pyplot as plt\n",
    "\n",
    "# --> SciPy utility functions for discrete-time linear systems.\n",
    "from scipy.signal import dlti, dlsim"
   ]
  },
  {
   "cell_type": "markdown",
   "id": "dff58683",
   "metadata": {},
   "source": [
    "# Revisiting the open-loop control problem\n",
    "\n",
    "In this notebook, we'll revisit the open-loop control problem already explored before.\n",
    "Remember, we consider the problem of moving a frictionless mobile of unit mass initially resting at $x = 0$ to the position $x = 1$ with $v = 0$ by time $t = \\tau$.\n",
    "The governing equations are given by\n",
    "\n",
    "$$\n",
    "\\begin{aligned}\n",
    "    \\dot{x} & = v \\\\\n",
    "    \\dot{v} & = u\n",
    "\\end{aligned}\n",
    "$$\n",
    "\n",
    "where $x(t)$ is the position of the mobile, $v(t)$ its velocity and $u(t)$ the control input we aim to design.\n",
    "For the sake of simplicity, we'll assume that $u(t)$ is piecewise constant over a small time-interval $\\Delta t$.\n",
    "As before, doing so enables us to approximate the continuous time system with the following discrete-time one\n",
    "\n",
    "$$\n",
    "\\begin{bmatrix}\n",
    "x_{k+1} \\\\ v_{k+1}\n",
    "\\end{bmatrix}\n",
    "=\n",
    "\\begin{bmatrix}\n",
    "1 & \\Delta t \\\\\n",
    "0 & 1\n",
    "\\end{bmatrix}\n",
    "\\begin{bmatrix}\n",
    "x_{k} \\\\ v_{k}\n",
    "\\end{bmatrix}\n",
    "+\n",
    "\\begin{bmatrix}\n",
    "0 \\\\ \\Delta t\n",
    "\\end{bmatrix}\n",
    "u_k.\n",
    "$$\n",
    "\n",
    "This system is of the general form\n",
    "\n",
    "$$\n",
    "\\begin{aligned}\n",
    "    \\mathbf{x}_{k+1} & = \\mathbf{Ax}_k + \\mathbf{Bu}_k \\\\\n",
    "    \\mathbf{y}_k & = \\mathbf{Cx}_k + \\mathbf{Du}_k\n",
    "\\end{aligned}\n",
    "$$\n",
    "\n",
    "where $\\mathbf{x} \\in \\mathbb{R}^2$ is the state of the system and $\\mathbf{A} \\in \\mathbb{R}^{2 \\times 2}$ is the dynamics matrix.\n",
    "The matrices $\\mathbf{B} \\in \\mathbb{R}^{2 \\times 1}$, $\\mathbf{C} \\in \\mathbb{R}^{2 \\times 2}$ and $\\mathbf{D} \\in \\mathbb{R}^{2 \\times 1}$ are the **input-to-state**, **state-to-output** and **input-to-output** matrices.\n",
    "For the sake of simplicity, we'll assume that\n",
    "- $\\mathbf{C} = \\mathbf{I}_{2 \\times 2}$ : we measure both the position and velocity at every time step.\n",
    "- $\\mathbf{D} = \\mathbf{0}_{2 \\times 1}$ : the input $u$ has no direct influence on our measurements.\n",
    "\n",
    "We'll also assume that $\\Delta t = 0.01$ non-dimensional time-unit.\n",
    "The function below builds these matrices."
   ]
  },
  {
   "cell_type": "code",
   "execution_count": 9,
   "id": "cd61a432",
   "metadata": {},
   "outputs": [],
   "source": [
    "def build_system_matrices(Δt):\n",
    "    # --> Dynamics matrix.\n",
    "    A = np.array([[1.0, Δt], [0, 1]])\n",
    "    \n",
    "    # --> Input-to-state matrix.\n",
    "    B = np.array([[0.0], [Δt]])\n",
    "    \n",
    "    # --> Measurement matrix (state-to-output)\n",
    "    C = np.eye(2)\n",
    "    \n",
    "    # --> Input-to-output matrix.\n",
    "    D = np.zeros((2, 1))\n",
    "    \n",
    "    return A, B, C\n",
    "\n",
    "# --> Time-step discretization.\n",
    "Δt = 0.01\n",
    "\n",
    "# --> Get the matrices describing the system.\n",
    "A, B, C = build_system_matrices(Δt)"
   ]
  },
  {
   "cell_type": "markdown",
   "id": "3f499e48",
   "metadata": {},
   "source": [
    "Starting from $\\mathbf{x} = \\begin{bmatrix} 0 & 0 \\end{bmatrix}^T$ at $t = 0$, our goal is to drive the system such that the output $\\mathbf{y}$ at time $t = \\tau$ is equal to\n",
    "\n",
    "$$\n",
    "\\mathbf{y}(\\tau) = \\mathbf{Cx}(\\tau) = \\begin{bmatrix} 1 \\\\ 0 \\end{bmatrix}.\n",
    "$$\n",
    "\n",
    "The cell below implements this final condition."
   ]
  },
  {
   "cell_type": "code",
   "execution_count": 10,
   "id": "0d632d60",
   "metadata": {},
   "outputs": [],
   "source": [
    "# --> Final position to reach.\n",
    "y_end = np.array([1.0, 0.0])"
   ]
  },
  {
   "cell_type": "markdown",
   "id": "8af7f80d",
   "metadata": {},
   "source": [
    "Since we assume $u(t)$ to be piecewise constant, i.e. $u(t)$ is constant over intervals of size $\\Delta t$, we have $N = \\tau / \\Delta t$ values to determine.\n",
    "Our control knob is thus a vector $\\mathbf{u}$ of dimension $N \\times 1$.\n",
    "In order to formulate our control problem as an underdetermined system, we need find a mapping from this control sequence $\\mathbf{u}$ to the final condition $\\mathbf{y}(\\tau) = \\mathbf{y}(N \\Delta t) = \\mathbf{y}_N$, i.e.\n",
    "\n",
    "$$\n",
    "\\mathbf{y}_N = \\mathbf{Hu}\n",
    "$$\n",
    "\n",
    "with $\\mathbf{H} \\in \\mathbb{R}^{2 \\times N}$.\n",
    "The question is thus **how to determine this matrix** $\\mathbf{H}$?\n",
    "\n",
    "To do so, let us consider the first few evolution steps.\n",
    "Starting from $\\mathbf{x}_0 = \\mathbf{0}$, we can write\n",
    "\n",
    "$$\n",
    "\\begin{aligned}\n",
    "& \\mathbf{x}_1 = \\mathbf{Ax}_0 + \\mathbf{B}u_0 = \\mathbf{B}u_0 \\quad \\text{and} \\quad \\mathbf{y}_1 = \\mathbf{Cx}_1 = \\mathbf{CB}u_0 \\\\\n",
    "& \\mathbf{x}_2 = \\mathbf{Ax}_1 + \\mathbf{B}u_1 = \\mathbf{AB}u_0 + \\mathbf{B}u_1 \\quad \\text{and} \\quad \\mathbf{y}_2 = \\mathbf{Cx}_2 = \\mathbf{CAB}u_0 + \\mathbf{CB}u_1 \\\\\n",
    "& \\mathbf{x}_3 = \\mathbf{Ax}_2 + \\mathbf{B}u_2 = \\mathbf{A}^2 \\mathbf{B}u_0 + \\mathbf{AB}u_1 + \\mathbf{B}u_2 \\quad \\text{and} \\quad \\mathbf{y}_3 = \\mathbf{Cx}_3 = \\mathbf{CA}^2 \\mathbf{B}u_0 + \\mathbf{CAB}u_1 + \\mathbf{CB}u_2\n",
    "\\end{aligned}\n",
    "$$\n",
    "\n",
    "From there, it is easy to see that\n",
    "\n",
    "$$\n",
    "\\mathbf{y}_N = \\sum_{k=1}^N \\mathbf{CA}^{k-1} \\mathbf{B}u_{k-1}.\n",
    "$$\n",
    "\n",
    "Alternatively, this can be written as\n",
    "\n",
    "$$\n",
    "\\mathbf{y}_N = \\mathbf{Hu}\n",
    "$$\n",
    "\n",
    "where the k<sup>th</sup> column of $\\mathbf{H}$ is given by $\\mathbf{H}_k = \\mathbf{CA}^{k-1}\\mathbf{B}$.\n",
    "This matrix is computed below."
   ]
  },
  {
   "cell_type": "code",
   "execution_count": 11,
   "id": "5797958b",
   "metadata": {},
   "outputs": [],
   "source": [
    "# --> Time to reach + number of time-steps to take.\n",
    "τ = 1.0\n",
    "N = int(τ / Δt)\n",
    "\n",
    "# --> Construct the input-to-state matrix.\n",
    "H = np.hstack([C @ np.linalg.matrix_power(A, k-1) @ B for k in range(1, N+1)])[:, ::-1]"
   ]
  },
  {
   "cell_type": "markdown",
   "id": "5f55b6d8",
   "metadata": {},
   "source": [
    "We now have everything we need to design our control.\n",
    "While we explored the influence of the norm on the control sequence in the previous notebook, we'll now consider a multi-objective problem.\n",
    "Not only will we try to find the energy-optimal input sequence $\\mathbf{u}$ but we'll also try to optimize its smoothness.\n",
    "Doing so will ensure that the mobile does not experience acceleration shocks, ensuring a more pleasant ride for the passengers."
   ]
  },
  {
   "cell_type": "markdown",
   "id": "61f37c1c",
   "metadata": {},
   "source": [
    "## Exercise n°1: Energy-optimal control\n",
    "\n",
    "Let us once again consider the energy-optimal control.\n",
    "The corresponding minimization problem is as follows\n",
    "\n",
    "$$\n",
    "\\begin{aligned}\n",
    "\\textrm{minimize} \\quad & \\dfrac{1}{2} \\sum_{k=0}^{N-1} u_i^2 \\\\\n",
    "\\textrm{subject to} \\quad & \\mathbf{Hu} = \\mathbf{y}_N.\n",
    "\\end{aligned}\n",
    "$$\n",
    "\n",
    "In the rest, **we will not use `cvxpy`**.\n",
    "Instead, we'll compute the solution analytically.\n",
    "\n",
    "---\n",
    "\n",
    "**Task:** Write down the analytic solution of this optimization problem.\n",
    "\n",
    "<u>Hint:</u> Rewrite the objective function in terms of the Euclidean norm of the vector $\\mathbf{u} \\in \\mathbb{R}^n$.\n",
    "\n",
    "---\n",
    "\n",
    "The cell below implements the computation of this energy-optimal control and simulate the corresponding evolution of the system."
   ]
  },
  {
   "cell_type": "code",
   "execution_count": 12,
   "id": "572603f7",
   "metadata": {},
   "outputs": [],
   "source": [
    "def simulate(u):\n",
    "    # --> Define the system.\n",
    "    dynsys = dlti(A, B, C, np.zeros((2, 1)))\n",
    "\n",
    "    # --> Simulation the system with the control sequence just computed.\n",
    "    u = np.append(u, 0)\n",
    "    steps, y, x = dlsim(dynsys, u)\n",
    "    \n",
    "    return steps, x, u\n",
    "\n",
    "# --> Compute the energy-optimal solution (i.e. least-norm solution).\n",
    "u_eopt = pinv(H) @ y_end\n",
    "\n",
    "# -->\n",
    "steps, x_eopt, u_eopt = simulate(u_eopt)"
   ]
  },
  {
   "cell_type": "code",
   "execution_count": 13,
   "id": "9b6d4c76",
   "metadata": {},
   "outputs": [
    {
     "data": {
      "text/plain": [
       "[Text(0, 0.5, 'Position'), (0.0, 1.0)]"
      ]
     },
     "execution_count": 13,
     "metadata": {},
     "output_type": "execute_result"
    },
    {
     "data": {
      "image/png": "[encoded data removed]",
      "text/plain": [
       "<Figure size 648x432 with 3 Axes>"
      ]
     },
     "metadata": {
      "needs_background": "light"
     },
     "output_type": "display_data"
    }
   ],
   "source": [
    "fig, ax = plt.subplots(3, 1, sharex=True, figsize=(9, 6))\n",
    "\n",
    "ax[0].step(Δt*steps, u_eopt)\n",
    "ax[0].set(ylabel=\"Control\")\n",
    "\n",
    "ax[1].step(Δt*steps, x_eopt[:, 1])\n",
    "ax[1].set(ylabel=\"Velocity\")\n",
    "\n",
    "\n",
    "ax[2].step(Δt*steps, x_eopt[:, 0])\n",
    "ax[2].set(ylabel=\"Position\", xlim=(0, τ))"
   ]
  },
  {
   "cell_type": "markdown",
   "id": "79742783",
   "metadata": {},
   "source": [
    "Although the control achieves the desired goal, i.e. moving the mass from the rest position $x=0$ to $x=1$, the begining and the end of the ride might be unpleasant for passengers.\n",
    "The acceleration (here directly $u$) initally goes from $u=0$ to $u \\simeq 5$ over a small interval of time $\\Delta t$.\n",
    "Similarly, at the end of the ride, it goes from $u \\simeq -5$ to $u=0$ over a the same time interval.\n",
    "In the next exercise, we'll explore how to formulate an optimization problem to obtain a control sequence gradually increasing and decreasing over time.\n",
    "\n",
    "## Exercise n°2: A smoother control\n",
    "\n",
    "Rather than optimizing the energy efficiency of the control, we can optimize for its smoothness.\n",
    "The resulting optimization problem can be formulated as\n",
    "\n",
    "$$\n",
    "\\begin{aligned}\n",
    "    \\textrm{maximize} \\quad & \\dfrac{1}{2} \\| \\mathbf{Du} \\|_2 \\\\\n",
    "    \\textrm{subject to} \\quad & \\mathbf{Hu} = \\mathbf{y}_N\n",
    "\\end{aligned}\n",
    "$$\n",
    "\n",
    "where $\\| \\mathbf{Du} \\|$ is a measure of the smoothness of the control sequence $\\mathbf{u}$.\n",
    "You can safely assume that $u[k] = 0$ for $k < 0$ and $k \\geq N$.\n",
    "\n",
    "---\n",
    "\n",
    "**Task : Optimizing for the smoothness** \n",
    "\n",
    "- How would you define the matrix $\\mathbf{D}$ ? Justify your choice in a few words.\n",
    "- Write down the analytic solution to this optimization problem.\n",
    "\n",
    "---\n",
    "\n",
    "You now need to implement your solution below."
   ]
  },
  {
   "cell_type": "code",
   "execution_count": 14,
   "id": "ce938553",
   "metadata": {},
   "outputs": [],
   "source": [
    "# --> Definition of the D matrix.\n",
    "D = D = np.eye(N+1, N, k=0) - np.eye(N+1, N, k=-1)"
   ]
  },
  {
   "cell_type": "code",
   "execution_count": 15,
   "id": "785cdbbd",
   "metadata": {},
   "outputs": [],
   "source": [
    "# --> Computation of the smooth-optimal solution\n",
    "u_sopt = inv(D.T @ D) @ H.T @ inv( H @ inv(D.T @ D) @ H.T) @ y_end"
   ]
  },
  {
   "cell_type": "code",
   "execution_count": 16,
   "id": "b8d0c9fc",
   "metadata": {},
   "outputs": [],
   "source": [
    "# --> Simulate the evolution of the system given this control law.\n",
    "_, x_sopt, u_sopt = simulate(u_sopt)"
   ]
  },
  {
   "cell_type": "code",
   "execution_count": 17,
   "id": "afff6abc",
   "metadata": {},
   "outputs": [
    {
     "data": {
      "text/plain": [
       "[Text(0, 0.5, 'Position'), (0.0, 1.0)]"
      ]
     },
     "execution_count": 17,
     "metadata": {},
     "output_type": "execute_result"
    },
    {
     "data": {
      "image/png": "[encoded data removed]",
      "text/plain": [
       "<Figure size 648x432 with 3 Axes>"
      ]
     },
     "metadata": {
      "needs_background": "light"
     },
     "output_type": "display_data"
    }
   ],
   "source": [
    "# --> Plot the evolution of the system.\n",
    "fig, ax = plt.subplots(3, 1, sharex=True, figsize=(9, 6))\n",
    "\n",
    "ax[0].step(Δt*steps, u_eopt, label=\"Energy-optimal\")\n",
    "ax[0].step(Δt*steps, u_sopt, label=\"Smooth-optimal\")\n",
    "ax[0].set(ylabel=\"Control\")\n",
    "ax[0].legend(loc=\"lower center\", bbox_to_anchor=(0.5, 1.1),ncol=2)\n",
    "\n",
    "ax[1].step(Δt*steps, x_eopt[:, 1])\n",
    "ax[1].step(Δt*steps, x_sopt[:, 1])\n",
    "ax[1].set(ylabel=\"Velocity\")\n",
    "\n",
    "\n",
    "ax[2].step(Δt*steps, x_eopt[:, 0])\n",
    "ax[2].step(Δt*steps, x_sopt[:, 0])\n",
    "ax[2].set(ylabel=\"Position\", xlim=(0, τ))"
   ]
  },
  {
   "cell_type": "code",
   "execution_count": 18,
   "id": "8aec628e",
   "metadata": {},
   "outputs": [
    {
     "name": "stdout",
     "output_type": "stream",
     "text": [
      "Energy ratio between the s-optimal and e-optimal control: 1.387778412335775\n"
     ]
    }
   ],
   "source": [
    "print(\"Energy ratio between the s-optimal and e-optimal control:\", np.linalg.norm(u_sopt)**2 / np.linalg.norm(u_eopt)**2)"
   ]
  },
  {
   "cell_type": "markdown",
   "id": "674911f5",
   "metadata": {},
   "source": [
    "As expected, the control law now computed leads to a smoother ride than the energy-optimal one.\n",
    "In particular, the acceleration gradually increases (resp. decreases) as the mobile starts (resp. stops) moving.\n",
    "It thus no longer experiences jerk.\n",
    "To achieve this goal, we however need 40% more energy than before.\n",
    "\n",
    "## Exercise n°3: Balancing the two\n",
    "\n",
    "Our goal is now to simultaneously optimize for the energy efficiency and smoothness of the control.\n",
    "This is a multi-objective optimization problem which can be formulated as follows\n",
    "\n",
    "$$\n",
    "\\begin{aligned}\n",
    "    \\textrm{maximize} \\quad & \\| \\mathbf{Du} \\|_2^2 + \\lambda \\| \\mathbf{u} \\|_2^2 \\\\\n",
    "    \\textrm{subject to} \\quad & \\mathbf{Hu} = \\mathbf{y}_N,\n",
    "\\end{aligned}\n",
    "$$\n",
    "\n",
    "where $\\lambda \\in \\mathbb{R}_+$ is a positive real number controlling the trade-off between the two objectives.\n",
    "\n",
    "**Task : Multi-objective optimization**\n",
    "\n",
    "- Write down the analytic solution to this optimization problem.   \n",
    "- Implement a `python` function named `pareto_optimal` taking as input a particular value for $\\lambda$ and returning the corresponding Pareto-optimal solution.\n",
    "\n",
    "- Plot the graph $\\| \\mathbf{Du} \\|$ vs. $\\| \\mathbf{u} \\|$ as you vary $\\lambda$ in the interval $\\left[0, 1\\right]$.\n",
    "\n",
    "---"
   ]
  },
  {
   "cell_type": "code",
   "execution_count": 22,
   "id": "510f0c20",
   "metadata": {},
   "outputs": [],
   "source": [
    "def pareto_optimal(λ):\n",
    "    u = inv(D.T @ D + λ * np.eye(N)) @ H.T @ inv( H @ inv(D.T @ D + λ * np.eye(N)) @ H.T) @ y_end\n",
    "    return u"
   ]
  },
  {
   "cell_type": "code",
   "execution_count": 23,
   "id": "613c52ba",
   "metadata": {},
   "outputs": [],
   "source": [
    "# --> Possible values of λ\n",
    "λs = np.logspace(-6, 1, 32)\n",
    "\n",
    "# --> Compute all the solutions for the set of λs.\n",
    "us = np.array([pareto_optimal(λ) for λ in λs]).T\n",
    "\n",
    "# --> Compute the corresponding energy and \"smoothness\" of the control laws.\n",
    "energy = np.linalg.norm(us, axis=0)\n",
    "smoothness = np.linalg.norm( D @ us, axis=0)"
   ]
  },
  {
   "cell_type": "code",
   "execution_count": 24,
   "id": "e173ca55",
   "metadata": {},
   "outputs": [
    {
     "data": {
      "image/png": "[encoded data removed]",
      "text/plain": [
       "<Figure size 648x216 with 1 Axes>"
      ]
     },
     "metadata": {
      "needs_background": "light"
     },
     "output_type": "display_data"
    }
   ],
   "source": [
    "# --> Plot the pareto frontier.\n",
    "fig, ax = plt.subplots(1, 1, figsize=(9, 3))\n",
    "\n",
    "ax.plot(energy, smoothness, \"-o\")\n",
    "\n",
    "ax.set(xlabel=\"Energy || u ||\", ylabel=\"Smoothness || Du ||\");"
   ]
  },
  {
   "cell_type": "code",
   "execution_count": 31,
   "id": "3f294f57",
   "metadata": {},
   "outputs": [
    {
     "name": "stdout",
     "output_type": "stream",
     "text": [
      "2-norm of the solution : 36.31755012382812\n",
      "S-norm of the solution : 3.3230060801506656\n",
      "Energy ratio between the p-optimal and e-optimal control: 1.0990271254600565\n",
      "Smoothness ratio between the p-optimal and e-optimal control: 0.15335090516357547\n"
     ]
    }
   ],
   "source": [
    "# --> Compute the solution that best balances the two objectives.\n",
    "u_popt = pareto_optimal(0.05)\n",
    "print(\"2-norm of the solution :\", np.linalg.norm(u_popt))\n",
    "print(\"S-norm of the solution :\", np.linalg.norm(D @ u_popt))\n",
    "print(\"Energy ratio between the p-optimal and e-optimal control:\", np.linalg.norm(u_popt)**2 / np.linalg.norm(u_eopt)**2)\n",
    "print(\"Smoothness ratio between the p-optimal and e-optimal control:\", np.linalg.norm(D @ u_popt)**2 / np.linalg.norm(D @ u_eopt[:-1])**2)\n",
    "\n",
    "_, x_popt, u_popt = simulate(u_popt)"
   ]
  },
  {
   "cell_type": "markdown",
   "id": "6ac5ecbc",
   "metadata": {},
   "source": [
    "If you implemented correctly your solution, you should observe that the *Pareto-optimal* solution only requires 10% more energy than the energy-optimal one while being significantly smoother ($1/0.15 \\simeq 6.6$ times smoother).\n",
    "Let's now plot these solutions."
   ]
  },
  {
   "cell_type": "code",
   "execution_count": 32,
   "id": "d17f789f",
   "metadata": {},
   "outputs": [
    {
     "data": {
      "text/plain": [
       "[Text(0, 0.5, 'Position'), (0.0, 1.0)]"
      ]
     },
     "execution_count": 32,
     "metadata": {},
     "output_type": "execute_result"
    },
    {
     "data": {
      "image/png": "[encoded data removed]",
      "text/plain": [
       "<Figure size 648x432 with 3 Axes>"
      ]
     },
     "metadata": {
      "needs_background": "light"
     },
     "output_type": "display_data"
    }
   ],
   "source": [
    "fig, ax = plt.subplots(3, 1, sharex=True, figsize=(9, 6))\n",
    "\n",
    "ax[0].step(Δt*steps, u_eopt, label=\"Energy-optimal\")\n",
    "ax[0].step(Δt*steps, u_sopt, label=\"Smooth-optimal\")\n",
    "ax[0].step(Δt*steps, u_popt, label=\"Pareto-optimal\")\n",
    "ax[0].set(ylabel=\"Control\")\n",
    "ax[0].legend(loc=\"lower center\", bbox_to_anchor=(0.5, 1.1), ncol=3)\n",
    "\n",
    "ax[1].step(Δt*steps, x_eopt[:, 1])\n",
    "ax[1].step(Δt*steps, x_sopt[:, 1])\n",
    "ax[1].step(Δt*steps, x_popt[:, 1])\n",
    "ax[1].set(ylabel=\"Velocity\")\n",
    "\n",
    "ax[2].step(Δt*steps, x_eopt[:, 0])\n",
    "ax[2].step(Δt*steps, x_sopt[:, 0])\n",
    "ax[2].step(Δt*steps, x_popt[:, 0])\n",
    "ax[2].set(ylabel=\"Position\", xlim=(0, τ))"
   ]
  },
  {
   "cell_type": "markdown",
   "id": "d1b27510",
   "metadata": {},
   "source": [
    "As you can see, the Pareto-optimal control law still increases (resp. decreases) gradually as the mobile starts (resp. stops) to move.\n",
    "It does so however at a steeper rate.\n",
    "During the rest of the ride, it follows relatively closely the energy-optimal solution.\n",
    "Note that this is only one solution for a given value of $\\lambda$.\n",
    "Depending on your application, your passengers or device might accomodate for larger or smaller values of the jerk (i.e. the time-derivative of the acceleration).\n",
    "You can do so in two different ways :\n",
    "- Keep the current formulation of the problem and find the value of $\\lambda$ such that your design constraints are satisfied,\n",
    "- Hard code your constraints into the optimization problem directly. Doing so, you may no longer have an analytic solution and might have to use `cvxpy` if your problem nonetheless remains convex.\n",
    "\n",
    "This is only a small example of what you do once you're comfortable with linear algebra and basic convex optimization theory.\n",
    "While tackling problems with thousands or millions of optimization variables might be more challenging on the computing side (albeit there are some libraries dedicated to such large-scale optimization problems), the basic mathematics remain the same.\n",
    "In some sense, the hardest part is to correctly formulate your problem.\n",
    "Once this is done, simply use the right tool for it.\n",
    "\n",
    "---\n",
    "\n",
    "## To go further\n",
    "\n",
    "Let's consider once again the smooth control and try to understand precisely why our particular choice of $\\mathbf{D}$ leads to smooth solutions.\n",
    "The optimization problem is given by\n",
    "\n",
    "$$\n",
    "\\begin{aligned}\n",
    "    \\textrm{minimize} \\quad & \\dfrac{1}{2} \\| \\mathbf{Du} \\|_2^2\\\\\n",
    "    \\textrm{subject to} \\quad & \\mathbf{Hu} = \\mathbf{y}_N.\n",
    "\\end{aligned}\n",
    "$$\n",
    "\n",
    "Using the method of Lagrange multiplier, you should have arrived at the conclusion that the solution to this optimization problem is also the solution to the following linear system\n",
    "\n",
    "$$\n",
    "\\mathbf{D}^T \\mathbf{Du} = \\mathbf{H}^T \\left( \\mathbf{H} \\left( \\mathbf{D}^T \\mathbf{D} \\right)^{-1} \\mathbf{H}^T \\right)^{-1} \\mathbf{y}_N\n",
    "$$\n",
    "\n",
    "which we'll simply write as\n",
    "\n",
    "$$\n",
    "\\mathbf{D}^T \\mathbf{Du} = \\mathbf{b}.\n",
    "$$\n",
    "\n",
    "Assume for the sake of simplicity that $N=5$ so that, for our particular choice of $\\mathbf{D}$, the matrix $\\mathbf{D}^T \\mathbf{D}$ reads\n",
    "\n",
    "$$\n",
    "\\mathbf{D}^T \\mathbf{D}\n",
    "=\n",
    "\\begin{bmatrix}\n",
    "2 & -1 & 0 & 0 & 0 \\\\\n",
    "-1 & 2 & -1 & 0 & 0 \\\\\n",
    "0 & -1 & 2 & -1 & 0 \\\\\n",
    "0 & 0 & -1 & 2 & -1 \\\\\n",
    "0 & 0 & 0 & -1 & 2\n",
    "\\end{bmatrix}\n",
    "$$\n",
    "\n",
    "This particular matrix corresponds to the finite-difference approximation of the Laplace operator $-\\nabla^2$.\n",
    "This operator is what we call an [elliptic operator](https://en.wikipedia.org/wiki/Elliptic_operator).\n",
    "Mathematically, equations involving such elliptic operators can only admit smooth solutions, hence our smooth control strategy.\n",
    "In this particular case, we can moreover show that both the right and left eigenvectors of the Laplace operator are given by sine and cosine functions."
   ]
  },
  {
   "cell_type": "code",
   "execution_count": 33,
   "id": "c4d71866",
   "metadata": {},
   "outputs": [
    {
     "data": {
      "image/png": "[encoded data removed]",
      "text/plain": [
       "<Figure size 648x216 with 1 Axes>"
      ]
     },
     "metadata": {
      "needs_background": "light"
     },
     "output_type": "display_data"
    }
   ],
   "source": [
    "# --> Definition of the D matrix.\n",
    "D = np.eye(N+1, N, k=0) - np.eye(N+1, N, k=-1)\n",
    "\n",
    "# --> Define the Laplace operator.\n",
    "L = D.T @ D\n",
    "\n",
    "# --> Spectral decomposition of L.\n",
    "λ, v = np.linalg.eig(L)\n",
    "\n",
    "# --> Sort the eigenvalues in increasing order.\n",
    "idx = np.argsort(λ.real)\n",
    "λ, v = λ[idx], v[:, idx]\n",
    "\n",
    "# --> Plot the first five eigenvectors.\n",
    "fig, ax = plt.subplots(1, 1, figsize=(9, 3))\n",
    "\n",
    "ax.plot(v[:, :5])\n",
    "ax.set(xlim=(0, N-1));"
   ]
  },
  {
   "cell_type": "markdown",
   "id": "e6b6f365",
   "metadata": {},
   "source": [
    "Since\n",
    "\n",
    "\n",
    "$$\n",
    "\\mathbf{D}^T \\mathbf{Du} = \\mathbf{b},\n",
    "$$\n",
    "\n",
    "and $\\mathbf{D}^T \\mathbf{D}$ is invertible, $\\mathbf{u}$ needs to be in the span of these eigenfunctions, i.e. it needs to be a linear combination of sines and cosines.\n",
    "These functions being smooth and satisfying the boundary conditions $f(-1) = 0$ and $f(N) = 0$, the optimal control law $\\mathbf{u}_{\\text{sopt}}$ is automatically smooth and satisifies the same boundary conditions.\n",
    "\n",
    "QED.\n",
    "\n",
    "---\n",
    "\n",
    "The same reasonning applies to the case where we try to balance the smoothness of the control and its energy-efficiency.\n",
    "The linear system resulting from the optimiality conditions reads\n",
    "\n",
    "$$\n",
    "\\left( \\mathbf{D}^T \\mathbf{D} + \\lambda \\mathbf{I} \\right) \\mathbf{u} = \\mathbf{b}.\n",
    "$$\n",
    "\n",
    "The matrix $\\mathbf{D}^T \\mathbf{D} + \\lambda \\mathbf{I}$ corresponds to the finite-difference approximation of the **Helmholtz operator** $\\lambda - \\nabla^2$.\n",
    "This operator is once again **elliptic** and the solutions thus have to be smooth.\n",
    "The parameter $\\lambda \\in \\mathbb{R}_+$ then controls the smoothness of the solutions in what are known as boundary layers in the vicinity of $k=0$ and $k=N$.\n",
    "As $\\lambda \\to 0$, the solution tends to the solution of the Laplace operator.\n",
    "Conversely, as $\\lambda \\to \\infty$, the solution exhibits sharper and sharper transitions at the boundaries of our time interval."
   ]
  }
 ],
 "metadata": {
  "@webio": {
   "lastCommId": null,
   "lastKernelId": null
  },
  "kernelspec": {
   "display_name": "Python 3 (ipykernel)",
   "language": "python",
   "name": "python3"
  },
  "language_info": {
   "codemirror_mode": {
    "name": "ipython",
    "version": 3
   },
   "file_extension": ".py",
   "mimetype": "text/x-python",
   "name": "python",
   "nbconvert_exporter": "python",
   "pygments_lexer": "ipython3",
   "version": "3.8.11"
  }
 },
 "nbformat": 4,
 "nbformat_minor": 5
}
