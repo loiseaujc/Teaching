{
 "cells": [
  {
   "cell_type": "markdown",
   "id": "54d6b2af-e818-4303-beb8-bbacb774dc77",
   "metadata": {},
   "source": [
    "# Solving underdetermined linear problems"
   ]
  },
  {
   "cell_type": "code",
   "execution_count": 1,
   "id": "8a541530-3b6d-4e3c-bebc-f7d1b6017067",
   "metadata": {},
   "outputs": [],
   "source": [
    "import numpy as np\n",
    "import cvxpy as cp\n",
    "import matplotlib.pyplot as plt"
   ]
  },
  {
   "cell_type": "markdown",
   "id": "108360e3-db52-4266-89cb-1daaf017b706",
   "metadata": {},
   "source": [
    "In this notebook, we'll explore how to solve simple underdetermined linear problems using the python package [cvxpy](https://www.cvxpy.org/index.html).\n",
    "This package is dedicated to solving [convex optimization problems](https://en.wikipedia.org/wiki/Convex_optimization).\n",
    "It allows you to express your problem in a fairly natural way that follows the math.\n",
    "**cvxpy** then does all the hard work behind the scene to convert your problem into the restrictive standard form required by the numerical solvers.\n",
    "\n",
    "## Synthetic problem\n",
    "\n",
    "Before discussing how underdetermined systems of equations can be used to model certain engineering situations, let us illustrate how to solve them with **cvxpy**.\n",
    "For that purpose, we'll consider a simple underdetermined problem\n",
    "\n",
    "$$\n",
    "\\mathbf{Ax} = \\mathbf{b}\n",
    "$$\n",
    "\n",
    "with $\\mathbf{A} \\in \\mathbb{R}^{2 \\times 20}$ a randomly generated matrix and $\\mathbf{b} \\in \\mathbb{R}^2$ a random vector.\n",
    "Our goal is to illustrate how different preconpcetions about the properties of the solution lead to vastly different solutions.\n",
    "The cell below shows how to create these synthetic data."
   ]
  },
  {
   "cell_type": "code",
   "execution_count": 2,
   "id": "eed47588-d31e-4da6-892c-b19891250e22",
   "metadata": {},
   "outputs": [],
   "source": [
    "# --> Size of the problem.\n",
    "m, n = 2, 20\n",
    "\n",
    "# --> Matrix A and vector b.\n",
    "A = np.random.randn(m, n)\n",
    "b = np.random.randn(m)"
   ]
  },
  {
   "cell_type": "markdown",
   "id": "52b7a703-ffb1-4be1-ac37-fb8f80c8be4c",
   "metadata": {},
   "source": [
    "Because we have only two equations for twenty unknowns, the problem is underdetermined and admits an infinite number of solutions.\n",
    "As discussed during the class, one way to pick one solution among this infinite set is to formulate an optimization problem.\n",
    "For the sake of simplicity, we'll consider an optimization problem of the form\n",
    "\n",
    "$$\n",
    "\\begin{aligned}\n",
    "\\textrm{minimize} \\quad & \\| \\mathbf{x} \\|_p \\\\\n",
    "\\textrm{subject to} \\quad & \\mathbf{Ax} = \\mathbf{b},\n",
    "\\end{aligned}\n",
    "$$\n",
    "\n",
    "where $\\| \\mathbf{x} \\|_p = \\sqrt[p]{\\sum_{i=1}^n \\vert x_i \\vert^p}$ is the $p$-norm of $\\mathbf{x}$.\n",
    "Provided $p \\geq 1$, this problem is **convex** and can be efficiently solved with **cvxpy**.\n",
    "Classically, we choose $p$ to be equal to $1$, $2$ or $\\infty$.\n",
    "Each of these choices leads to solutions having different properties\n",
    "- $p = 1$ correponds to minimizing the $\\ell_1$ norm. \n",
    "It tends to favor solutions wich are **sparse**, i.e. solution with most of its entries $x_i$ being equal to zero.\n",
    "In terms of control, this often corresponds to a fuel-efficient control.\n",
    "- $p = 2$ corresponds to minimizing the $\\ell_2$ norm.\n",
    "It tends to favor solutions whose entries are small on average.\n",
    "In terms of control, this often corresponds to an energy-efficient control.\n",
    "- $p = \\infty$ corresponds to minimizing the $\\ell_{\\infty}$ norm, i.e. $\\displaystyle \\max_i \\vert x_i \\vert$.\n",
    "It often corresponds to situation where $\\mathbf{x}$ has to be bounded.\n",
    "\n",
    "All these different variations of our optimization problem can be implemented using a single Python function as shown below."
   ]
  },
  {
   "cell_type": "code",
   "execution_count": 3,
   "id": "d27e4653-3556-4574-b376-41d6701c566a",
   "metadata": {},
   "outputs": [],
   "source": [
    "def solve(A, b, p=2):\n",
    "    # --> Get shape of the problem.\n",
    "    m, n = A.shape\n",
    "    \n",
    "    # --> Define optimization variable.\n",
    "    x = cp.Variable(n)\n",
    "    \n",
    "    # --> Objective function.\n",
    "    objective = cp.Minimize(cp.norm(x, p))\n",
    "    \n",
    "    # --> Constraints.\n",
    "    constraints = [ A @ x == b ]\n",
    "    \n",
    "    # --> Define the optimization problem and solve it.\n",
    "    prob = cp.Problem(objective, constraints)\n",
    "    prob.solve()\n",
    "    \n",
    "    return x.value"
   ]
  },
  {
   "cell_type": "markdown",
   "id": "23526e40-8698-4622-a8cf-169ad7f52b08",
   "metadata": {},
   "source": [
    "Choosing which version will be solved depends on the choice of the input argument `p`:\n",
    "- `p = 1` is the $\\ell_1$ norm minimization,\n",
    "- `p = 2` is the $\\ell_2$ norm minimization,\n",
    "- `p = 'inf'` is the $\\ell_{\\infty}$ norm minimization.\n",
    "\n",
    "By default, we set `p = 2` as this corresponds to most usage.\n",
    "The next few cells illustrate how the solution changes as we vary the norm we aim to minimize."
   ]
  },
  {
   "cell_type": "code",
   "execution_count": 4,
   "id": "1ec8244f-942c-4581-9096-0bc9db2bfefe",
   "metadata": {},
   "outputs": [],
   "source": [
    "# --> Least-norm solution.\n",
    "x = solve(A, b, p=2)"
   ]
  },
  {
   "cell_type": "code",
   "execution_count": 5,
   "id": "7df857d2-a642-4bab-8dd9-f403669f4690",
   "metadata": {},
   "outputs": [
    {
     "data": {
      "text/plain": [
       "<StemContainer object of 3 artists>"
      ]
     },
     "execution_count": 5,
     "metadata": {},
     "output_type": "execute_result"
    },
    {
     "data": {
      "image/png": "[encoded data removed]",
      "text/plain": [
       "<Figure size 432x288 with 1 Axes>"
      ]
     },
     "metadata": {
      "needs_background": "light"
     },
     "output_type": "display_data"
    }
   ],
   "source": [
    "# --> Plot the solution.\n",
    "plt.stem(x)"
   ]
  },
  {
   "cell_type": "code",
   "execution_count": 6,
   "id": "934360c2-974b-4497-9993-78f363123c0b",
   "metadata": {},
   "outputs": [
    {
     "data": {
      "text/plain": [
       "True"
      ]
     },
     "execution_count": 6,
     "metadata": {},
     "output_type": "execute_result"
    }
   ],
   "source": [
    "# --> Verify that it satisties the constraints to machine precision.\n",
    "np.allclose(0, A @ x - b)"
   ]
  },
  {
   "cell_type": "code",
   "execution_count": 7,
   "id": "3b8f2496-70ca-49b4-a8b5-ae244cb13b59",
   "metadata": {},
   "outputs": [],
   "source": [
    "# --> Least-absolute norm solution.\n",
    "x = solve(A, b, p=1)"
   ]
  },
  {
   "cell_type": "code",
   "execution_count": 8,
   "id": "e7721ca7-e624-4ffc-bd85-59ca4583e2d8",
   "metadata": {},
   "outputs": [
    {
     "data": {
      "text/plain": [
       "<StemContainer object of 3 artists>"
      ]
     },
     "execution_count": 8,
     "metadata": {},
     "output_type": "execute_result"
    },
    {
     "data": {
      "image/png": "[encoded data removed]",
      "text/plain": [
       "<Figure size 432x288 with 1 Axes>"
      ]
     },
     "metadata": {
      "needs_background": "light"
     },
     "output_type": "display_data"
    }
   ],
   "source": [
    "# --> Plot the solution.\n",
    "plt.stem(x)"
   ]
  },
  {
   "cell_type": "code",
   "execution_count": 9,
   "id": "6934faf3-151c-43a1-9fad-5186f1657158",
   "metadata": {},
   "outputs": [
    {
     "data": {
      "text/plain": [
       "True"
      ]
     },
     "execution_count": 9,
     "metadata": {},
     "output_type": "execute_result"
    }
   ],
   "source": [
    "# --> Verify that it satisifies the constraints to machine precision.\n",
    "np.allclose(0, A @ x - b)"
   ]
  },
  {
   "cell_type": "code",
   "execution_count": 10,
   "id": "3e48c8bb-3282-48f9-81bc-dcb2a5e0abd9",
   "metadata": {},
   "outputs": [],
   "source": [
    "# --> Least-max norm solution.\n",
    "x = solve(A, b, p=\"inf\")"
   ]
  },
  {
   "cell_type": "code",
   "execution_count": 11,
   "id": "a711c8ae-2726-4a11-bb4b-b911b9f685aa",
   "metadata": {},
   "outputs": [
    {
     "data": {
      "text/plain": [
       "<StemContainer object of 3 artists>"
      ]
     },
     "execution_count": 11,
     "metadata": {},
     "output_type": "execute_result"
    },
    {
     "data": {
      "image/png": "[encoded data removed]",
      "text/plain": [
       "<Figure size 432x288 with 1 Axes>"
      ]
     },
     "metadata": {
      "needs_background": "light"
     },
     "output_type": "display_data"
    }
   ],
   "source": [
    "# --> Plot the solution.\n",
    "plt.stem(x)"
   ]
  },
  {
   "cell_type": "code",
   "execution_count": 12,
   "id": "58e28525-602e-4bae-97f4-5f51038c37d6",
   "metadata": {},
   "outputs": [
    {
     "data": {
      "text/plain": [
       "True"
      ]
     },
     "execution_count": 12,
     "metadata": {},
     "output_type": "execute_result"
    }
   ],
   "source": [
    "# --> Verifiy it satisfies the constraints to machine precision.\n",
    "np.allclose(0, A @ x - b)"
   ]
  },
  {
   "cell_type": "markdown",
   "id": "c0314530-3976-463a-95c1-a94c7f4b40ef",
   "metadata": {},
   "source": [
    "As you can see, all the different optimization problems lead to solutions satisifying the original $\\mathbf{Ax} = \\mathbf{b}$ equations.\n",
    "They are however vastly different.\n",
    "Which solution is the best is obviously application-dependent.\n",
    "This is pretty much as far as maths can get you and where expert knowledge is required."
   ]
  },
  {
   "cell_type": "markdown",
   "id": "1ebb479f-dfb3-484b-9a84-9ceea0dee11a",
   "metadata": {},
   "source": [
    "---\n",
    "\n",
    "## A simple control problem\n",
    "\n",
    "Consider the problem of moving a frictionless mobile of unit mass initially resting at $x=0$ to the position $x=1$ with $v = 0$ by time $t = \\tau$.\n",
    "We'll assume that the governing equations are given by\n",
    "\n",
    "$$\n",
    "\\begin{aligned}\n",
    "    \\dot{x} & = v \\\\\n",
    "    \\dot{v} & = u\n",
    "\\end{aligned}\n",
    "$$\n",
    "\n",
    "where $u(t)$ is the control input we aim to design.\n",
    "For the sake of simplicity, we'll assume that $u(t)$ is piecewise constant over a time-interval $\\Delta t$.\n",
    "Doing so, we can approximate our original continuous-time system by the following discrete-time one\n",
    "\n",
    "$$\n",
    "\\begin{bmatrix}\n",
    "x_{k+1} \\\\ v_{k+1}\n",
    "\\end{bmatrix}\n",
    "=\n",
    "\\begin{bmatrix}\n",
    "1 & \\Delta t \\\\\n",
    "0 & 1\n",
    "\\end{bmatrix}\n",
    "\\begin{bmatrix}\n",
    "x_{k} \\\\ v_{k}\n",
    "\\end{bmatrix}\n",
    "+\n",
    "\\begin{bmatrix}\n",
    "0 \\\\ \\Delta t\n",
    "\\end{bmatrix}\n",
    "u_k.\n",
    "$$\n",
    "\n",
    "This system is of the general form\n",
    "\n",
    "$$\n",
    "\\begin{aligned}\n",
    "    \\mathbf{x}_{k+1} & = \\mathbf{Ax}_k + \\mathbf{Bu}_k \\\\\n",
    "    \\mathbf{y}_k & = \\mathbf{Cx}_k + \\mathbf{Du}_k\n",
    "\\end{aligned}\n",
    "$$\n",
    "\n",
    "where $\\mathbf{x} \\in \\mathbb{R}^2$ is the state of the system and $\\mathbf{A} \\in \\mathbb{R}^{2 \\times 2}$ is the dynamics matrix.\n",
    "The matrices $\\mathbf{B} \\in \\mathbb{R}^{2 \\times 1}$, $\\mathbf{C} \\in \\mathbb{R}^{2 \\times 2}$ and $\\mathbf{D} \\in \\mathbb{R}^{2 \\times 1}$ are the **input-to-state**, **state-to-output** and **input-to-output** matrices.\n",
    "For the sake of simplicity, we'll assume that\n",
    "- $\\mathbf{C} = \\mathbf{I}_{2 \\times 2}$ : we measure both the position and velocity at every time step.\n",
    "- $\\mathbf{D} = \\mathbf{0}_{2 \\times 1}$ : the input $u$ has no direct influence on our measurements.\n",
    "\n",
    "We'll also assume that $\\Delta t = 0.01$ non-dimensional time-unit.\n",
    "The function below builds these matrices."
   ]
  },
  {
   "cell_type": "code",
   "execution_count": 13,
   "id": "f48b36db-6c5a-49dd-a8e4-7a0c80025c34",
   "metadata": {},
   "outputs": [],
   "source": [
    "def build_system_matrices(Δt):\n",
    "    # --> Dynamics matrix.\n",
    "    A = np.array([[1.0, Δt], [0, 1]])\n",
    "    \n",
    "    # --> Input-to-state matrix.\n",
    "    B = np.array([[0.0], [Δt]])\n",
    "    \n",
    "    # --> Measurement matrix (state-to-output)\n",
    "    C = np.eye(2)\n",
    "    \n",
    "    # --> Input-to-output matrix.\n",
    "    D = np.zeros((2, 1))\n",
    "    \n",
    "    return A, B, C, D\n",
    "\n",
    "# --> Time-step discretization.\n",
    "Δt = 0.01\n",
    "\n",
    "# --> Get the matrices describing the system.\n",
    "A, B, C, D = build_system_matrices(Δt)"
   ]
  },
  {
   "cell_type": "markdown",
   "id": "8283b508-ad63-4091-9558-7b0ff5f7bf16",
   "metadata": {},
   "source": [
    "Starting from $\\mathbf{x} = \\begin{bmatrix} 0 & 0 \\end{bmatrix}^T$ at $t = 0$, our goal is to drive the system such that the output $\\mathbf{y}$ at time $t = \\tau$ is equal to\n",
    "\n",
    "$$\n",
    "\\mathbf{y}(\\tau) = \\mathbf{Cx}(\\tau) = \\begin{bmatrix} 1 \\\\ 0 \\end{bmatrix}.\n",
    "$$\n",
    "\n",
    "The cell below implements this final condition."
   ]
  },
  {
   "cell_type": "code",
   "execution_count": 14,
   "id": "7c33382f-7230-45c6-ae40-3a1d07e95818",
   "metadata": {},
   "outputs": [],
   "source": [
    "# --> Final position to reach.\n",
    "y_end = np.array([1.0, 0.0])"
   ]
  },
  {
   "cell_type": "markdown",
   "id": "fcfae10d-9765-446b-87e5-9ee834deddd0",
   "metadata": {},
   "source": [
    "Since we assume $u(t)$ to be piecewise constant, i.e. u(t) is constant over intervals of size $\\Delta t$, we have $N = \\tau / \\Delta t$ values to determine.\n",
    "Our control knob is thus a vector $\\mathbf{u}$ of dimension $N \\times 1$.\n",
    "In order to formulate our control problem as an underdetermined system, we need find a mapping from this control sequence $\\mathbf{u}$ to the final condition $\\mathbf{y}(\\tau) = \\mathbf{y}(N \\Delta t) = \\mathbf{y}_N$, i.e.\n",
    "\n",
    "$$\n",
    "\\mathbf{y}_N = \\mathbf{Hu}\n",
    "$$\n",
    "\n",
    "with $\\mathbf{H} \\in \\mathbb{R}^{2 \\times N}$.\n",
    "The question is thus **how to determine this matrix** $\\mathbf{H}$?\n",
    "\n",
    "To do so, let us consider the first few evolution steps.\n",
    "Starting from $\\mathbf{x}_0 = \\mathbf{0}$, we can write\n",
    "\n",
    "$$\n",
    "\\begin{aligned}\n",
    "& \\mathbf{x}_1 = \\mathbf{Ax}_0 + \\mathbf{B}u_0 = \\mathbf{B}u_0 \\quad \\text{and} \\quad \\mathbf{y}_1 = \\mathbf{Cx}_1 = \\mathbf{CB}u_0 \\\\\n",
    "& \\mathbf{x}_2 = \\mathbf{Ax}_1 + \\mathbf{B}u_1 = \\mathbf{AB}u_0 + \\mathbf{B}u_1 \\quad \\text{and} \\quad \\mathbf{y}_2 = \\mathbf{Cx}_2 = \\mathbf{CAB}u_0 + \\mathbf{CB}u_1 \\\\\n",
    "& \\mathbf{x}_3 = \\mathbf{Ax}_2 + \\mathbf{B}u_2 = \\mathbf{A}^2 \\mathbf{B}u_0 + \\mathbf{AB}u_1 + \\mathbf{B}u_2 \\quad \\text{and} \\quad \\mathbf{y}_3 = \\mathbf{Cx}_3 = \\mathbf{CA}^2 \\mathbf{B}u_0 + \\mathbf{CAB}u_1 + \\mathbf{CB}u_2\n",
    "\\end{aligned}\n",
    "$$\n",
    "\n",
    "From there, it is easy to see that\n",
    "\n",
    "$$\n",
    "\\mathbf{y}_N = \\sum_{k=1}^N \\mathbf{CA}^{k-1} \\mathbf{B}u[k-1].\n",
    "$$\n",
    "\n",
    "Alternatively, this can be written as\n",
    "\n",
    "$$\n",
    "\\mathbf{y}_N = \\mathbf{Hu}\n",
    "$$\n",
    "\n",
    "where the k<sup>th</sup> column of $\\mathbf{H}$ is given by $\\mathbf{H}_k = \\mathbf{CA}^{k-1}\\mathbf{B}$.\n",
    "This matrix is computed below."
   ]
  },
  {
   "cell_type": "code",
   "execution_count": 15,
   "id": "38b84b41-fef7-471b-b1bb-0a86a8d0470c",
   "metadata": {},
   "outputs": [],
   "source": [
    "# --> Time to reach + number of time-steps to take.\n",
    "τ = 1.0\n",
    "N = int(τ / Δt)\n",
    "\n",
    "# --> Construct the input-to-state matrix.\n",
    "H = np.hstack([C @ np.linalg.matrix_power(A, k-1) @ B for k in range(1, N+1)])[:, ::-1]"
   ]
  },
  {
   "cell_type": "markdown",
   "id": "3f0f68d2-7f42-405a-9268-0e25f201a66f",
   "metadata": {},
   "source": [
    "We now have everything we need to design our control.\n",
    "The control sequence is thus determined as the solution to the following optimization problem\n",
    "\n",
    "$$\n",
    "\\begin{aligned}\n",
    "\\textrm{minimize} \\quad & \\| \\mathbf{u} \\|_p \\\\\n",
    "\\textrm{subject to} \\quad & \\mathbf{Hu} = \\mathbf{y}_N.\n",
    "\\end{aligned}\n",
    "$$\n",
    "\n",
    "Depeding on the choice for $p$, we'll obtain different control strategies.\n",
    "The next few cells solve this optimization problem, simulate the corresponding evolution of the system and plot the corresponding time-series of $u(t)$, $v(t)$ and $x(t)$.\n",
    "Do not hesitate to change `p` to see how the control input changes."
   ]
  },
  {
   "cell_type": "code",
   "execution_count": 24,
   "id": "8d4cb835-18d9-44a3-9fca-11dcc19d9f6f",
   "metadata": {},
   "outputs": [
    {
     "name": "stdout",
     "output_type": "stream",
     "text": [
      "L1 norm of the solution : 300.0300030003031\n",
      "L2 norm of the solution : 34.64274833209974\n",
      "L_inf norm of the solution : 5.940594059406068\n"
     ]
    }
   ],
   "source": [
    "# --> Solve for the control input sequence to be applied.\n",
    "#     p = 2 --> least-norm solution (i.e. energy optimal).\n",
    "#     p = 1 --> least-absolute norm solution (i.e. fuel optimal)\n",
    "#     p = \"inf\" --> least-infinite norm solution.\n",
    "u = solve(H, y_end, p=2)\n",
    "\n",
    "print(\"L1 norm of the solution :\", np.linalg.norm(u, 1))\n",
    "print(\"L2 norm of the solution :\", np.linalg.norm(u, 2))\n",
    "print(\"L_inf norm of the solution :\", np.linalg.norm(u, np.inf))"
   ]
  },
  {
   "cell_type": "code",
   "execution_count": 25,
   "id": "99e9c933-894f-44ce-82a9-e3800aeb922e",
   "metadata": {},
   "outputs": [],
   "source": [
    "# --> SciPy utility functions for discrete-time linear systems.\n",
    "from scipy.signal import dlti, dlsim\n",
    "\n",
    "# --> Define the system.\n",
    "dynsys = dlti(A, B, C, D)\n",
    "\n",
    "# --> Simulation the system with the control sequence just computed.\n",
    "u = np.append(u, 0)\n",
    "steps, y, x = dlsim(dynsys, u)"
   ]
  },
  {
   "cell_type": "code",
   "execution_count": 26,
   "id": "3ca5e173-f219-4b28-aa19-7b81dc67f8e5",
   "metadata": {},
   "outputs": [
    {
     "data": {
      "text/plain": [
       "True"
      ]
     },
     "execution_count": 26,
     "metadata": {},
     "output_type": "execute_result"
    }
   ],
   "source": [
    "# --> Verify that last output is consistent with our goal.\n",
    "np.allclose(y[-1], y_end)"
   ]
  },
  {
   "cell_type": "code",
   "execution_count": 27,
   "id": "33d781d0-029e-4b74-a019-1e586f46c428",
   "metadata": {},
   "outputs": [
    {
     "data": {
      "text/plain": [
       "[(-0.01, 1.01), (0.0, 1.0)]"
      ]
     },
     "execution_count": 27,
     "metadata": {},
     "output_type": "execute_result"
    },
    {
     "data": {
      "image/png": "[encoded data removed]",
      "text/plain": [
       "<Figure size 576x288 with 3 Axes>"
      ]
     },
     "metadata": {
      "needs_background": "light"
     },
     "output_type": "display_data"
    }
   ],
   "source": [
    "fig, ax = plt.subplots(3, 1, figsize=(8, 4), sharex=True)\n",
    "ax[0].step(Δt*steps, u, where=\"post\")\n",
    "ax[0].set_ylabel(\"Control\")\n",
    "ax[0].axhline(0, c=\"k\", ls=\"--\", lw=1)\n",
    "\n",
    "ax[1].step(Δt*steps, x[:, 1], where=\"post\")\n",
    "ax[1].set_ylabel(\"Velocity\")\n",
    "ax[1].set_ylim(0, 3)\n",
    "\n",
    "ax[2].step(Δt*steps, x[:, 0], where=\"post\")\n",
    "ax[2].set_ylabel(\"Position\")\n",
    "ax[2].set_xlabel(\"Time\")\n",
    "ax[2].set(xlim=(-Δt, τ+Δt), ylim=(0, 1))"
   ]
  },
  {
   "cell_type": "code",
   "execution_count": null,
   "id": "a728cb47-617d-4324-856a-13f9134f60b0",
   "metadata": {},
   "outputs": [],
   "source": []
  }
 ],
 "metadata": {
  "kernelspec": {
   "display_name": "Python 3",
   "language": "python",
   "name": "python3"
  },
  "language_info": {
   "codemirror_mode": {
    "name": "ipython",
    "version": 3
   },
   "file_extension": ".py",
   "mimetype": "text/x-python",
   "name": "python",
   "nbconvert_exporter": "python",
   "pygments_lexer": "ipython3",
   "version": "3.8.8"
  }
 },
 "nbformat": 4,
 "nbformat_minor": 5
}
