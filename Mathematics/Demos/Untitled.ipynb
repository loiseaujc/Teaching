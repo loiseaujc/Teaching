{
 "cells": [
  {
   "cell_type": "code",
   "execution_count": 1,
   "id": "3322b365",
   "metadata": {},
   "outputs": [],
   "source": [
    "import numpy as np"
   ]
  },
  {
   "cell_type": "code",
   "execution_count": null,
   "id": "02040841-499d-44b1-a403-a80e2774c9e2",
   "metadata": {},
   "outputs": [],
   "source": []
  },
  {
   "cell_type": "code",
   "execution_count": null,
   "id": "0c358f1d-5c72-4f5b-bdbe-2d75ca9bdbd2",
   "metadata": {},
   "outputs": [],
   "source": [
    "def build_sys(Δt=1):\n",
    "    \n",
    "    # --> Dynamics matrix.\n",
    "    A = np.array([\n",
    "        [0.0, 1.0, 0.0, 0.0],\n",
    "        [0.0, 0.0, -mg/M, 0.0],\n",
    "        [0.0, 0.0, 0.0, 1.0],\n",
    "        [0.0, 0.0, (M+m)*g/(L*M)]\n",
    "    ])\n",
    "    \n",
    "    # --> Control matrix.\n",
    "    B \n",
    "    return"
   ]
  }
 ],
 "metadata": {
  "kernelspec": {
   "display_name": "Python 3",
   "language": "python",
   "name": "python3"
  },
  "language_info": {
   "codemirror_mode": {
    "name": "ipython",
    "version": 3
   },
   "file_extension": ".py",
   "mimetype": "text/x-python",
   "name": "python",
   "nbconvert_exporter": "python",
   "pygments_lexer": "ipython3",
   "version": "3.8.8"
  }
 },
 "nbformat": 4,
 "nbformat_minor": 5
}
