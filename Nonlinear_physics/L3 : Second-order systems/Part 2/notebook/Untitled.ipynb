{
 "cells": [
  {
   "cell_type": "code",
   "execution_count": 1,
   "id": "4ff80abf",
   "metadata": {},
   "outputs": [],
   "source": [
    "import numpy as np\n",
    "\n",
    "import sympy as smp\n",
    "\n",
    "import matplotlib.pyplot as plt"
   ]
  },
  {
   "cell_type": "code",
   "execution_count": null,
   "id": "9d5c40e8",
   "metadata": {},
   "outputs": [],
   "source": []
  },
  {
   "cell_type": "code",
   "execution_count": 50,
   "id": "d8b25e81",
   "metadata": {},
   "outputs": [],
   "source": [
    "t = smp.symbols(\"t\")\n",
    "\n",
    "x, y = smp.Function(\"x\")(t), smp.Function(\"y\")(t)\n",
    "dx, dy = x.diff(t), y.diff(t)\n",
    "\n",
    "Eqx = x * (3 - x) - 2*x*y\n",
    "Eqy = y * (2 - y) - x*y"
   ]
  },
  {
   "cell_type": "markdown",
   "id": "3ff3e18e",
   "metadata": {},
   "source": [
    "## Calcul des isoclines"
   ]
  },
  {
   "cell_type": "code",
   "execution_count": 63,
   "id": "46a3d25c",
   "metadata": {},
   "outputs": [
    {
     "data": {
      "text/plain": [
       "[0, 3 - 2*y(t)]"
      ]
     },
     "execution_count": 63,
     "metadata": {},
     "output_type": "execute_result"
    }
   ],
   "source": [
    "isox = smp.solve(smp.Eq(Eqx, 0), x)\n",
    "isox"
   ]
  },
  {
   "cell_type": "code",
   "execution_count": 64,
   "id": "b32ef75a",
   "metadata": {},
   "outputs": [
    {
     "data": {
      "text/plain": [
       "[0, 2 - x(t)]"
      ]
     },
     "execution_count": 64,
     "metadata": {},
     "output_type": "execute_result"
    }
   ],
   "source": [
    "isoy = smp.solve(smp.Eq(Eqy, 0), y)\n",
    "isoy"
   ]
  },
  {
   "cell_type": "markdown",
   "id": "ced5ea1a",
   "metadata": {},
   "source": [
    "## Calcul des points fixes"
   ]
  },
  {
   "cell_type": "code",
   "execution_count": 47,
   "id": "57a39185",
   "metadata": {},
   "outputs": [],
   "source": [
    "fixed_points = smp.solve([smp.Eq(Eqx, 0), smp.Eq(Eqy, 0)])"
   ]
  },
  {
   "cell_type": "code",
   "execution_count": 48,
   "id": "fa33c992",
   "metadata": {},
   "outputs": [
    {
     "data": {
      "text/plain": [
       "[{x(t): 0, y(t): 0},\n",
       " {x(t): 0, y(t): 2},\n",
       " {x(t): 1, y(t): 1},\n",
       " {x(t): 3, y(t): 0}]"
      ]
     },
     "execution_count": 48,
     "metadata": {},
     "output_type": "execute_result"
    }
   ],
   "source": [
    "fixed_points"
   ]
  },
  {
   "cell_type": "markdown",
   "id": "17dd12be",
   "metadata": {},
   "source": [
    "## Classification des points fixes"
   ]
  },
  {
   "cell_type": "code",
   "execution_count": 72,
   "id": "fc8e74f1",
   "metadata": {},
   "outputs": [],
   "source": [
    "# --> Calcul de la matrice Jacobienne du système.\n",
    "Jac = smp.Matrix([Eqx, Eqy]).jacobian([x, y])"
   ]
  },
  {
   "cell_type": "code",
   "execution_count": 74,
   "id": "a0f19923",
   "metadata": {},
   "outputs": [
    {
     "data": {
      "text/plain": [
       "{3: 1, 2: 1}"
      ]
     },
     "execution_count": 74,
     "metadata": {},
     "output_type": "execute_result"
    }
   ],
   "source": [
    "# --> Premier point fixe.\n",
    "λ = Jac.subs(fixed_points[0]).eigenvals()\n",
    "λ"
   ]
  },
  {
   "cell_type": "code",
   "execution_count": 75,
   "id": "437341cd",
   "metadata": {},
   "outputs": [
    {
     "data": {
      "text/plain": [
       "{-1: 1, -2: 1}"
      ]
     },
     "execution_count": 75,
     "metadata": {},
     "output_type": "execute_result"
    }
   ],
   "source": [
    "# --> Deuxième point fixe.\n",
    "λ = Jac.subs(fixed_points[1]).eigenvals()\n",
    "λ"
   ]
  },
  {
   "cell_type": "code",
   "execution_count": 76,
   "id": "dc9f4fa4",
   "metadata": {},
   "outputs": [
    {
     "data": {
      "text/plain": [
       "{-sqrt(2) - 1: 1, -1 + sqrt(2): 1}"
      ]
     },
     "execution_count": 76,
     "metadata": {},
     "output_type": "execute_result"
    }
   ],
   "source": [
    "# --> Troisième point fixe.\n",
    "λ = Jac.subs(fixed_points[2]).eigenvals()\n",
    "λ"
   ]
  },
  {
   "cell_type": "code",
   "execution_count": 77,
   "id": "c239a1f1",
   "metadata": {},
   "outputs": [
    {
     "data": {
      "text/plain": [
       "{-1: 1, -3: 1}"
      ]
     },
     "execution_count": 77,
     "metadata": {},
     "output_type": "execute_result"
    }
   ],
   "source": [
    "# --> Quatrième point fixe.\n",
    "λ = Jac.subs(fixed_points[3]).eigenvals()\n",
    "λ"
   ]
  },
  {
   "cell_type": "code",
   "execution_count": null,
   "id": "7a564abc",
   "metadata": {},
   "outputs": [],
   "source": []
  }
 ],
 "metadata": {
  "kernelspec": {
   "display_name": "Python 3 (ipykernel)",
   "language": "python",
   "name": "python3"
  },
  "language_info": {
   "codemirror_mode": {
    "name": "ipython",
    "version": 3
   },
   "file_extension": ".py",
   "mimetype": "text/x-python",
   "name": "python",
   "nbconvert_exporter": "python",
   "pygments_lexer": "ipython3",
   "version": "3.8.12"
  }
 },
 "nbformat": 4,
 "nbformat_minor": 5
}
